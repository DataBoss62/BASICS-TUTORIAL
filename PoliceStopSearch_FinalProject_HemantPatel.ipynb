{
  "cells": [
    {
      "cell_type": "markdown",
      "metadata": {
        "id": "view-in-github",
        "colab_type": "text"
      },
      "source": [
        "<a href=\"https://colab.research.google.com/github/DataBoss62/BASICS-TUTORIAL/blob/main/PoliceStopSearch_FinalProject_HemantPatel.ipynb\" target=\"_parent\"><img src=\"https://colab.research.google.com/assets/colab-badge.svg\" alt=\"Open In Colab\"/></a>"
      ]
    },
    {
      "cell_type": "markdown",
      "metadata": {
        "id": "4X4_8I6S6Skf"
      },
      "source": [
        "# Practical Machine Learning \n",
        "### Project: Model Selection"
      ]
    },
    {
      "cell_type": "markdown",
      "metadata": {
        "id": "ncMkjyd06Ski"
      },
      "source": [
        "# Abstract"
      ]
    },
    {
      "cell_type": "markdown",
      "metadata": {
        "id": "oRBQQHi76Skj"
      },
      "source": [
        "# Part 1: Business and Data Understanding"
      ]
    },
    {
      "cell_type": "markdown",
      "metadata": {
        "id": "sKGMWzg26Skj"
      },
      "source": [
        "### Q. Define the problem domain"
      ]
    },
    {
      "cell_type": "code",
      "execution_count": 2,
      "metadata": {
        "id": "dO86gwPZ6Skj"
      },
      "outputs": [],
      "source": [
        "# Dataset contains details of individuals stopped and searched by London Police and whether as a result of this a criminal action was the outcome.\n",
        "\n",
        "# 0   Type                                      Type of search (e.g. Person search, Vehicle search or both Person and vehicle search)\n",
        "# 1   Date                                      When search happened (Date and time stamp)\n",
        "# 2   Part of a policing operation            \n",
        "# 3   Policing operation                        \n",
        "# 4   Latitude                                  Latitude of place of search\n",
        "# 5   Longitude                                 Longitude of place of search\n",
        "# 6   Gender                                    Male or Female\n",
        "# 7   Age range                                 (18-24, 25-34 or over 34)\n",
        "# 8   Self-defined ethnicity                    Range of ethnicities , 30 off(e.g Asian-Asian British Chinese, etc)\n",
        "# 9   Officer-defined ethnicity                 Range of ethnicities , 4 (Black, White, Asian, other)\n",
        "# 10  Legislation                               relevant legislation reference, 8 off (e.g. Misuse of Drugs Act 1971 (section 23))\n",
        "# 11  Object of search                          items searched (e,g, firearms, controlled drugs)\n",
        "# 12  Outcome                                   Eventual outcome, (e.g. Suspect arrested, Nothing found - no further action)\n",
        "# 13  Outcome linked to object of search        True or False\n",
        "# 14  Removal of more than just outer clothing  True or False"
      ]
    },
    {
      "cell_type": "markdown",
      "metadata": {
        "id": "XF07fwjp6Skk"
      },
      "source": [
        "### Q. Identify candidate questions for your machine learning project"
      ]
    },
    {
      "cell_type": "code",
      "source": [
        "# What if any is the correlation of the above features to the Outcome?\n",
        "# Can you machine learn a model such that given a specific age, self-defined ethnicity, type of search , object of search, the Outcome can be predicted to be True if criminal or False if not"
      ],
      "metadata": {
        "id": "3kMPZ_uHzmQi"
      },
      "execution_count": 3,
      "outputs": []
    },
    {
      "cell_type": "code",
      "execution_count": 3,
      "metadata": {
        "id": "557TpLDM6Skk"
      },
      "outputs": [],
      "source": [
        ""
      ]
    },
    {
      "cell_type": "markdown",
      "metadata": {
        "id": "iutgzVDO6Skk"
      },
      "source": [
        "### Q. Identify a suitable dataset for your canditate question(s)"
      ]
    },
    {
      "cell_type": "markdown",
      "metadata": {
        "id": "WeOj3JHB6Skl"
      },
      "source": [
        "Go have a look at any of these websites:\n",
        "\n",
        "* https://www.kaggle.com/datasets \n",
        "* https://datasetsearch.research.google.com/\n",
        "* https://data.gov.uk/\n",
        "\n",
        "Find an interesting looking data set related to your problem domain and get a copy of it\n"
      ]
    },
    {
      "cell_type": "code",
      "execution_count": null,
      "metadata": {
        "id": "UsKnl3Bi6Skl"
      },
      "outputs": [],
      "source": [
        "# Reading in the data\n",
        "# import all the libraries and modules I'll be needing\n",
        "import pandas as pd # data processing\n",
        "import numpy as np # maths\n",
        "# plotting libraries\n",
        "import matplotlib.pyplot as plt\n",
        "import seaborn as sns\n",
        "# ML libraries\n",
        "from sklearn.preprocessing import LabelEncoder\n",
        "from sklearn.model_selection import train_test_split\n",
        "from sklearn.metrics import confusion_matrix\n",
        "from sklearn.metrics import classification_report\n",
        "from sklearn.metrics import accuracy_score\n",
        "\n",
        "sns.set()\n",
        "\n",
        "\n",
        "\n",
        "! pip install azureml-core\n",
        "! pip install azureml-dataprep\n",
        "\n",
        "# azureml-core of version 1.0.72 or higher is required\n",
        "# azureml-dataprep[pandas] of version 1.1.34 or higher is required\n",
        "from azureml.core import Workspace, Dataset\n",
        "\n",
        "subscription_id = '284fa756-9f27-4173-8d91-0a7afbd7e46d'\n",
        "resource_group = 'MachineLearningServices'\n",
        "workspace_name = 'HemantML'\n",
        "\n",
        "workspace = Workspace(subscription_id, resource_group, workspace_name)\n",
        "\n",
        "dataset = Dataset.get_by_name(workspace, name='Police-stop-hem')\n",
        "data = dataset.to_pandas_dataframe()"
      ]
    },
    {
      "cell_type": "markdown",
      "metadata": {
        "id": "_Ac9e63I6Skl"
      },
      "source": [
        "### Q. Generate a descriptive statistics report for the columns in your dataset"
      ]
    },
    {
      "cell_type": "code",
      "execution_count": 5,
      "metadata": {
        "id": "WiBV97I_6Skm",
        "colab": {
          "base_uri": "https://localhost:8080/",
          "height": 378
        },
        "outputId": "49751321-733c-4093-e1cf-90504c007d58"
      },
      "outputs": [
        {
          "output_type": "execute_result",
          "data": {
            "text/plain": [
              "                 Type  Date  Part of a policing operation  Policing operation  \\\n",
              "count            4679  4679                            35                  35   \n",
              "unique              4  4447                             1                   1   \n",
              "top     Person search  Date  Part of a policing operation  Policing operation   \n",
              "freq             3325    35                            35                  35   \n",
              "\n",
              "         Latitude  Longitude Gender Age range  \\\n",
              "count        2398       2398   4620      4394   \n",
              "unique        483        488      4         5   \n",
              "top     51.527286  -0.215815   Male     18-24   \n",
              "freq          126        126   4161      1642   \n",
              "\n",
              "                 Self-defined ethnicity Officer-defined ethnicity  \\\n",
              "count                              4423                      4415   \n",
              "unique                               35                         5   \n",
              "top     Other ethnic group - Not stated                     White   \n",
              "freq                                988                      2326   \n",
              "\n",
              "                                  Legislation  Object of search  \\\n",
              "count                                    4635              4587   \n",
              "unique                                      9                12   \n",
              "top     Misuse of Drugs Act 1971 (section 23)  Controlled drugs   \n",
              "freq                                     2244              2220   \n",
              "\n",
              "                             Outcome Outcome linked to object of search  \\\n",
              "count                           4411                               4169   \n",
              "unique                            16                                  3   \n",
              "top     A no further action disposal                              False   \n",
              "freq                            1773                               2734   \n",
              "\n",
              "       Removal of more than just outer clothing  \n",
              "count                                      4602  \n",
              "unique                                        3  \n",
              "top                                       False  \n",
              "freq                                       4440  "
            ],
            "text/html": [
              "\n",
              "  <div id=\"df-6bcaa2a1-989f-4838-bce9-0d8724839252\">\n",
              "    <div class=\"colab-df-container\">\n",
              "      <div>\n",
              "<style scoped>\n",
              "    .dataframe tbody tr th:only-of-type {\n",
              "        vertical-align: middle;\n",
              "    }\n",
              "\n",
              "    .dataframe tbody tr th {\n",
              "        vertical-align: top;\n",
              "    }\n",
              "\n",
              "    .dataframe thead th {\n",
              "        text-align: right;\n",
              "    }\n",
              "</style>\n",
              "<table border=\"1\" class=\"dataframe\">\n",
              "  <thead>\n",
              "    <tr style=\"text-align: right;\">\n",
              "      <th></th>\n",
              "      <th>Type</th>\n",
              "      <th>Date</th>\n",
              "      <th>Part of a policing operation</th>\n",
              "      <th>Policing operation</th>\n",
              "      <th>Latitude</th>\n",
              "      <th>Longitude</th>\n",
              "      <th>Gender</th>\n",
              "      <th>Age range</th>\n",
              "      <th>Self-defined ethnicity</th>\n",
              "      <th>Officer-defined ethnicity</th>\n",
              "      <th>Legislation</th>\n",
              "      <th>Object of search</th>\n",
              "      <th>Outcome</th>\n",
              "      <th>Outcome linked to object of search</th>\n",
              "      <th>Removal of more than just outer clothing</th>\n",
              "    </tr>\n",
              "  </thead>\n",
              "  <tbody>\n",
              "    <tr>\n",
              "      <th>count</th>\n",
              "      <td>4679</td>\n",
              "      <td>4679</td>\n",
              "      <td>35</td>\n",
              "      <td>35</td>\n",
              "      <td>2398</td>\n",
              "      <td>2398</td>\n",
              "      <td>4620</td>\n",
              "      <td>4394</td>\n",
              "      <td>4423</td>\n",
              "      <td>4415</td>\n",
              "      <td>4635</td>\n",
              "      <td>4587</td>\n",
              "      <td>4411</td>\n",
              "      <td>4169</td>\n",
              "      <td>4602</td>\n",
              "    </tr>\n",
              "    <tr>\n",
              "      <th>unique</th>\n",
              "      <td>4</td>\n",
              "      <td>4447</td>\n",
              "      <td>1</td>\n",
              "      <td>1</td>\n",
              "      <td>483</td>\n",
              "      <td>488</td>\n",
              "      <td>4</td>\n",
              "      <td>5</td>\n",
              "      <td>35</td>\n",
              "      <td>5</td>\n",
              "      <td>9</td>\n",
              "      <td>12</td>\n",
              "      <td>16</td>\n",
              "      <td>3</td>\n",
              "      <td>3</td>\n",
              "    </tr>\n",
              "    <tr>\n",
              "      <th>top</th>\n",
              "      <td>Person search</td>\n",
              "      <td>Date</td>\n",
              "      <td>Part of a policing operation</td>\n",
              "      <td>Policing operation</td>\n",
              "      <td>51.527286</td>\n",
              "      <td>-0.215815</td>\n",
              "      <td>Male</td>\n",
              "      <td>18-24</td>\n",
              "      <td>Other ethnic group - Not stated</td>\n",
              "      <td>White</td>\n",
              "      <td>Misuse of Drugs Act 1971 (section 23)</td>\n",
              "      <td>Controlled drugs</td>\n",
              "      <td>A no further action disposal</td>\n",
              "      <td>False</td>\n",
              "      <td>False</td>\n",
              "    </tr>\n",
              "    <tr>\n",
              "      <th>freq</th>\n",
              "      <td>3325</td>\n",
              "      <td>35</td>\n",
              "      <td>35</td>\n",
              "      <td>35</td>\n",
              "      <td>126</td>\n",
              "      <td>126</td>\n",
              "      <td>4161</td>\n",
              "      <td>1642</td>\n",
              "      <td>988</td>\n",
              "      <td>2326</td>\n",
              "      <td>2244</td>\n",
              "      <td>2220</td>\n",
              "      <td>1773</td>\n",
              "      <td>2734</td>\n",
              "      <td>4440</td>\n",
              "    </tr>\n",
              "  </tbody>\n",
              "</table>\n",
              "</div>\n",
              "      <button class=\"colab-df-convert\" onclick=\"convertToInteractive('df-6bcaa2a1-989f-4838-bce9-0d8724839252')\"\n",
              "              title=\"Convert this dataframe to an interactive table.\"\n",
              "              style=\"display:none;\">\n",
              "        \n",
              "  <svg xmlns=\"http://www.w3.org/2000/svg\" height=\"24px\"viewBox=\"0 0 24 24\"\n",
              "       width=\"24px\">\n",
              "    <path d=\"M0 0h24v24H0V0z\" fill=\"none\"/>\n",
              "    <path d=\"M18.56 5.44l.94 2.06.94-2.06 2.06-.94-2.06-.94-.94-2.06-.94 2.06-2.06.94zm-11 1L8.5 8.5l.94-2.06 2.06-.94-2.06-.94L8.5 2.5l-.94 2.06-2.06.94zm10 10l.94 2.06.94-2.06 2.06-.94-2.06-.94-.94-2.06-.94 2.06-2.06.94z\"/><path d=\"M17.41 7.96l-1.37-1.37c-.4-.4-.92-.59-1.43-.59-.52 0-1.04.2-1.43.59L10.3 9.45l-7.72 7.72c-.78.78-.78 2.05 0 2.83L4 21.41c.39.39.9.59 1.41.59.51 0 1.02-.2 1.41-.59l7.78-7.78 2.81-2.81c.8-.78.8-2.07 0-2.86zM5.41 20L4 18.59l7.72-7.72 1.47 1.35L5.41 20z\"/>\n",
              "  </svg>\n",
              "      </button>\n",
              "      \n",
              "  <style>\n",
              "    .colab-df-container {\n",
              "      display:flex;\n",
              "      flex-wrap:wrap;\n",
              "      gap: 12px;\n",
              "    }\n",
              "\n",
              "    .colab-df-convert {\n",
              "      background-color: #E8F0FE;\n",
              "      border: none;\n",
              "      border-radius: 50%;\n",
              "      cursor: pointer;\n",
              "      display: none;\n",
              "      fill: #1967D2;\n",
              "      height: 32px;\n",
              "      padding: 0 0 0 0;\n",
              "      width: 32px;\n",
              "    }\n",
              "\n",
              "    .colab-df-convert:hover {\n",
              "      background-color: #E2EBFA;\n",
              "      box-shadow: 0px 1px 2px rgba(60, 64, 67, 0.3), 0px 1px 3px 1px rgba(60, 64, 67, 0.15);\n",
              "      fill: #174EA6;\n",
              "    }\n",
              "\n",
              "    [theme=dark] .colab-df-convert {\n",
              "      background-color: #3B4455;\n",
              "      fill: #D2E3FC;\n",
              "    }\n",
              "\n",
              "    [theme=dark] .colab-df-convert:hover {\n",
              "      background-color: #434B5C;\n",
              "      box-shadow: 0px 1px 3px 1px rgba(0, 0, 0, 0.15);\n",
              "      filter: drop-shadow(0px 1px 2px rgba(0, 0, 0, 0.3));\n",
              "      fill: #FFFFFF;\n",
              "    }\n",
              "  </style>\n",
              "\n",
              "      <script>\n",
              "        const buttonEl =\n",
              "          document.querySelector('#df-6bcaa2a1-989f-4838-bce9-0d8724839252 button.colab-df-convert');\n",
              "        buttonEl.style.display =\n",
              "          google.colab.kernel.accessAllowed ? 'block' : 'none';\n",
              "\n",
              "        async function convertToInteractive(key) {\n",
              "          const element = document.querySelector('#df-6bcaa2a1-989f-4838-bce9-0d8724839252');\n",
              "          const dataTable =\n",
              "            await google.colab.kernel.invokeFunction('convertToInteractive',\n",
              "                                                     [key], {});\n",
              "          if (!dataTable) return;\n",
              "\n",
              "          const docLinkHtml = 'Like what you see? Visit the ' +\n",
              "            '<a target=\"_blank\" href=https://colab.research.google.com/notebooks/data_table.ipynb>data table notebook</a>'\n",
              "            + ' to learn more about interactive tables.';\n",
              "          element.innerHTML = '';\n",
              "          dataTable['output_type'] = 'display_data';\n",
              "          await google.colab.output.renderOutput(dataTable, element);\n",
              "          const docLink = document.createElement('div');\n",
              "          docLink.innerHTML = docLinkHtml;\n",
              "          element.appendChild(docLink);\n",
              "        }\n",
              "      </script>\n",
              "    </div>\n",
              "  </div>\n",
              "  "
            ]
          },
          "metadata": {},
          "execution_count": 5
        }
      ],
      "source": [
        "data.describe()\n",
        "\n"
      ]
    },
    {
      "cell_type": "code",
      "source": [
        "# can see there are very few values for columns 3,4,5 and 6. These should be dropped. 4679 rows and 15 columns\n",
        "print(data.shape)\n",
        "data.head(5)\n"
      ],
      "metadata": {
        "colab": {
          "base_uri": "https://localhost:8080/",
          "height": 722
        },
        "id": "IREPomho4KIQ",
        "outputId": "392cea9b-1a0f-4ea1-e0b4-746c00f73570"
      },
      "execution_count": 6,
      "outputs": [
        {
          "output_type": "stream",
          "name": "stdout",
          "text": [
            "(4679, 15)\n"
          ]
        },
        {
          "output_type": "execute_result",
          "data": {
            "text/plain": [
              "                        Type                       Date  \\\n",
              "0              Person search  2016-10-01T13:16:00+00:00   \n",
              "1              Person search  2016-10-01T22:30:00+00:00   \n",
              "2  Person and Vehicle search  2016-10-02T00:15:00+00:00   \n",
              "3  Person and Vehicle search  2016-10-02T00:15:00+00:00   \n",
              "4  Person and Vehicle search  2016-10-04T13:05:00+00:00   \n",
              "\n",
              "  Part of a policing operation Policing operation Latitude Longitude  Gender  \\\n",
              "0                         None               None     None      None    Male   \n",
              "1                         None               None     None      None    Male   \n",
              "2                         None               None     None      None    Male   \n",
              "3                         None               None     None      None  Female   \n",
              "4                         None               None     None      None    Male   \n",
              "\n",
              "  Age range                          Self-defined ethnicity  \\\n",
              "0     18-24           Black or Black British - African (B2)   \n",
              "1     25-34  White - Any other White ethnic background (W9)   \n",
              "2     18-24           Black or Black British - African (B2)   \n",
              "3     18-24           Black or Black British - African (B2)   \n",
              "4     18-24  White - Any other White ethnic background (W9)   \n",
              "\n",
              "  Officer-defined ethnicity                            Legislation  \\\n",
              "0                     White  Misuse of Drugs Act 1971 (section 23)   \n",
              "1                     White  Misuse of Drugs Act 1971 (section 23)   \n",
              "2                     Black  Misuse of Drugs Act 1971 (section 23)   \n",
              "3                     Black  Misuse of Drugs Act 1971 (section 23)   \n",
              "4                     White  Misuse of Drugs Act 1971 (section 23)   \n",
              "\n",
              "   Object of search                                  Outcome  \\\n",
              "0  Controlled drugs  Offender given drugs possession warning   \n",
              "1  Controlled drugs        Nothing found - no further action   \n",
              "2  Controlled drugs               Suspect summonsed to court   \n",
              "3  Controlled drugs        Nothing found - no further action   \n",
              "4  Controlled drugs                         Suspect arrested   \n",
              "\n",
              "  Outcome linked to object of search Removal of more than just outer clothing  \n",
              "0                               True                                    False  \n",
              "1                               None                                    False  \n",
              "2                              False                                    False  \n",
              "3                               None                                    False  \n",
              "4                               True                                    False  "
            ],
            "text/html": [
              "\n",
              "  <div id=\"df-c23f094b-9fed-42fd-86bf-ac2cdbf7dc2b\">\n",
              "    <div class=\"colab-df-container\">\n",
              "      <div>\n",
              "<style scoped>\n",
              "    .dataframe tbody tr th:only-of-type {\n",
              "        vertical-align: middle;\n",
              "    }\n",
              "\n",
              "    .dataframe tbody tr th {\n",
              "        vertical-align: top;\n",
              "    }\n",
              "\n",
              "    .dataframe thead th {\n",
              "        text-align: right;\n",
              "    }\n",
              "</style>\n",
              "<table border=\"1\" class=\"dataframe\">\n",
              "  <thead>\n",
              "    <tr style=\"text-align: right;\">\n",
              "      <th></th>\n",
              "      <th>Type</th>\n",
              "      <th>Date</th>\n",
              "      <th>Part of a policing operation</th>\n",
              "      <th>Policing operation</th>\n",
              "      <th>Latitude</th>\n",
              "      <th>Longitude</th>\n",
              "      <th>Gender</th>\n",
              "      <th>Age range</th>\n",
              "      <th>Self-defined ethnicity</th>\n",
              "      <th>Officer-defined ethnicity</th>\n",
              "      <th>Legislation</th>\n",
              "      <th>Object of search</th>\n",
              "      <th>Outcome</th>\n",
              "      <th>Outcome linked to object of search</th>\n",
              "      <th>Removal of more than just outer clothing</th>\n",
              "    </tr>\n",
              "  </thead>\n",
              "  <tbody>\n",
              "    <tr>\n",
              "      <th>0</th>\n",
              "      <td>Person search</td>\n",
              "      <td>2016-10-01T13:16:00+00:00</td>\n",
              "      <td>None</td>\n",
              "      <td>None</td>\n",
              "      <td>None</td>\n",
              "      <td>None</td>\n",
              "      <td>Male</td>\n",
              "      <td>18-24</td>\n",
              "      <td>Black or Black British - African (B2)</td>\n",
              "      <td>White</td>\n",
              "      <td>Misuse of Drugs Act 1971 (section 23)</td>\n",
              "      <td>Controlled drugs</td>\n",
              "      <td>Offender given drugs possession warning</td>\n",
              "      <td>True</td>\n",
              "      <td>False</td>\n",
              "    </tr>\n",
              "    <tr>\n",
              "      <th>1</th>\n",
              "      <td>Person search</td>\n",
              "      <td>2016-10-01T22:30:00+00:00</td>\n",
              "      <td>None</td>\n",
              "      <td>None</td>\n",
              "      <td>None</td>\n",
              "      <td>None</td>\n",
              "      <td>Male</td>\n",
              "      <td>25-34</td>\n",
              "      <td>White - Any other White ethnic background (W9)</td>\n",
              "      <td>White</td>\n",
              "      <td>Misuse of Drugs Act 1971 (section 23)</td>\n",
              "      <td>Controlled drugs</td>\n",
              "      <td>Nothing found - no further action</td>\n",
              "      <td>None</td>\n",
              "      <td>False</td>\n",
              "    </tr>\n",
              "    <tr>\n",
              "      <th>2</th>\n",
              "      <td>Person and Vehicle search</td>\n",
              "      <td>2016-10-02T00:15:00+00:00</td>\n",
              "      <td>None</td>\n",
              "      <td>None</td>\n",
              "      <td>None</td>\n",
              "      <td>None</td>\n",
              "      <td>Male</td>\n",
              "      <td>18-24</td>\n",
              "      <td>Black or Black British - African (B2)</td>\n",
              "      <td>Black</td>\n",
              "      <td>Misuse of Drugs Act 1971 (section 23)</td>\n",
              "      <td>Controlled drugs</td>\n",
              "      <td>Suspect summonsed to court</td>\n",
              "      <td>False</td>\n",
              "      <td>False</td>\n",
              "    </tr>\n",
              "    <tr>\n",
              "      <th>3</th>\n",
              "      <td>Person and Vehicle search</td>\n",
              "      <td>2016-10-02T00:15:00+00:00</td>\n",
              "      <td>None</td>\n",
              "      <td>None</td>\n",
              "      <td>None</td>\n",
              "      <td>None</td>\n",
              "      <td>Female</td>\n",
              "      <td>18-24</td>\n",
              "      <td>Black or Black British - African (B2)</td>\n",
              "      <td>Black</td>\n",
              "      <td>Misuse of Drugs Act 1971 (section 23)</td>\n",
              "      <td>Controlled drugs</td>\n",
              "      <td>Nothing found - no further action</td>\n",
              "      <td>None</td>\n",
              "      <td>False</td>\n",
              "    </tr>\n",
              "    <tr>\n",
              "      <th>4</th>\n",
              "      <td>Person and Vehicle search</td>\n",
              "      <td>2016-10-04T13:05:00+00:00</td>\n",
              "      <td>None</td>\n",
              "      <td>None</td>\n",
              "      <td>None</td>\n",
              "      <td>None</td>\n",
              "      <td>Male</td>\n",
              "      <td>18-24</td>\n",
              "      <td>White - Any other White ethnic background (W9)</td>\n",
              "      <td>White</td>\n",
              "      <td>Misuse of Drugs Act 1971 (section 23)</td>\n",
              "      <td>Controlled drugs</td>\n",
              "      <td>Suspect arrested</td>\n",
              "      <td>True</td>\n",
              "      <td>False</td>\n",
              "    </tr>\n",
              "  </tbody>\n",
              "</table>\n",
              "</div>\n",
              "      <button class=\"colab-df-convert\" onclick=\"convertToInteractive('df-c23f094b-9fed-42fd-86bf-ac2cdbf7dc2b')\"\n",
              "              title=\"Convert this dataframe to an interactive table.\"\n",
              "              style=\"display:none;\">\n",
              "        \n",
              "  <svg xmlns=\"http://www.w3.org/2000/svg\" height=\"24px\"viewBox=\"0 0 24 24\"\n",
              "       width=\"24px\">\n",
              "    <path d=\"M0 0h24v24H0V0z\" fill=\"none\"/>\n",
              "    <path d=\"M18.56 5.44l.94 2.06.94-2.06 2.06-.94-2.06-.94-.94-2.06-.94 2.06-2.06.94zm-11 1L8.5 8.5l.94-2.06 2.06-.94-2.06-.94L8.5 2.5l-.94 2.06-2.06.94zm10 10l.94 2.06.94-2.06 2.06-.94-2.06-.94-.94-2.06-.94 2.06-2.06.94z\"/><path d=\"M17.41 7.96l-1.37-1.37c-.4-.4-.92-.59-1.43-.59-.52 0-1.04.2-1.43.59L10.3 9.45l-7.72 7.72c-.78.78-.78 2.05 0 2.83L4 21.41c.39.39.9.59 1.41.59.51 0 1.02-.2 1.41-.59l7.78-7.78 2.81-2.81c.8-.78.8-2.07 0-2.86zM5.41 20L4 18.59l7.72-7.72 1.47 1.35L5.41 20z\"/>\n",
              "  </svg>\n",
              "      </button>\n",
              "      \n",
              "  <style>\n",
              "    .colab-df-container {\n",
              "      display:flex;\n",
              "      flex-wrap:wrap;\n",
              "      gap: 12px;\n",
              "    }\n",
              "\n",
              "    .colab-df-convert {\n",
              "      background-color: #E8F0FE;\n",
              "      border: none;\n",
              "      border-radius: 50%;\n",
              "      cursor: pointer;\n",
              "      display: none;\n",
              "      fill: #1967D2;\n",
              "      height: 32px;\n",
              "      padding: 0 0 0 0;\n",
              "      width: 32px;\n",
              "    }\n",
              "\n",
              "    .colab-df-convert:hover {\n",
              "      background-color: #E2EBFA;\n",
              "      box-shadow: 0px 1px 2px rgba(60, 64, 67, 0.3), 0px 1px 3px 1px rgba(60, 64, 67, 0.15);\n",
              "      fill: #174EA6;\n",
              "    }\n",
              "\n",
              "    [theme=dark] .colab-df-convert {\n",
              "      background-color: #3B4455;\n",
              "      fill: #D2E3FC;\n",
              "    }\n",
              "\n",
              "    [theme=dark] .colab-df-convert:hover {\n",
              "      background-color: #434B5C;\n",
              "      box-shadow: 0px 1px 3px 1px rgba(0, 0, 0, 0.15);\n",
              "      filter: drop-shadow(0px 1px 2px rgba(0, 0, 0, 0.3));\n",
              "      fill: #FFFFFF;\n",
              "    }\n",
              "  </style>\n",
              "\n",
              "      <script>\n",
              "        const buttonEl =\n",
              "          document.querySelector('#df-c23f094b-9fed-42fd-86bf-ac2cdbf7dc2b button.colab-df-convert');\n",
              "        buttonEl.style.display =\n",
              "          google.colab.kernel.accessAllowed ? 'block' : 'none';\n",
              "\n",
              "        async function convertToInteractive(key) {\n",
              "          const element = document.querySelector('#df-c23f094b-9fed-42fd-86bf-ac2cdbf7dc2b');\n",
              "          const dataTable =\n",
              "            await google.colab.kernel.invokeFunction('convertToInteractive',\n",
              "                                                     [key], {});\n",
              "          if (!dataTable) return;\n",
              "\n",
              "          const docLinkHtml = 'Like what you see? Visit the ' +\n",
              "            '<a target=\"_blank\" href=https://colab.research.google.com/notebooks/data_table.ipynb>data table notebook</a>'\n",
              "            + ' to learn more about interactive tables.';\n",
              "          element.innerHTML = '';\n",
              "          dataTable['output_type'] = 'display_data';\n",
              "          await google.colab.output.renderOutput(dataTable, element);\n",
              "          const docLink = document.createElement('div');\n",
              "          docLink.innerHTML = docLinkHtml;\n",
              "          element.appendChild(docLink);\n",
              "        }\n",
              "      </script>\n",
              "    </div>\n",
              "  </div>\n",
              "  "
            ]
          },
          "metadata": {},
          "execution_count": 6
        }
      ]
    },
    {
      "cell_type": "code",
      "source": [
        "data.info()"
      ],
      "metadata": {
        "colab": {
          "base_uri": "https://localhost:8080/"
        },
        "id": "OZxr8xGl9xsV",
        "outputId": "899bbf24-1823-4cd4-9047-180cbaab4a4b"
      },
      "execution_count": 7,
      "outputs": [
        {
          "output_type": "stream",
          "name": "stdout",
          "text": [
            "<class 'pandas.core.frame.DataFrame'>\n",
            "RangeIndex: 4679 entries, 0 to 4678\n",
            "Data columns (total 15 columns):\n",
            " #   Column                                    Non-Null Count  Dtype \n",
            "---  ------                                    --------------  ----- \n",
            " 0   Type                                      4679 non-null   object\n",
            " 1   Date                                      4679 non-null   object\n",
            " 2   Part of a policing operation              35 non-null     object\n",
            " 3   Policing operation                        35 non-null     object\n",
            " 4   Latitude                                  2398 non-null   object\n",
            " 5   Longitude                                 2398 non-null   object\n",
            " 6   Gender                                    4620 non-null   object\n",
            " 7   Age range                                 4394 non-null   object\n",
            " 8   Self-defined ethnicity                    4423 non-null   object\n",
            " 9   Officer-defined ethnicity                 4415 non-null   object\n",
            " 10  Legislation                               4635 non-null   object\n",
            " 11  Object of search                          4587 non-null   object\n",
            " 12  Outcome                                   4411 non-null   object\n",
            " 13  Outcome linked to object of search        4169 non-null   object\n",
            " 14  Removal of more than just outer clothing  4602 non-null   object\n",
            "dtypes: object(15)\n",
            "memory usage: 548.4+ KB\n"
          ]
        }
      ]
    },
    {
      "cell_type": "code",
      "source": [
        "# cardinality - count of unique values in a column\n",
        "for cname in data.columns:\n",
        "  print(cname + \" : \" + str(data[cname].value_counts().count()))"
      ],
      "metadata": {
        "colab": {
          "base_uri": "https://localhost:8080/"
        },
        "id": "ZeVJG81g-beB",
        "outputId": "295adb16-9749-4478-b2a2-7cb573901172"
      },
      "execution_count": 8,
      "outputs": [
        {
          "output_type": "stream",
          "name": "stdout",
          "text": [
            "Type : 4\n",
            "Date : 4447\n",
            "Part of a policing operation : 1\n",
            "Policing operation : 1\n",
            "Latitude : 483\n",
            "Longitude : 488\n",
            "Gender : 4\n",
            "Age range : 5\n",
            "Self-defined ethnicity : 35\n",
            "Officer-defined ethnicity : 5\n",
            "Legislation : 9\n",
            "Object of search : 12\n",
            "Outcome : 16\n",
            "Outcome linked to object of search : 3\n",
            "Removal of more than just outer clothing : 3\n"
          ]
        }
      ]
    },
    {
      "cell_type": "code",
      "source": [
        "\n"
      ],
      "metadata": {
        "id": "358wBYmSAI6J"
      },
      "execution_count": 8,
      "outputs": []
    },
    {
      "cell_type": "markdown",
      "metadata": {
        "id": "mpp-aSOW6Skm"
      },
      "source": [
        "# Part 2: Data Preparation"
      ]
    },
    {
      "cell_type": "markdown",
      "metadata": {
        "id": "M9I5_ljZ6Skm"
      },
      "source": [
        "### Q. Discuss the following types of missing data and how they would be handled in reference to your dataset where applicable.\n",
        "*\tMissing completely at random (MCAR)\n",
        "*\tMissing at random (MAR)\n",
        "*\tMissing Not at Random (MNAR)"
      ]
    },
    {
      "cell_type": "code",
      "execution_count": 9,
      "metadata": {
        "id": "ITGJtw_V6Skm",
        "colab": {
          "base_uri": "https://localhost:8080/",
          "height": 704
        },
        "outputId": "00473624-1dd4-4f92-e1d7-f0b161d3fb62"
      },
      "outputs": [
        {
          "output_type": "execute_result",
          "data": {
            "text/plain": [
              "                        Type                       Date  Gender Age range  \\\n",
              "0              Person search  2016-10-01T13:16:00+00:00    Male     18-24   \n",
              "1              Person search  2016-10-01T22:30:00+00:00    Male     25-34   \n",
              "2  Person and Vehicle search  2016-10-02T00:15:00+00:00    Male     18-24   \n",
              "3  Person and Vehicle search  2016-10-02T00:15:00+00:00  Female     18-24   \n",
              "4  Person and Vehicle search  2016-10-04T13:05:00+00:00    Male     18-24   \n",
              "\n",
              "                           Self-defined ethnicity Officer-defined ethnicity  \\\n",
              "0           Black or Black British - African (B2)                     White   \n",
              "1  White - Any other White ethnic background (W9)                     White   \n",
              "2           Black or Black British - African (B2)                     Black   \n",
              "3           Black or Black British - African (B2)                     Black   \n",
              "4  White - Any other White ethnic background (W9)                     White   \n",
              "\n",
              "                             Legislation  Object of search  \\\n",
              "0  Misuse of Drugs Act 1971 (section 23)  Controlled drugs   \n",
              "1  Misuse of Drugs Act 1971 (section 23)  Controlled drugs   \n",
              "2  Misuse of Drugs Act 1971 (section 23)  Controlled drugs   \n",
              "3  Misuse of Drugs Act 1971 (section 23)  Controlled drugs   \n",
              "4  Misuse of Drugs Act 1971 (section 23)  Controlled drugs   \n",
              "\n",
              "                                   Outcome Outcome linked to object of search  \\\n",
              "0  Offender given drugs possession warning                               True   \n",
              "1        Nothing found - no further action                               None   \n",
              "2               Suspect summonsed to court                              False   \n",
              "3        Nothing found - no further action                               None   \n",
              "4                         Suspect arrested                               True   \n",
              "\n",
              "  Removal of more than just outer clothing  \n",
              "0                                    False  \n",
              "1                                    False  \n",
              "2                                    False  \n",
              "3                                    False  \n",
              "4                                    False  "
            ],
            "text/html": [
              "\n",
              "  <div id=\"df-47eaf284-4048-4cd8-93bb-ba0a4cce1681\">\n",
              "    <div class=\"colab-df-container\">\n",
              "      <div>\n",
              "<style scoped>\n",
              "    .dataframe tbody tr th:only-of-type {\n",
              "        vertical-align: middle;\n",
              "    }\n",
              "\n",
              "    .dataframe tbody tr th {\n",
              "        vertical-align: top;\n",
              "    }\n",
              "\n",
              "    .dataframe thead th {\n",
              "        text-align: right;\n",
              "    }\n",
              "</style>\n",
              "<table border=\"1\" class=\"dataframe\">\n",
              "  <thead>\n",
              "    <tr style=\"text-align: right;\">\n",
              "      <th></th>\n",
              "      <th>Type</th>\n",
              "      <th>Date</th>\n",
              "      <th>Gender</th>\n",
              "      <th>Age range</th>\n",
              "      <th>Self-defined ethnicity</th>\n",
              "      <th>Officer-defined ethnicity</th>\n",
              "      <th>Legislation</th>\n",
              "      <th>Object of search</th>\n",
              "      <th>Outcome</th>\n",
              "      <th>Outcome linked to object of search</th>\n",
              "      <th>Removal of more than just outer clothing</th>\n",
              "    </tr>\n",
              "  </thead>\n",
              "  <tbody>\n",
              "    <tr>\n",
              "      <th>0</th>\n",
              "      <td>Person search</td>\n",
              "      <td>2016-10-01T13:16:00+00:00</td>\n",
              "      <td>Male</td>\n",
              "      <td>18-24</td>\n",
              "      <td>Black or Black British - African (B2)</td>\n",
              "      <td>White</td>\n",
              "      <td>Misuse of Drugs Act 1971 (section 23)</td>\n",
              "      <td>Controlled drugs</td>\n",
              "      <td>Offender given drugs possession warning</td>\n",
              "      <td>True</td>\n",
              "      <td>False</td>\n",
              "    </tr>\n",
              "    <tr>\n",
              "      <th>1</th>\n",
              "      <td>Person search</td>\n",
              "      <td>2016-10-01T22:30:00+00:00</td>\n",
              "      <td>Male</td>\n",
              "      <td>25-34</td>\n",
              "      <td>White - Any other White ethnic background (W9)</td>\n",
              "      <td>White</td>\n",
              "      <td>Misuse of Drugs Act 1971 (section 23)</td>\n",
              "      <td>Controlled drugs</td>\n",
              "      <td>Nothing found - no further action</td>\n",
              "      <td>None</td>\n",
              "      <td>False</td>\n",
              "    </tr>\n",
              "    <tr>\n",
              "      <th>2</th>\n",
              "      <td>Person and Vehicle search</td>\n",
              "      <td>2016-10-02T00:15:00+00:00</td>\n",
              "      <td>Male</td>\n",
              "      <td>18-24</td>\n",
              "      <td>Black or Black British - African (B2)</td>\n",
              "      <td>Black</td>\n",
              "      <td>Misuse of Drugs Act 1971 (section 23)</td>\n",
              "      <td>Controlled drugs</td>\n",
              "      <td>Suspect summonsed to court</td>\n",
              "      <td>False</td>\n",
              "      <td>False</td>\n",
              "    </tr>\n",
              "    <tr>\n",
              "      <th>3</th>\n",
              "      <td>Person and Vehicle search</td>\n",
              "      <td>2016-10-02T00:15:00+00:00</td>\n",
              "      <td>Female</td>\n",
              "      <td>18-24</td>\n",
              "      <td>Black or Black British - African (B2)</td>\n",
              "      <td>Black</td>\n",
              "      <td>Misuse of Drugs Act 1971 (section 23)</td>\n",
              "      <td>Controlled drugs</td>\n",
              "      <td>Nothing found - no further action</td>\n",
              "      <td>None</td>\n",
              "      <td>False</td>\n",
              "    </tr>\n",
              "    <tr>\n",
              "      <th>4</th>\n",
              "      <td>Person and Vehicle search</td>\n",
              "      <td>2016-10-04T13:05:00+00:00</td>\n",
              "      <td>Male</td>\n",
              "      <td>18-24</td>\n",
              "      <td>White - Any other White ethnic background (W9)</td>\n",
              "      <td>White</td>\n",
              "      <td>Misuse of Drugs Act 1971 (section 23)</td>\n",
              "      <td>Controlled drugs</td>\n",
              "      <td>Suspect arrested</td>\n",
              "      <td>True</td>\n",
              "      <td>False</td>\n",
              "    </tr>\n",
              "  </tbody>\n",
              "</table>\n",
              "</div>\n",
              "      <button class=\"colab-df-convert\" onclick=\"convertToInteractive('df-47eaf284-4048-4cd8-93bb-ba0a4cce1681')\"\n",
              "              title=\"Convert this dataframe to an interactive table.\"\n",
              "              style=\"display:none;\">\n",
              "        \n",
              "  <svg xmlns=\"http://www.w3.org/2000/svg\" height=\"24px\"viewBox=\"0 0 24 24\"\n",
              "       width=\"24px\">\n",
              "    <path d=\"M0 0h24v24H0V0z\" fill=\"none\"/>\n",
              "    <path d=\"M18.56 5.44l.94 2.06.94-2.06 2.06-.94-2.06-.94-.94-2.06-.94 2.06-2.06.94zm-11 1L8.5 8.5l.94-2.06 2.06-.94-2.06-.94L8.5 2.5l-.94 2.06-2.06.94zm10 10l.94 2.06.94-2.06 2.06-.94-2.06-.94-.94-2.06-.94 2.06-2.06.94z\"/><path d=\"M17.41 7.96l-1.37-1.37c-.4-.4-.92-.59-1.43-.59-.52 0-1.04.2-1.43.59L10.3 9.45l-7.72 7.72c-.78.78-.78 2.05 0 2.83L4 21.41c.39.39.9.59 1.41.59.51 0 1.02-.2 1.41-.59l7.78-7.78 2.81-2.81c.8-.78.8-2.07 0-2.86zM5.41 20L4 18.59l7.72-7.72 1.47 1.35L5.41 20z\"/>\n",
              "  </svg>\n",
              "      </button>\n",
              "      \n",
              "  <style>\n",
              "    .colab-df-container {\n",
              "      display:flex;\n",
              "      flex-wrap:wrap;\n",
              "      gap: 12px;\n",
              "    }\n",
              "\n",
              "    .colab-df-convert {\n",
              "      background-color: #E8F0FE;\n",
              "      border: none;\n",
              "      border-radius: 50%;\n",
              "      cursor: pointer;\n",
              "      display: none;\n",
              "      fill: #1967D2;\n",
              "      height: 32px;\n",
              "      padding: 0 0 0 0;\n",
              "      width: 32px;\n",
              "    }\n",
              "\n",
              "    .colab-df-convert:hover {\n",
              "      background-color: #E2EBFA;\n",
              "      box-shadow: 0px 1px 2px rgba(60, 64, 67, 0.3), 0px 1px 3px 1px rgba(60, 64, 67, 0.15);\n",
              "      fill: #174EA6;\n",
              "    }\n",
              "\n",
              "    [theme=dark] .colab-df-convert {\n",
              "      background-color: #3B4455;\n",
              "      fill: #D2E3FC;\n",
              "    }\n",
              "\n",
              "    [theme=dark] .colab-df-convert:hover {\n",
              "      background-color: #434B5C;\n",
              "      box-shadow: 0px 1px 3px 1px rgba(0, 0, 0, 0.15);\n",
              "      filter: drop-shadow(0px 1px 2px rgba(0, 0, 0, 0.3));\n",
              "      fill: #FFFFFF;\n",
              "    }\n",
              "  </style>\n",
              "\n",
              "      <script>\n",
              "        const buttonEl =\n",
              "          document.querySelector('#df-47eaf284-4048-4cd8-93bb-ba0a4cce1681 button.colab-df-convert');\n",
              "        buttonEl.style.display =\n",
              "          google.colab.kernel.accessAllowed ? 'block' : 'none';\n",
              "\n",
              "        async function convertToInteractive(key) {\n",
              "          const element = document.querySelector('#df-47eaf284-4048-4cd8-93bb-ba0a4cce1681');\n",
              "          const dataTable =\n",
              "            await google.colab.kernel.invokeFunction('convertToInteractive',\n",
              "                                                     [key], {});\n",
              "          if (!dataTable) return;\n",
              "\n",
              "          const docLinkHtml = 'Like what you see? Visit the ' +\n",
              "            '<a target=\"_blank\" href=https://colab.research.google.com/notebooks/data_table.ipynb>data table notebook</a>'\n",
              "            + ' to learn more about interactive tables.';\n",
              "          element.innerHTML = '';\n",
              "          dataTable['output_type'] = 'display_data';\n",
              "          await google.colab.output.renderOutput(dataTable, element);\n",
              "          const docLink = document.createElement('div');\n",
              "          docLink.innerHTML = docLinkHtml;\n",
              "          element.appendChild(docLink);\n",
              "        }\n",
              "      </script>\n",
              "    </div>\n",
              "  </div>\n",
              "  "
            ]
          },
          "metadata": {},
          "execution_count": 9
        }
      ],
      "source": [
        "# there are very few values for columns 3(Part of a policing operation ),4(Policing operation),5(Latitude) and 6(Longitude).All are MCAR These should be dropped. 4679 rows and 15 columns\n",
        "# 'Outcome linked to object of search' data can be inferred from the 'Outcome' column and can be classed as MAR. As numbers are relatively small, we can remove these nulls.\n",
        "#  \n",
        "\n",
        "df1 = data.dropna(how = 'all')   #first drop all rows that contain no data\n",
        "df2 = df1.drop(['Part of a policing operation'], axis = 1)\n",
        "df2 = df2.drop(['Policing operation'], axis = 1)\n",
        "df2 = df2.drop(['Latitude'], axis = 1)\n",
        "df2 = df2.drop(['Longitude'], axis = 1)\n",
        "df2.head()\n",
        "\n",
        "#df2 = data.loc[:, ['Type', 'Date', 'Gender', 'Age range', 'Self-defined ethnicity', 'Officer-defined ethnicity', 'Legislation', 'Object of search', 'Outcome', 'Outcome linked to object of search', ]]"
      ]
    },
    {
      "cell_type": "code",
      "source": [
        "# checking the amount of null values in the data set\n",
        "df2.isnull().sum()"
      ],
      "metadata": {
        "colab": {
          "base_uri": "https://localhost:8080/"
        },
        "id": "6qogFNA88u_Z",
        "outputId": "03044c21-d516-472c-c47d-ae8f3085b618"
      },
      "execution_count": 10,
      "outputs": [
        {
          "output_type": "execute_result",
          "data": {
            "text/plain": [
              "Type                                          0\n",
              "Date                                          0\n",
              "Gender                                       59\n",
              "Age range                                   285\n",
              "Self-defined ethnicity                      256\n",
              "Officer-defined ethnicity                   264\n",
              "Legislation                                  44\n",
              "Object of search                             92\n",
              "Outcome                                     268\n",
              "Outcome linked to object of search          510\n",
              "Removal of more than just outer clothing     77\n",
              "dtype: int64"
            ]
          },
          "metadata": {},
          "execution_count": 10
        }
      ]
    },
    {
      "cell_type": "code",
      "source": [
        "# fill Outcome column with Falses in place of nulls\n",
        "y_missing = df2['Outcome'].fillna(False)\n",
        "df2['Outcome']= y_missing\n",
        "df2.isnull().sum()"
      ],
      "metadata": {
        "colab": {
          "base_uri": "https://localhost:8080/"
        },
        "id": "XEWU-hKcE44w",
        "outputId": "566cc431-5bd0-4d62-8021-5958f9655896"
      },
      "execution_count": 11,
      "outputs": [
        {
          "output_type": "execute_result",
          "data": {
            "text/plain": [
              "Type                                          0\n",
              "Date                                          0\n",
              "Gender                                       59\n",
              "Age range                                   285\n",
              "Self-defined ethnicity                      256\n",
              "Officer-defined ethnicity                   264\n",
              "Legislation                                  44\n",
              "Object of search                             92\n",
              "Outcome                                       0\n",
              "Outcome linked to object of search          510\n",
              "Removal of more than just outer clothing     77\n",
              "dtype: int64"
            ]
          },
          "metadata": {},
          "execution_count": 11
        }
      ]
    },
    {
      "cell_type": "code",
      "source": [
        "# ignoring the 'date' column, Create a list of all needed columns called 'features'. Define x as 'all the feature columns', and y as the 'outcome' column. \n",
        "df2.columns\n",
        "\n",
        "features = ['Type', 'Gender', 'Age range',\n",
        "       'Self-defined ethnicity', 'Officer-defined ethnicity', 'Legislation',\n",
        "       'Object of search', 'Outcome linked to object of search',\n",
        "       'Removal of more than just outer clothing']\n",
        "\n",
        "x = df2.loc[:, features]\n",
        "y = df2.loc[:, 'Outcome']\n",
        "x.dropna(inplace=True)     # delete all rows with null values , as they are relatively small in number\n",
        "y = y.iloc[x.index]\n",
        "print(x.shape)\n",
        "print(y.shape)   # x and y have the same reduced number of rows 3789  from  4679\n",
        "x.head()     "
      ],
      "metadata": {
        "id": "PuhW0X5sMgeo",
        "colab": {
          "base_uri": "https://localhost:8080/",
          "height": 684
        },
        "outputId": "cefba1ed-b208-40b9-c246-c21f6dcf7ac4"
      },
      "execution_count": 12,
      "outputs": [
        {
          "output_type": "stream",
          "name": "stdout",
          "text": [
            "(3789, 9)\n",
            "(3789,)\n"
          ]
        },
        {
          "output_type": "execute_result",
          "data": {
            "text/plain": [
              "                        Type  Gender Age range  \\\n",
              "0              Person search    Male     18-24   \n",
              "2  Person and Vehicle search    Male     18-24   \n",
              "4  Person and Vehicle search    Male     18-24   \n",
              "7              Person search  Female   over 34   \n",
              "8              Person search    Male     25-34   \n",
              "\n",
              "                           Self-defined ethnicity Officer-defined ethnicity  \\\n",
              "0           Black or Black British - African (B2)                     White   \n",
              "2           Black or Black British - African (B2)                     Black   \n",
              "4  White - Any other White ethnic background (W9)                     White   \n",
              "7                      White - White British (W1)                     White   \n",
              "8                      White - White British (W1)                     White   \n",
              "\n",
              "                                         Legislation  Object of search  \\\n",
              "0              Misuse of Drugs Act 1971 (section 23)  Controlled drugs   \n",
              "2              Misuse of Drugs Act 1971 (section 23)  Controlled drugs   \n",
              "4              Misuse of Drugs Act 1971 (section 23)  Controlled drugs   \n",
              "7  Police and Criminal Evidence Act 1984 (section 1)      Stolen goods   \n",
              "8  Police and Criminal Evidence Act 1984 (section 1)      Stolen goods   \n",
              "\n",
              "  Outcome linked to object of search Removal of more than just outer clothing  \n",
              "0                               True                                    False  \n",
              "2                              False                                    False  \n",
              "4                               True                                    False  \n",
              "7                               True                                    False  \n",
              "8                              False                                    False  "
            ],
            "text/html": [
              "\n",
              "  <div id=\"df-d970c737-2b19-420c-aec1-2d42b73f1490\">\n",
              "    <div class=\"colab-df-container\">\n",
              "      <div>\n",
              "<style scoped>\n",
              "    .dataframe tbody tr th:only-of-type {\n",
              "        vertical-align: middle;\n",
              "    }\n",
              "\n",
              "    .dataframe tbody tr th {\n",
              "        vertical-align: top;\n",
              "    }\n",
              "\n",
              "    .dataframe thead th {\n",
              "        text-align: right;\n",
              "    }\n",
              "</style>\n",
              "<table border=\"1\" class=\"dataframe\">\n",
              "  <thead>\n",
              "    <tr style=\"text-align: right;\">\n",
              "      <th></th>\n",
              "      <th>Type</th>\n",
              "      <th>Gender</th>\n",
              "      <th>Age range</th>\n",
              "      <th>Self-defined ethnicity</th>\n",
              "      <th>Officer-defined ethnicity</th>\n",
              "      <th>Legislation</th>\n",
              "      <th>Object of search</th>\n",
              "      <th>Outcome linked to object of search</th>\n",
              "      <th>Removal of more than just outer clothing</th>\n",
              "    </tr>\n",
              "  </thead>\n",
              "  <tbody>\n",
              "    <tr>\n",
              "      <th>0</th>\n",
              "      <td>Person search</td>\n",
              "      <td>Male</td>\n",
              "      <td>18-24</td>\n",
              "      <td>Black or Black British - African (B2)</td>\n",
              "      <td>White</td>\n",
              "      <td>Misuse of Drugs Act 1971 (section 23)</td>\n",
              "      <td>Controlled drugs</td>\n",
              "      <td>True</td>\n",
              "      <td>False</td>\n",
              "    </tr>\n",
              "    <tr>\n",
              "      <th>2</th>\n",
              "      <td>Person and Vehicle search</td>\n",
              "      <td>Male</td>\n",
              "      <td>18-24</td>\n",
              "      <td>Black or Black British - African (B2)</td>\n",
              "      <td>Black</td>\n",
              "      <td>Misuse of Drugs Act 1971 (section 23)</td>\n",
              "      <td>Controlled drugs</td>\n",
              "      <td>False</td>\n",
              "      <td>False</td>\n",
              "    </tr>\n",
              "    <tr>\n",
              "      <th>4</th>\n",
              "      <td>Person and Vehicle search</td>\n",
              "      <td>Male</td>\n",
              "      <td>18-24</td>\n",
              "      <td>White - Any other White ethnic background (W9)</td>\n",
              "      <td>White</td>\n",
              "      <td>Misuse of Drugs Act 1971 (section 23)</td>\n",
              "      <td>Controlled drugs</td>\n",
              "      <td>True</td>\n",
              "      <td>False</td>\n",
              "    </tr>\n",
              "    <tr>\n",
              "      <th>7</th>\n",
              "      <td>Person search</td>\n",
              "      <td>Female</td>\n",
              "      <td>over 34</td>\n",
              "      <td>White - White British (W1)</td>\n",
              "      <td>White</td>\n",
              "      <td>Police and Criminal Evidence Act 1984 (section 1)</td>\n",
              "      <td>Stolen goods</td>\n",
              "      <td>True</td>\n",
              "      <td>False</td>\n",
              "    </tr>\n",
              "    <tr>\n",
              "      <th>8</th>\n",
              "      <td>Person search</td>\n",
              "      <td>Male</td>\n",
              "      <td>25-34</td>\n",
              "      <td>White - White British (W1)</td>\n",
              "      <td>White</td>\n",
              "      <td>Police and Criminal Evidence Act 1984 (section 1)</td>\n",
              "      <td>Stolen goods</td>\n",
              "      <td>False</td>\n",
              "      <td>False</td>\n",
              "    </tr>\n",
              "  </tbody>\n",
              "</table>\n",
              "</div>\n",
              "      <button class=\"colab-df-convert\" onclick=\"convertToInteractive('df-d970c737-2b19-420c-aec1-2d42b73f1490')\"\n",
              "              title=\"Convert this dataframe to an interactive table.\"\n",
              "              style=\"display:none;\">\n",
              "        \n",
              "  <svg xmlns=\"http://www.w3.org/2000/svg\" height=\"24px\"viewBox=\"0 0 24 24\"\n",
              "       width=\"24px\">\n",
              "    <path d=\"M0 0h24v24H0V0z\" fill=\"none\"/>\n",
              "    <path d=\"M18.56 5.44l.94 2.06.94-2.06 2.06-.94-2.06-.94-.94-2.06-.94 2.06-2.06.94zm-11 1L8.5 8.5l.94-2.06 2.06-.94-2.06-.94L8.5 2.5l-.94 2.06-2.06.94zm10 10l.94 2.06.94-2.06 2.06-.94-2.06-.94-.94-2.06-.94 2.06-2.06.94z\"/><path d=\"M17.41 7.96l-1.37-1.37c-.4-.4-.92-.59-1.43-.59-.52 0-1.04.2-1.43.59L10.3 9.45l-7.72 7.72c-.78.78-.78 2.05 0 2.83L4 21.41c.39.39.9.59 1.41.59.51 0 1.02-.2 1.41-.59l7.78-7.78 2.81-2.81c.8-.78.8-2.07 0-2.86zM5.41 20L4 18.59l7.72-7.72 1.47 1.35L5.41 20z\"/>\n",
              "  </svg>\n",
              "      </button>\n",
              "      \n",
              "  <style>\n",
              "    .colab-df-container {\n",
              "      display:flex;\n",
              "      flex-wrap:wrap;\n",
              "      gap: 12px;\n",
              "    }\n",
              "\n",
              "    .colab-df-convert {\n",
              "      background-color: #E8F0FE;\n",
              "      border: none;\n",
              "      border-radius: 50%;\n",
              "      cursor: pointer;\n",
              "      display: none;\n",
              "      fill: #1967D2;\n",
              "      height: 32px;\n",
              "      padding: 0 0 0 0;\n",
              "      width: 32px;\n",
              "    }\n",
              "\n",
              "    .colab-df-convert:hover {\n",
              "      background-color: #E2EBFA;\n",
              "      box-shadow: 0px 1px 2px rgba(60, 64, 67, 0.3), 0px 1px 3px 1px rgba(60, 64, 67, 0.15);\n",
              "      fill: #174EA6;\n",
              "    }\n",
              "\n",
              "    [theme=dark] .colab-df-convert {\n",
              "      background-color: #3B4455;\n",
              "      fill: #D2E3FC;\n",
              "    }\n",
              "\n",
              "    [theme=dark] .colab-df-convert:hover {\n",
              "      background-color: #434B5C;\n",
              "      box-shadow: 0px 1px 3px 1px rgba(0, 0, 0, 0.15);\n",
              "      filter: drop-shadow(0px 1px 2px rgba(0, 0, 0, 0.3));\n",
              "      fill: #FFFFFF;\n",
              "    }\n",
              "  </style>\n",
              "\n",
              "      <script>\n",
              "        const buttonEl =\n",
              "          document.querySelector('#df-d970c737-2b19-420c-aec1-2d42b73f1490 button.colab-df-convert');\n",
              "        buttonEl.style.display =\n",
              "          google.colab.kernel.accessAllowed ? 'block' : 'none';\n",
              "\n",
              "        async function convertToInteractive(key) {\n",
              "          const element = document.querySelector('#df-d970c737-2b19-420c-aec1-2d42b73f1490');\n",
              "          const dataTable =\n",
              "            await google.colab.kernel.invokeFunction('convertToInteractive',\n",
              "                                                     [key], {});\n",
              "          if (!dataTable) return;\n",
              "\n",
              "          const docLinkHtml = 'Like what you see? Visit the ' +\n",
              "            '<a target=\"_blank\" href=https://colab.research.google.com/notebooks/data_table.ipynb>data table notebook</a>'\n",
              "            + ' to learn more about interactive tables.';\n",
              "          element.innerHTML = '';\n",
              "          dataTable['output_type'] = 'display_data';\n",
              "          await google.colab.output.renderOutput(dataTable, element);\n",
              "          const docLink = document.createElement('div');\n",
              "          docLink.innerHTML = docLinkHtml;\n",
              "          element.appendChild(docLink);\n",
              "        }\n",
              "      </script>\n",
              "    </div>\n",
              "  </div>\n",
              "  "
            ]
          },
          "metadata": {},
          "execution_count": 12
        }
      ]
    },
    {
      "cell_type": "code",
      "source": [
        "# check for any nulls\n",
        "print(x.isnull().sum())\n",
        "print(y.isnull().sum())"
      ],
      "metadata": {
        "colab": {
          "base_uri": "https://localhost:8080/"
        },
        "id": "874Ftk8GBfNm",
        "outputId": "26032289-5731-4f5a-bf5a-91f91f55f39f"
      },
      "execution_count": 13,
      "outputs": [
        {
          "output_type": "stream",
          "name": "stdout",
          "text": [
            "Type                                        0\n",
            "Gender                                      0\n",
            "Age range                                   0\n",
            "Self-defined ethnicity                      0\n",
            "Officer-defined ethnicity                   0\n",
            "Legislation                                 0\n",
            "Object of search                            0\n",
            "Outcome linked to object of search          0\n",
            "Removal of more than just outer clothing    0\n",
            "dtype: int64\n",
            "0\n"
          ]
        }
      ]
    },
    {
      "cell_type": "code",
      "source": [
        "# convert the text values in the columns to numbers so that we can run a model\n",
        "from sklearn.preprocessing import LabelEncoder \n",
        "\n",
        "for col in x.columns:\n",
        "    le = LabelEncoder()\n",
        "    x[col]= le.fit_transform(x[col])\n",
        "    \n",
        "x.head()"
      ],
      "metadata": {
        "id": "_Ku3-FH9HUcr",
        "colab": {
          "base_uri": "https://localhost:8080/",
          "height": 302
        },
        "outputId": "fdd96ef5-ddd3-4487-d31c-278268665429"
      },
      "execution_count": 25,
      "outputs": [
        {
          "output_type": "execute_result",
          "data": {
            "text/plain": [
              "   Type  Gender  Age range  Self-defined ethnicity  Officer-defined ethnicity  \\\n",
              "0     1       2          1                       9                          4   \n",
              "2     0       2          1                       9                          1   \n",
              "4     0       2          1                      29                          4   \n",
              "7     1       0          4                      32                          4   \n",
              "8     1       2          2                      32                          4   \n",
              "\n",
              "   Legislation  Object of search  Outcome linked to object of search  \\\n",
              "0            4                 3                                   2   \n",
              "2            4                 3                                   0   \n",
              "4            4                 3                                   2   \n",
              "7            5                11                                   2   \n",
              "8            5                11                                   0   \n",
              "\n",
              "   Removal of more than just outer clothing  \n",
              "0                                         0  \n",
              "2                                         0  \n",
              "4                                         0  \n",
              "7                                         0  \n",
              "8                                         0  "
            ],
            "text/html": [
              "\n",
              "  <div id=\"df-8586453d-eb05-4958-867a-ab37f1bebf1e\">\n",
              "    <div class=\"colab-df-container\">\n",
              "      <div>\n",
              "<style scoped>\n",
              "    .dataframe tbody tr th:only-of-type {\n",
              "        vertical-align: middle;\n",
              "    }\n",
              "\n",
              "    .dataframe tbody tr th {\n",
              "        vertical-align: top;\n",
              "    }\n",
              "\n",
              "    .dataframe thead th {\n",
              "        text-align: right;\n",
              "    }\n",
              "</style>\n",
              "<table border=\"1\" class=\"dataframe\">\n",
              "  <thead>\n",
              "    <tr style=\"text-align: right;\">\n",
              "      <th></th>\n",
              "      <th>Type</th>\n",
              "      <th>Gender</th>\n",
              "      <th>Age range</th>\n",
              "      <th>Self-defined ethnicity</th>\n",
              "      <th>Officer-defined ethnicity</th>\n",
              "      <th>Legislation</th>\n",
              "      <th>Object of search</th>\n",
              "      <th>Outcome linked to object of search</th>\n",
              "      <th>Removal of more than just outer clothing</th>\n",
              "    </tr>\n",
              "  </thead>\n",
              "  <tbody>\n",
              "    <tr>\n",
              "      <th>0</th>\n",
              "      <td>1</td>\n",
              "      <td>2</td>\n",
              "      <td>1</td>\n",
              "      <td>9</td>\n",
              "      <td>4</td>\n",
              "      <td>4</td>\n",
              "      <td>3</td>\n",
              "      <td>2</td>\n",
              "      <td>0</td>\n",
              "    </tr>\n",
              "    <tr>\n",
              "      <th>2</th>\n",
              "      <td>0</td>\n",
              "      <td>2</td>\n",
              "      <td>1</td>\n",
              "      <td>9</td>\n",
              "      <td>1</td>\n",
              "      <td>4</td>\n",
              "      <td>3</td>\n",
              "      <td>0</td>\n",
              "      <td>0</td>\n",
              "    </tr>\n",
              "    <tr>\n",
              "      <th>4</th>\n",
              "      <td>0</td>\n",
              "      <td>2</td>\n",
              "      <td>1</td>\n",
              "      <td>29</td>\n",
              "      <td>4</td>\n",
              "      <td>4</td>\n",
              "      <td>3</td>\n",
              "      <td>2</td>\n",
              "      <td>0</td>\n",
              "    </tr>\n",
              "    <tr>\n",
              "      <th>7</th>\n",
              "      <td>1</td>\n",
              "      <td>0</td>\n",
              "      <td>4</td>\n",
              "      <td>32</td>\n",
              "      <td>4</td>\n",
              "      <td>5</td>\n",
              "      <td>11</td>\n",
              "      <td>2</td>\n",
              "      <td>0</td>\n",
              "    </tr>\n",
              "    <tr>\n",
              "      <th>8</th>\n",
              "      <td>1</td>\n",
              "      <td>2</td>\n",
              "      <td>2</td>\n",
              "      <td>32</td>\n",
              "      <td>4</td>\n",
              "      <td>5</td>\n",
              "      <td>11</td>\n",
              "      <td>0</td>\n",
              "      <td>0</td>\n",
              "    </tr>\n",
              "  </tbody>\n",
              "</table>\n",
              "</div>\n",
              "      <button class=\"colab-df-convert\" onclick=\"convertToInteractive('df-8586453d-eb05-4958-867a-ab37f1bebf1e')\"\n",
              "              title=\"Convert this dataframe to an interactive table.\"\n",
              "              style=\"display:none;\">\n",
              "        \n",
              "  <svg xmlns=\"http://www.w3.org/2000/svg\" height=\"24px\"viewBox=\"0 0 24 24\"\n",
              "       width=\"24px\">\n",
              "    <path d=\"M0 0h24v24H0V0z\" fill=\"none\"/>\n",
              "    <path d=\"M18.56 5.44l.94 2.06.94-2.06 2.06-.94-2.06-.94-.94-2.06-.94 2.06-2.06.94zm-11 1L8.5 8.5l.94-2.06 2.06-.94-2.06-.94L8.5 2.5l-.94 2.06-2.06.94zm10 10l.94 2.06.94-2.06 2.06-.94-2.06-.94-.94-2.06-.94 2.06-2.06.94z\"/><path d=\"M17.41 7.96l-1.37-1.37c-.4-.4-.92-.59-1.43-.59-.52 0-1.04.2-1.43.59L10.3 9.45l-7.72 7.72c-.78.78-.78 2.05 0 2.83L4 21.41c.39.39.9.59 1.41.59.51 0 1.02-.2 1.41-.59l7.78-7.78 2.81-2.81c.8-.78.8-2.07 0-2.86zM5.41 20L4 18.59l7.72-7.72 1.47 1.35L5.41 20z\"/>\n",
              "  </svg>\n",
              "      </button>\n",
              "      \n",
              "  <style>\n",
              "    .colab-df-container {\n",
              "      display:flex;\n",
              "      flex-wrap:wrap;\n",
              "      gap: 12px;\n",
              "    }\n",
              "\n",
              "    .colab-df-convert {\n",
              "      background-color: #E8F0FE;\n",
              "      border: none;\n",
              "      border-radius: 50%;\n",
              "      cursor: pointer;\n",
              "      display: none;\n",
              "      fill: #1967D2;\n",
              "      height: 32px;\n",
              "      padding: 0 0 0 0;\n",
              "      width: 32px;\n",
              "    }\n",
              "\n",
              "    .colab-df-convert:hover {\n",
              "      background-color: #E2EBFA;\n",
              "      box-shadow: 0px 1px 2px rgba(60, 64, 67, 0.3), 0px 1px 3px 1px rgba(60, 64, 67, 0.15);\n",
              "      fill: #174EA6;\n",
              "    }\n",
              "\n",
              "    [theme=dark] .colab-df-convert {\n",
              "      background-color: #3B4455;\n",
              "      fill: #D2E3FC;\n",
              "    }\n",
              "\n",
              "    [theme=dark] .colab-df-convert:hover {\n",
              "      background-color: #434B5C;\n",
              "      box-shadow: 0px 1px 3px 1px rgba(0, 0, 0, 0.15);\n",
              "      filter: drop-shadow(0px 1px 2px rgba(0, 0, 0, 0.3));\n",
              "      fill: #FFFFFF;\n",
              "    }\n",
              "  </style>\n",
              "\n",
              "      <script>\n",
              "        const buttonEl =\n",
              "          document.querySelector('#df-8586453d-eb05-4958-867a-ab37f1bebf1e button.colab-df-convert');\n",
              "        buttonEl.style.display =\n",
              "          google.colab.kernel.accessAllowed ? 'block' : 'none';\n",
              "\n",
              "        async function convertToInteractive(key) {\n",
              "          const element = document.querySelector('#df-8586453d-eb05-4958-867a-ab37f1bebf1e');\n",
              "          const dataTable =\n",
              "            await google.colab.kernel.invokeFunction('convertToInteractive',\n",
              "                                                     [key], {});\n",
              "          if (!dataTable) return;\n",
              "\n",
              "          const docLinkHtml = 'Like what you see? Visit the ' +\n",
              "            '<a target=\"_blank\" href=https://colab.research.google.com/notebooks/data_table.ipynb>data table notebook</a>'\n",
              "            + ' to learn more about interactive tables.';\n",
              "          element.innerHTML = '';\n",
              "          dataTable['output_type'] = 'display_data';\n",
              "          await google.colab.output.renderOutput(dataTable, element);\n",
              "          const docLink = document.createElement('div');\n",
              "          docLink.innerHTML = docLinkHtml;\n",
              "          element.appendChild(docLink);\n",
              "        }\n",
              "      </script>\n",
              "    </div>\n",
              "  </div>\n",
              "  "
            ]
          },
          "metadata": {},
          "execution_count": 25
        }
      ]
    },
    {
      "cell_type": "code",
      "source": [
        "# Now let's look at a heat map to see the correlation heatmap\n",
        "import matplotlib.pyplot as plt\n",
        "import seaborn as sns\n",
        "corr = x.corr()\n",
        "plt.figure(figsize=(20,10))\n",
        "sns.heatmap(corr, vmin = -1, vmax = +1, annot = True, cmap = 'coolwarm')\n",
        "plt.show()"
      ],
      "metadata": {
        "id": "aFvV4lfWRSDw",
        "colab": {
          "base_uri": "https://localhost:8080/",
          "height": 467
        },
        "outputId": "c7b9e117-bab1-401a-aaf1-78e3ee0c85c2"
      },
      "execution_count": 34,
      "outputs": [
        {
          "output_type": "display_data",
          "data": {
            "text/plain": [
              "<Figure size 1440x720 with 2 Axes>"
            ],
            "image/png": "[encoded data removed]"
          },
          "metadata": {}
        }
      ]
    },
    {
      "cell_type": "code",
      "source": [
        "# heatmap shows that overall correlation is weak, indicating deeper data is required\n",
        "\n",
        "import plotly.express as px\n",
        "\n",
        "px.histogram(y, x='Outcome')\n",
        "# plot shows , you can bundle 'Outcome' into 'False' key combining 'No further action ..' and 'Nothing found ..' and 'True'key of all others"
      ],
      "metadata": {
        "colab": {
          "base_uri": "https://localhost:8080/",
          "height": 542
        },
        "id": "MJb5Nbu4H7f9",
        "outputId": "e1b83109-b971-46c9-b428-43e937381f6d"
      },
      "execution_count": 16,
      "outputs": [
        {
          "output_type": "display_data",
          "data": {
            "text/html": [
              "<html>\n",
              "<head><meta charset=\"utf-8\" /></head>\n",
              "<body>\n",
              "    <div>            <script src=\"https://cdnjs.cloudflare.com/ajax/libs/mathjax/2.7.5/MathJax.js?config=TeX-AMS-MML_SVG\"></script><script type=\"text/javascript\">if (window.MathJax) {MathJax.Hub.Config({SVG: {font: \"STIX-Web\"}});}</script>                <script type=\"text/javascript\">window.PlotlyConfig = {MathJaxConfig: 'local'};</script>\n",
              "        <script src=\"https://cdn.plot.ly/plotly-2.8.3.min.js\"></script>                <div id=\"d3a27704-ab4b-46be-b06e-5f61be735cc7\" class=\"plotly-graph-div\" style=\"height:525px; width:100%;\"></div>            <script type=\"text/javascript\">                                    window.PLOTLYENV=window.PLOTLYENV || {};                                    if (document.getElementById(\"d3a27704-ab4b-46be-b06e-5f61be735cc7\")) {                    Plotly.newPlot(                        \"d3a27704-ab4b-46be-b06e-5f61be735cc7\",                        [{\"alignmentgroup\":\"True\",\"bingroup\":\"x\",\"hovertemplate\":\"Outcome=%{x}<br>count=%{y}<extra></extra>\",\"legendgroup\":\"\",\"marker\":{\"color\":\"#636efa\",\"pattern\":{\"shape\":\"\"}},\"name\":\"\",\"offsetgroup\":\"\",\"orientation\":\"v\",\"showlegend\":false,\"x\":[\"Offender given drugs possession warning\",\"Suspect summonsed to court\",\"Suspect arrested\",\"Suspect arrested\",\"Suspect summonsed to court\",\"Suspect summonsed to court\",\"Local resolution\",\"Suspect arrested\",\"Suspect arrested\",\"Suspect arrested\",\"Suspect arrested\",\"Suspect arrested\",\"Suspect arrested\",\"Suspect summonsed to court\",\"Suspect summonsed to court\",\"Suspect arrested\",\"Suspect arrested\",\"Local resolution\",\"Suspect arrested\",\"Suspect arrested\",\"Suspect arrested\",\"Local resolution\",\"Suspect arrested\",\"Suspect summonsed to court\",\"Offender given drugs possession warning\",\"Suspect arrested\",\"Suspect summonsed to court\",\"Suspect summonsed to court\",\"Local resolution\",\"Suspect arrested\",\"Suspect arrested\",\"Suspect arrested\",\"Suspect arrested\",\"Suspect arrested\",\"Suspect arrested\",\"Suspect arrested\",\"Local resolution\",\"Suspect arrested\",\"Suspect arrested\",\"Offender given penalty notice\",\"Suspect arrested\",\"Suspect arrested\",\"Suspect arrested\",\"Suspect arrested\",\"Suspect arrested\",\"Suspect arrested\",\"Suspect arrested\",\"Suspect arrested\",\"Suspect arrested\",\"Local resolution\",\"Local resolution\",\"Outcome\",\"Suspect arrested\",\"Suspect arrested\",\"Suspect arrested\",\"Suspect arrested\",\"Local resolution\",\"Suspect arrested\",\"Suspect arrested\",\"Suspect arrested\",\"Suspect arrested\",\"Suspect arrested\",\"Suspect arrested\",\"Nothing found - no further action\",\"Offender given penalty notice\",\"Suspect arrested\",\"Suspect arrested\",\"Suspect arrested\",\"Suspect arrested\",\"Offender given penalty notice\",\"Suspect summonsed to court\",\"Suspect arrested\",\"Suspect arrested\",\"Suspect arrested\",\"Suspect arrested\",\"Suspect arrested\",\"Local resolution\",\"Local resolution\",\"Suspect arrested\",\"Suspect arrested\",\"Suspect arrested\",\"Suspect arrested\",\"Suspect arrested\",\"Suspect arrested\",\"Suspect arrested\",\"Suspect arrested\",\"Suspect arrested\",\"Offender given drugs possession warning\",\"Suspect arrested\",\"Suspect arrested\",\"Suspect arrested\",\"Suspect arrested\",\"Local resolution\",\"Suspect arrested\",\"Suspect arrested\",\"Suspect arrested\",\"Local resolution\",\"Suspect arrested\",\"Suspect arrested\",\"Suspect arrested\",\"Suspect arrested\",\"Offender given penalty notice\",\"Outcome\",\"Suspect arrested\",\"Offender given drugs possession warning\",\"Suspect arrested\",\"Suspect arrested\",\"Suspect arrested\",\"Suspect arrested\",\"Suspect arrested\",\"Suspect arrested\",\"Suspect arrested\",\"Suspect arrested\",\"Suspect arrested\",\"Suspect arrested\",\"Offender given drugs possession warning\",\"Suspect arrested\",\"Suspect arrested\",\"Suspect summonsed to court\",\"Offender given drugs possession warning\",\"Suspect arrested\",\"Suspect arrested\",\"Suspect arrested\",\"Suspect arrested\",\"Offender given drugs possession warning\",\"Suspect arrested\",\"Suspect arrested\",\"Suspect arrested\",\"Suspect arrested\",\"Offender given drugs possession warning\",\"Suspect arrested\",\"Suspect arrested\",\"Suspect arrested\",\"Local resolution\",\"Suspect arrested\",\"Suspect arrested\",\"Suspect arrested\",\"Suspect arrested\",\"Local resolution\",\"Suspect arrested\",\"Suspect arrested\",\"Suspect arrested\",\"Suspect arrested\",\"Suspect arrested\",\"Suspect arrested\",\"Suspect arrested\",\"Suspect arrested\",\"Local resolution\",\"Offender given drugs possession warning\",\"Offender given drugs possession warning\",\"Suspect arrested\",\"Suspect arrested\",\"Outcome\",\"Local resolution\",\"Offender given drugs possession warning\",\"Offender given drugs possession warning\",\"Suspect arrested\",\"Local resolution\",\"Suspect arrested\",\"Offender given drugs possession warning\",\"Suspect arrested\",\"Suspect arrested\",\"Suspect arrested\",\"Suspect arrested\",\"Local resolution\",\"Suspect arrested\",\"Suspect arrested\",\"Suspect arrested\",\"Local resolution\",\"Suspect arrested\",\"Suspect arrested\",\"Suspect summonsed to court\",\"Suspect arrested\",\"Suspect arrested\",\"Suspect arrested\",\"Suspect arrested\",\"Suspect arrested\",\"Suspect arrested\",\"Suspect arrested\",\"Suspect arrested\",\"Suspect arrested\",\"Suspect arrested\",\"Suspect arrested\",\"Offender given drugs possession warning\",\"Suspect summonsed to court\",\"Suspect arrested\",\"Suspect arrested\",\"Suspect arrested\",\"Local resolution\",\"Suspect arrested\",\"Suspect arrested\",\"Offender given drugs possession warning\",\"Suspect summonsed to court\",\"Suspect arrested\",\"Suspect arrested\",\"Local resolution\",\"Outcome\",\"Offender given penalty notice\",\"Offender given drugs possession warning\",\"Local resolution\",\"Offender given drugs possession warning\",\"Suspect summonsed to court\",\"Offender given drugs possession warning\",\"Suspect arrested\",\"Suspect arrested\",\"Suspect arrested\",\"Local resolution\",\"Suspect arrested\",\"Suspect summonsed to court\",\"Suspect arrested\",\"Suspect arrested\",\"Suspect arrested\",\"Suspect arrested\",\"Suspect arrested\",\"Suspect arrested\",\"Suspect arrested\",\"Suspect arrested\",\"Suspect arrested\",\"Suspect arrested\",\"Local resolution\",\"Suspect arrested\",\"Suspect summonsed to court\",\"Local resolution\",\"Suspect arrested\",\"Suspect arrested\",\"Suspect summonsed to court\",\"Offender given drugs possession warning\",\"Suspect arrested\",\"Suspect arrested\",\"Suspect arrested\",\"Offender given drugs possession warning\",\"Suspect arrested\",\"Suspect arrested\",\"Suspect arrested\",\"Suspect arrested\",\"Suspect arrested\",\"Suspect arrested\",\"Suspect arrested\",\"Suspect arrested\",\"Suspect arrested\",\"Suspect arrested\",\"Suspect arrested\",\"Suspect arrested\",\"Suspect arrested\",\"Suspect arrested\",\"Suspect arrested\",\"Offender given drugs possession warning\",\"Suspect arrested\",\"Suspect arrested\",\"Offender given penalty notice\",\"Outcome\",\"Local resolution\",\"Suspect summonsed to court\",\"Offender given penalty notice\",\"Suspect arrested\",\"Suspect arrested\",\"Suspect arrested\",\"Suspect arrested\",\"Suspect arrested\",\"Suspect arrested\",\"Suspect arrested\",\"Offender given drugs possession warning\",\"Suspect arrested\",\"Suspect arrested\",\"Suspect arrested\",\"Suspect summonsed to court\",\"Suspect arrested\",\"Suspect arrested\",\"Suspect arrested\",\"Suspect arrested\",\"Suspect arrested\",\"Suspect arrested\",\"Offender given drugs possession warning\",\"Suspect arrested\",\"Offender given penalty notice\",\"Suspect summonsed to court\",\"Suspect arrested\",\"Offender given penalty notice\",\"Offender given penalty notice\",\"Suspect arrested\",\"Offender given drugs possession warning\",\"Suspect arrested\",\"Offender given penalty notice\",\"Suspect summonsed to court\",\"Local resolution\",\"Suspect arrested\",\"Outcome\",\"Nothing found - no further action\",\"Nothing found - no further action\",\"Nothing found - no further action\",\"Nothing found - no further action\",\"Nothing found - no further action\",\"Nothing found - no further action\",\"Nothing found - no further action\",\"Nothing found - no further action\",\"Local resolution\",\"Local resolution\",\"Nothing found - no further action\",false,false,\"Suspect summonsed to court\",\"Nothing found - no further action\",\"Nothing found - no further action\",\"Nothing found - no further action\",false,false,\"Nothing found - no further action\",\"Nothing found - no further action\",\"Offender given drugs possession warning\",\"Nothing found - no further action\",\"Nothing found - no further action\",\"Offender given drugs possession warning\",\"Offender given drugs possession warning\",\"Offender cautioned\",false,\"Nothing found - no further action\",\"Nothing found - no further action\",\"Suspect arrested\",false,false,\"Nothing found - no further action\",\"Nothing found - no further action\",\"Nothing found - no further action\",\"Nothing found - no further action\",false,\"Article found - Detailed outcome unavailable\",\"Article found - Detailed outcome unavailable\",\"Article found - Detailed outcome unavailable\",\"Nothing found - no further action\",\"Nothing found - no further action\",\"Nothing found - no further action\",\"Offender given drugs possession warning\",\"Offender given drugs possession warning\",false,\"Nothing found - no further action\",\"Nothing found - no further action\",\"Nothing found - no further action\",\"Article found - Detailed outcome unavailable\",\"Article found - Detailed outcome unavailable\",\"Suspect arrested\",\"Suspect arrested\",\"Nothing found - no further action\",\"Suspect arrested\",\"Nothing found - no further action\",\"Local resolution\",\"Nothing found - no further action\",\"Nothing found - no further action\",\"Nothing found - no further action\",\"Offender given drugs possession warning\",\"Offender given penalty notice\",false,\"Nothing found - no further action\",\"Suspect arrested\",\"Nothing found - no further action\",\"Nothing found - no further action\",false,false,\"Nothing found - no further action\",\"Nothing found - no further action\",false,\"Article found - Detailed outcome unavailable\",\"Article found - Detailed outcome unavailable\",\"Nothing found - no further action\",false,\"Nothing found - no further action\",false,\"Suspect arrested\",\"Nothing found - no further action\",\"Nothing found - no further action\",\"Offender given penalty notice\",\"Nothing found - no further action\",\"Nothing found - no further action\",\"Local resolution\",false,\"Nothing found - no further action\",\"Nothing found - no further action\",\"Nothing found - no further action\",false,false,false,\"Nothing found - no further action\",\"Nothing found - no further action\",\"Nothing found - no further action\",\"Local resolution\",\"Nothing found - no further action\",\"Offender given drugs possession warning\",\"Nothing found - no further action\",\"Offender cautioned\",\"Nothing found - no further action\",\"Offender given drugs possession warning\",\"Nothing found - no further action\",\"Nothing found - no further action\",\"Nothing found - no further action\",\"Offender given drugs possession warning\",\"Offender given drugs possession warning\",\"Outcome\",\"Suspect summonsed to court\",\"Nothing found - no further action\",\"Local resolution\",\"Nothing found - no further action\",\"Nothing found - no further action\",\"Nothing found - no further action\",\"Nothing found - no further action\",\"Nothing found - no further action\",\"Nothing found - no further action\",false,\"Nothing found - no further action\",false,\"Nothing found - no further action\",false,\"Nothing found - no further action\",\"Nothing found - no further action\",false,false,false,false,false,\"Nothing found - no further action\",\"Nothing found - no further action\",\"Nothing found - no further action\",\"Nothing found - no further action\",\"Nothing found - no further action\",\"Article found - Detailed outcome unavailable\",false,false,\"Offender given drugs possession warning\",false,\"Nothing found - no further action\",\"Nothing found - no further action\",\"Nothing found - no further action\",\"Nothing found - no further action\",\"Nothing found - no further action\",\"Nothing found - no further action\",\"Local resolution\",\"Nothing found - no further action\",\"Offender given drugs possession warning\",\"Offender given penalty notice\",false,false,false,\"Suspect summonsed to court\",\"Nothing found - no further action\",\"Nothing found - no further action\",\"Nothing found - no further action\",false,\"Nothing found - no further action\",\"Nothing found - no further action\",\"Suspect arrested\",false,false,false,false,\"Offender given drugs possession warning\",\"Nothing found - no further action\",\"Offender cautioned\",false,\"Nothing found - no further action\",\"Nothing found - no further action\",\"Nothing found - no further action\",\"Nothing found - no further action\",false,false,\"Nothing found - no further action\",\"Nothing found - no further action\",\"Nothing found - no further action\",\"Nothing found - no further action\",\"Nothing found - no further action\",\"Nothing found - no further action\",\"Nothing found - no further action\",\"Nothing found - no further action\",\"Nothing found - no further action\",\"Local resolution\",\"Suspect arrested\",false,false,\"Nothing found - no further action\",\"Nothing found - no further action\",\"Nothing found - no further action\",\"Suspect summonsed to court\",\"Nothing found - no further action\",\"Nothing found - no further action\",\"Suspect summonsed to court\",\"Nothing found - no further action\",\"Nothing found - no further action\",\"Nothing found - no further action\",\"Nothing found - no further action\",\"Nothing found - no further action\",\"Offender given drugs possession warning\",false,\"Local resolution\",\"Suspect summonsed to court\",\"Nothing found - no further action\",\"Nothing found - no further action\",\"Offender given drugs possession warning\",\"Nothing found - no further action\",false,\"Nothing found - no further action\",\"Nothing found - no further action\",\"Nothing found - no further action\",\"Nothing found - no further action\",false,\"Nothing found - no further action\",\"Offender given drugs possession warning\",\"Nothing found - no further action\",\"Nothing found - no further action\",\"Nothing found - no further action\",\"Nothing found - no further action\",\"Nothing found - no further action\",\"Nothing found - no further action\",\"Nothing found - no further action\",\"Outcome\",\"Offender given drugs possession warning\",\"Nothing found - no further action\",\"Nothing found - no further action\",\"Nothing found - no further action\",\"Nothing found - no further action\",false,\"Nothing found - no further action\",\"Nothing found - no further action\",false,false,\"Nothing found - no further action\",\"Nothing found - no further action\",\"Offender given penalty notice\",\"Nothing found - no further action\",\"Local resolution\",false,\"Nothing found - no further action\",\"Nothing found - no further action\",\"Nothing found - no further action\",\"Nothing found - no further action\",\"Nothing found - no further action\",\"Nothing found - no further action\",\"Nothing found - no further action\",\"Nothing found - no further action\",\"Nothing found - no further action\",\"Nothing found - no further action\",\"Nothing found - no further action\",false,\"Nothing found - no further action\",\"Nothing found - no further action\",\"Local resolution\",\"Nothing found - no further action\",false,\"Nothing found - no further action\",\"Nothing found - no further action\",false,\"Nothing found - no further action\",\"Local resolution\",\"Article found - Detailed outcome unavailable\",\"Nothing found - no further action\",false,false,\"Nothing found - no further action\",\"Nothing found - no further action\",\"Nothing found - no further action\",\"Nothing found - no further action\",\"Nothing found - no further action\",\"Local resolution\",\"Suspect summonsed to court\",false,\"Nothing found - no further action\",false,\"Nothing found - no further action\",\"Local resolution\",\"Local resolution\",\"Nothing found - no further action\",\"Nothing found - no further action\",\"Nothing found - no further action\",\"Article found - Detailed outcome unavailable\",false,\"Nothing found - no further action\",\"Nothing found - no further action\",\"Nothing found - no further action\",\"Offender given drugs possession warning\",false,\"Article found - Detailed outcome unavailable\",false,\"Nothing found - no further action\",\"Nothing found - no further action\",\"Nothing found - no further action\",\"Nothing found - no further action\",\"Nothing found - no further action\",\"Nothing found - no further action\",\"Nothing found - no further action\",false,false,\"Suspect arrested\",false,\"Nothing found - no further action\",\"Nothing found - no further action\",false,\"Nothing found - no further action\",\"Nothing found - no further action\",\"Nothing found - no further action\",\"Nothing found - no further action\",\"Nothing found - no further action\",\"Nothing found - no further action\",\"Nothing found - no further action\",\"Nothing found - no further action\",\"Nothing found - no further action\",\"Nothing found - no further action\",\"Nothing found - no further action\",\"Nothing found - no further action\",\"Nothing found - no further action\",\"Nothing found - no further action\",false,\"Nothing found - no further action\",\"Nothing found - no further action\",false,false,false,false,false,\"Nothing found - no further action\",\"Nothing found - no further action\",\"Nothing found - no further action\",\"Outcome\",\"Nothing found - no further action\",\"Nothing found - no further action\",\"Nothing found - no further action\",\"Nothing found - no further action\",false,\"Nothing found - no further action\",\"Nothing found - no further action\",\"Offender given penalty notice\",\"Offender given penalty notice\",\"Nothing found - no further action\",false,\"Nothing found - no further action\",\"Nothing found - no further action\",false,false,\"Offender given drugs possession warning\",\"Nothing found - no further action\",\"Nothing found - no further action\",\"Nothing found - no further action\",\"Nothing found - no further action\",\"Nothing found - no further action\",\"Nothing found - no further action\",false,\"Nothing found - no further action\",\"Nothing found - no further action\",\"Nothing found - no further action\",false,false,false,\"Nothing found - no further action\",\"Nothing found - no further action\",\"Nothing found - no further action\",\"Nothing found - no further action\",\"Nothing found - no further action\",false,\"Local resolution\",false,\"Nothing found - no further action\",false,\"Nothing found - no further action\",\"Nothing found - no further action\",\"Nothing found - no further action\",\"Offender given drugs possession warning\",false,false,false,\"Nothing found - no further action\",\"Nothing found - no further action\",false,false,\"Suspect arrested\",\"Nothing found - no further action\",\"Nothing found - no further action\",\"Nothing found - no further action\",\"Nothing found - no further action\",\"Nothing found - no further action\",\"Nothing found - no further action\",false,\"Nothing found - no further action\",false,false,\"Nothing found - no further action\",false,false,false,\"Article found - Detailed outcome unavailable\",false,\"Article found - Detailed outcome unavailable\",\"Nothing found - no further action\",false,\"Nothing found - no further action\",\"Offender given drugs possession warning\",\"Article found - Detailed outcome unavailable\",false,false,false,\"Offender cautioned\",\"Local resolution\",\"Local resolution\",\"Nothing found - no further action\",\"Nothing found - no further action\",\"Nothing found - no further action\",\"Nothing found - no further action\",\"Nothing found - no further action\",\"Local resolution\",false,false,\"Nothing found - no further action\",\"Offender given drugs possession warning\",false,false,false,\"Nothing found - no further action\",\"Nothing found - no further action\",\"Nothing found - no further action\",false,false,false,\"Nothing found - no further action\",\"Local resolution\",\"Nothing found - no further action\",\"Local resolution\",\"Nothing found - no further action\",\"Outcome\",\"Article found - Detailed outcome unavailable\",\"Nothing found - no further action\",false,false,\"Article found - Detailed outcome unavailable\",\"Nothing found - no further action\",\"Nothing found - no further action\",\"Local resolution\",\"Nothing found - no further action\",\"Nothing found - no further action\",\"Nothing found - no further action\",\"Nothing found - no further action\",\"Suspect summonsed to court\",\"Nothing found - no further action\",\"Nothing found - no further action\",\"Nothing found - no further action\",\"Offender given drugs possession warning\",\"Nothing found - no further action\",\"Nothing found - no further action\",false,\"Nothing found - no further action\",\"Nothing found - no further action\",\"Offender given drugs possession warning\",false,\"Nothing found - no further action\",\"Nothing found - no further action\",\"Nothing found - no further action\",\"Offender given drugs possession warning\",false,false,\"Nothing found - no further action\",\"Nothing found - no further action\",false,\"Offender cautioned\",\"Nothing found - no further action\",false,\"Nothing found - no further action\",\"Nothing found - no further action\",\"Nothing found - no further action\",\"Nothing found - no further action\",\"Nothing found - no further action\",\"Nothing found - no further action\",\"Nothing found - no further action\",false,false,\"Offender given drugs possession warning\",false,false,\"Suspect arrested\",\"Offender given drugs possession warning\",\"Nothing found - no further action\",\"Nothing found - no further action\",false,\"Nothing found - no further action\",\"Nothing found - no further action\",\"Nothing found - no further action\",\"Nothing found - no further action\",\"Nothing found - no further action\",\"Nothing found - no further action\",\"Nothing found - no further action\",\"Nothing found - no further action\",\"Nothing found - no further action\",\"Local resolution\",false,\"Nothing found - no further action\",\"Suspect arrested\",\"Nothing found - no further action\",false,\"Nothing found - no further action\",false,\"Nothing found - no further action\",\"Nothing found - no further action\",false,false,\"Nothing found - no further action\",\"Nothing found - no further action\",\"Local resolution\",\"Nothing found - no further action\",\"Nothing found - no further action\",\"Nothing found - no further action\",\"Nothing found - no further action\",false,false,\"Nothing found - no further action\",false,\"Nothing found - no further action\",\"Offender given drugs possession warning\",\"Nothing found - no further action\",\"Offender given drugs possession warning\",\"Nothing found - no further action\",\"Nothing found - no further action\",\"Outcome\",\"Nothing found - no further action\",false,false,false,\"Nothing found - no further action\",false,false,false,\"Nothing found - no further action\",false,\"Nothing found - no further action\",\"Offender given drugs possession warning\",\"Nothing found - no further action\",\"Offender cautioned\",\"Nothing found - no further action\",\"Nothing found - no further action\",\"Nothing found - no further action\",false,\"Nothing found - no further action\",false,\"Nothing found - no further action\",\"Nothing found - no further action\",\"Nothing found - no further action\",\"Nothing found - no further action\",\"Nothing found - no further action\",\"Offender given drugs possession warning\",\"Nothing found - no further action\",\"Article found - Detailed outcome unavailable\",\"Nothing found - no further action\",\"Nothing found - no further action\",false,\"Nothing found - no further action\",\"Nothing found - no further action\",\"Nothing found - no further action\",\"Nothing found - no further action\",\"Nothing found - no further action\",\"Nothing found - no further action\",\"Nothing found - no further action\",false,\"Nothing found - no further action\",\"Nothing found - no further action\",\"Offender given penalty notice\",false,\"Local resolution\",\"Offender given drugs possession warning\",false,\"Local resolution\",\"Offender given drugs possession warning\",\"Nothing found - no further action\",\"Nothing found - no further action\",false,\"Nothing found - no further action\",\"Offender given drugs possession warning\",\"Article found - Detailed outcome unavailable\",\"Nothing found - no further action\",\"Nothing found - no further action\",\"Nothing found - no further action\",\"Nothing found - no further action\",false,\"Nothing found - no further action\",false,false,\"Nothing found - no further action\",false,\"Article found - Detailed outcome unavailable\",\"Nothing found - no further action\",\"Nothing found - no further action\",\"Nothing found - no further action\",\"Nothing found - no further action\",\"Nothing found - no further action\",\"Nothing found - no further action\",\"Nothing found - no further action\",\"Local resolution\",\"Nothing found - no further action\",\"Nothing found - no further action\",\"Nothing found - no further action\",\"Nothing found - no further action\",\"Nothing found - no further action\",\"Nothing found - no further action\",\"Offender given drugs possession warning\",\"Nothing found - no further action\",false,\"Nothing found - no further action\",\"Offender given drugs possession warning\",false,\"Nothing found - no further action\",\"Nothing found - no further action\",\"Nothing found - no further action\",\"Nothing found - no further action\",\"Local resolution\",\"Suspect summonsed to court\",\"Nothing found - no further action\",false,\"Local resolution\",false,false,\"Nothing found - no further action\",\"Nothing found - no further action\",\"Outcome\",false,false,false,false,false,\"Nothing found - no further action\",false,\"Nothing found - no further action\",false,\"Nothing found - no further action\",\"Nothing found - no further action\",\"Nothing found - no further action\",\"Nothing found - no further action\",\"Nothing found - no further action\",\"Nothing found - no further action\",\"Nothing found - no further action\",\"Offender given penalty notice\",\"Nothing found - no further action\",\"Nothing found - no further action\",\"Nothing found - no further action\",false,\"Nothing found - no further action\",\"Nothing found - no further action\",\"Nothing found - no further action\",false,\"Nothing found - no further action\",\"Nothing found - no further action\",\"Nothing found - no further action\",\"Nothing found - no further action\",\"Nothing found - no further action\",\"Offender cautioned\",false,\"Nothing found - no further action\",\"Nothing found - no further action\",\"Nothing found - no further action\",\"Nothing found - no further action\",\"Nothing found - no further action\",\"Nothing found - no further action\",false,\"Nothing found - no further action\",\"Nothing found - no further action\",\"Local resolution\",\"Local resolution\",\"Local resolution\",false,\"Local resolution\",\"Local resolution\",\"Nothing found - no further action\",\"Nothing found - no further action\",\"Nothing found - no further action\",\"Nothing found - no further action\",false,\"Local resolution\",\"Nothing found - no further action\",\"Nothing found - no further action\",\"Nothing found - no further action\",\"Nothing found - no further action\",false,false,\"Local resolution\",false,\"Nothing found - no further action\",false,\"Nothing found - no further action\",\"Nothing found - no further action\",\"Nothing found - no further action\",false,\"Nothing found - no further action\",\"Nothing found - no further action\",\"Nothing found - no further action\",\"Nothing found - no further action\",\"Nothing found - no further action\",\"Nothing found - no further action\",\"Nothing found - no further action\",\"Suspect arrested\",\"Nothing found - no further action\",\"Nothing found - no further action\",\"Article found - Detailed outcome unavailable\",\"Outcome\",\"Nothing found - no further action\",\"Nothing found - no further action\",\"Nothing found - no further action\",\"Nothing found - no further action\",\"Nothing found - no further action\",\"Nothing found - no further action\",\"Nothing found - no further action\",\"Nothing found - no further action\",\"Nothing found - no further action\",\"Nothing found - no further action\",\"Local resolution\",\"Suspect arrested\",\"Nothing found - no further action\",\"Suspect arrested\",\"Nothing found - no further action\",\"Nothing found - no further action\",\"Nothing found - no further action\",\"Nothing found - no further action\",\"Nothing found - no further action\",\"Nothing found - no further action\",\"Nothing found - no further action\",\"Suspect arrested\",\"Nothing found - no further action\",\"Nothing found - no further action\",\"Nothing found - no further action\",\"Nothing found - no further action\",\"Nothing found - no further action\",\"Nothing found - no further action\",\"Nothing found - no further action\",\"Nothing found - no further action\",\"Suspect arrested\",\"Local resolution\",\"Nothing found - no further action\",\"Nothing found - no further action\",\"Suspect arrested\",\"Nothing found - no further action\",\"Nothing found - no further action\",\"Nothing found - no further action\",\"Nothing found - no further action\",\"Nothing found - no further action\",\"Nothing found - no further action\",\"Nothing found - no further action\",\"Nothing found - no further action\",\"Nothing found - no further action\",\"Nothing found - no further action\",\"Nothing found - no further action\",\"Nothing found - no further action\",\"Nothing found - no further action\",\"Local resolution\",\"Local resolution\",\"Nothing found - no further action\",\"Nothing found - no further action\",\"Nothing found - no further action\",\"Offender given drugs possession warning\",\"Suspect arrested\",\"Offender given drugs possession warning\",\"Nothing found - no further action\",\"Nothing found - no further action\",\"Suspect arrested\",\"Nothing found - no further action\",\"Nothing found - no further action\",\"Suspect arrested\",\"Suspect arrested\",\"Nothing found - no further action\",\"Nothing found - no further action\",\"Nothing found - no further action\",\"Nothing found - no further action\",\"Local resolution\",\"Nothing found - no further action\",\"Suspect arrested\",\"Suspect arrested\",\"Nothing found - no further action\",\"Nothing found - no further action\",\"Nothing found - no further action\",\"Nothing found - no further action\",\"Nothing found - no further action\",\"Nothing found - no further action\",\"Nothing found - no further action\",\"Nothing found - no further action\",\"Suspect arrested\",\"Nothing found - no further action\",\"Nothing found - no further action\",\"Suspect arrested\",\"Nothing found - no further action\",\"Nothing found - no further action\",\"Suspect arrested\",\"Nothing found - no further action\",\"Nothing found - no further action\",\"Suspect arrested\",\"Outcome\",\"Nothing found - no further action\",\"Offender given drugs possession warning\",\"Offender given drugs possession warning\",\"Nothing found - no further action\",\"Nothing found - no further action\",\"Nothing found - no further action\",\"Nothing found - no further action\",\"Nothing found - no further action\",\"Nothing found - no further action\",\"Nothing found - no further action\",\"Nothing found - no further action\",\"Nothing found - no further action\",\"Nothing found - no further action\",\"Nothing found - no further action\",\"Nothing found - no further action\",\"Nothing found - no further action\",\"Nothing found - no further action\",\"Nothing found - no further action\",\"Suspect summonsed to court\",\"Nothing found - no further action\",\"Nothing found - no further action\",\"Nothing found - no further action\",\"Nothing found - no further action\",\"Nothing found - no further action\",\"Nothing found - no further action\",\"Nothing found - no further action\",\"Nothing found - no further action\",\"Nothing found - no further action\",\"Nothing found - no further action\",\"Nothing found - no further action\",\"Nothing found - no further action\",\"Nothing found - no further action\",\"Nothing found - no further action\",\"Nothing found - no further action\",\"Suspect arrested\",\"Nothing found - no further action\",\"Nothing found - no further action\",\"Nothing found - no further action\",\"Nothing found - no further action\",\"Nothing found - no further action\",\"Local resolution\",\"Nothing found - no further action\",\"Nothing found - no further action\",\"Nothing found - no further action\",\"Nothing found - no further action\",\"Nothing found - no further action\",\"Nothing found - no further action\",\"Nothing found - no further action\",\"Nothing found - no further action\",\"Nothing found - no further action\",\"Nothing found - no further action\",\"Nothing found - no further action\",\"Nothing found - no further action\",\"Nothing found - no further action\",\"Nothing found - no further action\",\"Nothing found - no further action\",\"Suspect arrested\",\"Suspect arrested\",\"Nothing found - no further action\",\"Nothing found - no further action\",\"Nothing found - no further action\",\"Suspect arrested\",\"Suspect arrested\",\"Local resolution\",\"Suspect arrested\",\"Nothing found - no further action\",\"Nothing found - no further action\",\"Nothing found - no further action\",\"Nothing found - no further action\",\"Nothing found - no further action\",\"Nothing found - no further action\",\"Nothing found - no further action\",\"Nothing found - no further action\",\"Nothing found - no further action\",\"Nothing found - no further action\",\"Offender given drugs possession warning\",\"Nothing found - no further action\",\"Nothing found - no further action\",\"Nothing found - no further action\",\"Nothing found - no further action\",\"Nothing found - no further action\",\"Nothing found - no further action\",\"Nothing found - no further action\",\"Nothing found - no further action\",\"Nothing found - no further action\",\"Nothing found - no further action\",\"Nothing found - no further action\",\"Nothing found - no further action\",\"Nothing found - no further action\",\"Nothing found - no further action\",\"Outcome\",\"Nothing found - no further action\",\"Nothing found - no further action\",\"Offender given drugs possession warning\",\"Offender given drugs possession warning\",\"Nothing found - no further action\",\"Nothing found - no further action\",\"Suspect arrested\",\"Nothing found - no further action\",\"Nothing found - no further action\",\"Nothing found - no further action\",\"Nothing found - no further action\",\"Suspect arrested\",\"Suspect summonsed to court\",\"Local resolution\",\"Nothing found - no further action\",\"Nothing found - no further action\",\"Nothing found - no further action\",\"Local resolution\",\"Nothing found - no further action\",\"Suspect arrested\",\"Nothing found - no further action\",\"Suspect arrested\",\"Nothing found - no further action\",\"Nothing found - no further action\",\"Offender given drugs possession warning\",\"Nothing found - no further action\",\"Nothing found - no further action\",\"Nothing found - no further action\",\"Nothing found - no further action\",\"Suspect arrested\",\"Nothing found - no further action\",\"Suspect arrested\",\"Nothing found - no further action\",\"Nothing found - no further action\",\"Nothing found - no further action\",\"Nothing found - no further action\",\"Suspect arrested\",\"Nothing found - no further action\",\"Nothing found - no further action\",\"Nothing found - no further action\",\"Nothing found - no further action\",\"Nothing found - no further action\",\"Offender given drugs possession warning\",\"Nothing found - no further action\",\"Nothing found - no further action\",\"Nothing found - no further action\",\"Nothing found - no further action\",\"Nothing found - no further action\",\"Nothing found - no further action\",\"Nothing found - no further action\",\"Suspect arrested\",\"Suspect arrested\",\"Suspect arrested\",\"Suspect arrested\",\"Suspect arrested\",\"Nothing found - no further action\",\"Suspect arrested\",\"Nothing found - no further action\",\"Nothing found - no further action\",\"Nothing found - no further action\",\"Offender given drugs possession warning\",\"Nothing found - no further action\",\"Nothing found - no further action\",\"Nothing found - no further action\",\"Nothing found - no further action\",\"Nothing found - no further action\",\"Nothing found - no further action\",\"Suspect arrested\",\"Nothing found - no further action\",\"Suspect arrested\",\"Nothing found - no further action\",\"Nothing found - no further action\",\"Nothing found - no further action\",\"Suspect arrested\",\"Nothing found - no further action\",\"Nothing found - no further action\",\"Nothing found - no further action\",\"Nothing found - no further action\",\"Offender given drugs possession warning\",\"Nothing found - no further action\",\"Nothing found - no further action\",\"Suspect arrested\",\"Suspect arrested\",\"Outcome\",\"Nothing found - no further action\",\"Suspect arrested\",\"Nothing found - no further action\",\"Nothing found - no further action\",\"Nothing found - no further action\",\"Nothing found - no further action\",\"Nothing found - no further action\",\"Nothing found - no further action\",\"Nothing found - no further action\",\"Nothing found - no further action\",\"Nothing found - no further action\",\"Nothing found - no further action\",\"Nothing found - no further action\",\"Offender given drugs possession warning\",\"Suspect arrested\",\"Suspect arrested\",\"Suspect arrested\",\"Nothing found - no further action\",\"Nothing found - no further action\",\"Nothing found - no further action\",\"Nothing found - no further action\",\"Nothing found - no further action\",\"Nothing found - no further action\",\"Local resolution\",\"Local resolution\",\"Suspect arrested\",\"Nothing found - no further action\",\"Nothing found - no further action\",\"Nothing found - no further action\",\"Suspect arrested\",\"Nothing found - no further action\",\"Nothing found - no further action\",\"Offender given drugs possession warning\",\"Suspect arrested\",\"Nothing found - no further action\",\"Suspect arrested\",\"Nothing found - no further action\",\"Nothing found - no further action\",\"Nothing found - no further action\",\"Nothing found - no further action\",\"Nothing found - no further action\",\"Local resolution\",\"Nothing found - no further action\",\"Suspect arrested\",\"Nothing found - no further action\",\"Nothing found - no further action\",\"Nothing found - no further action\",\"Nothing found - no further action\",\"Nothing found - no further action\",\"Nothing found - no further action\",\"Nothing found - no further action\",\"Nothing found - no further action\",\"Local resolution\",\"Nothing found - no further action\",\"Nothing found - no further action\",\"Suspect arrested\",\"Suspect arrested\",\"Nothing found - no further action\",\"Nothing found - no further action\",\"Nothing found - no further action\",\"Offender given drugs possession warning\",\"Nothing found - no further action\",\"Nothing found - no further action\",\"Nothing found - no further action\",\"Nothing found - no further action\",\"Nothing found - no further action\",\"Nothing found - no further action\",\"Offender given drugs possession warning\",\"Nothing found - no further action\",\"Nothing found - no further action\",\"Outcome\",\"Suspect arrested\",\"Offender given drugs possession warning\",\"Nothing found - no further action\",\"Offender given drugs possession warning\",\"Suspect arrested\",\"Nothing found - no further action\",\"Nothing found - no further action\",\"Nothing found - no further action\",\"Suspect arrested\",\"Nothing found - no further action\",\"Nothing found - no further action\",\"Nothing found - no further action\",\"Nothing found - no further action\",\"Nothing found - no further action\",\"Nothing found - no further action\",\"Nothing found - no further action\",\"Nothing found - no further action\",\"Offender given drugs possession warning\",\"Nothing found - no further action\",\"Suspect arrested\",\"Nothing found - no further action\",\"Nothing found - no further action\",\"Nothing found - no further action\",\"Nothing found - no further action\",\"Nothing found - no further action\",\"Nothing found - no further action\",\"Nothing found - no further action\",\"Nothing found - no further action\",\"Suspect arrested\",\"Offender given drugs possession warning\",\"Suspect arrested\",\"Nothing found - no further action\",\"Offender given drugs possession warning\",\"Suspect arrested\",\"Suspect arrested\",\"Suspect arrested\",\"Nothing found - no further action\",\"Nothing found - no further action\",\"Suspect arrested\",\"Suspect arrested\",\"Suspect arrested\",\"Suspect arrested\",\"Nothing found - no further action\",\"Nothing found - no further action\",\"Nothing found - no further action\",\"Nothing found - no further action\",\"Nothing found - no further action\",\"Local resolution\",\"Nothing found - no further action\",\"Nothing found - no further action\",\"Nothing found - no further action\",\"Suspect arrested\",\"Nothing found - no further action\",\"Nothing found - no further action\",\"Nothing found - no further action\",\"Nothing found - no further action\",\"Offender given drugs possession warning\",\"Nothing found - no further action\",\"Offender given drugs possession warning\",\"Offender given drugs possession warning\",\"Nothing found - no further action\",\"Suspect arrested\",\"Nothing found - no further action\",\"Nothing found - no further action\",\"Nothing found - no further action\",\"Nothing found - no further action\",\"Suspect arrested\",\"Offender given drugs possession warning\",\"Nothing found - no further action\",\"Nothing found - no further action\",\"Suspect arrested\",\"Nothing found - no further action\",\"Nothing found - no further action\",\"Nothing found - no further action\",\"Offender given drugs possession warning\",\"Nothing found - no further action\",\"Nothing found - no further action\",\"Nothing found - no further action\",\"Nothing found - no further action\",\"Nothing found - no further action\",\"Nothing found - no further action\",\"Nothing found - no further action\",\"Nothing found - no further action\",\"Nothing found - no further action\",\"Nothing found - no further action\",\"Nothing found - no further action\",\"Offender given drugs possession warning\",\"Offender given drugs possession warning\",\"Nothing found - no further action\",\"Nothing found - no further action\",\"Suspect arrested\",\"Nothing found - no further action\",\"Nothing found - no further action\",\"Nothing found - no further action\",\"Nothing found - no further action\",\"Nothing found - no further action\",\"Nothing found - no further action\",\"Nothing found - no further action\",\"Offender given drugs possession warning\",\"Nothing found - no further action\",\"Nothing found - no further action\",\"Local resolution\",\"Nothing found - no further action\",\"Nothing found - no further action\",\"Suspect arrested\",\"Nothing found - no further action\",\"Suspect arrested\",\"Nothing found - no further action\",\"Suspect arrested\",\"Nothing found - no further action\",\"Suspect arrested\",\"Suspect arrested\",\"Nothing found - no further action\",\"Nothing found - no further action\",\"Offender given drugs possession warning\",\"Offender given drugs possession warning\",\"Suspect arrested\",\"Suspect arrested\",\"Offender given penalty notice\",\"Outcome\",\"Penalty Notice for Disorder\",\"A no further action disposal\",\"A no further action disposal\",\"A no further action disposal\",\"A no further action disposal\",\"A no further action disposal\",\"A no further action disposal\",false,false,\"A no further action disposal\",\"A no further action disposal\",\"Arrest\",\"Arrest\",\"A no further action disposal\",\"A no further action disposal\",\"A no further action disposal\",\"A no further action disposal\",\"A no further action disposal\",\"A no further action disposal\",\"A no further action disposal\",\"Khat or Cannabis warning\",\"A no further action disposal\",\"A no further action disposal\",\"A no further action disposal\",\"A no further action disposal\",\"A no further action disposal\",\"Arrest\",\"A no further action disposal\",\"A no further action disposal\",\"A no further action disposal\",\"A no further action disposal\",\"Arrest\",\"A no further action disposal\",\"A no further action disposal\",\"Khat or Cannabis warning\",\"Arrest\",\"A no further action disposal\",\"A no further action disposal\",\"A no further action disposal\",\"Khat or Cannabis warning\",\"Arrest\",\"A no further action disposal\",\"A no further action disposal\",\"Penalty Notice for Disorder\",\"Khat or Cannabis warning\",\"Arrest\",\"A no further action disposal\",\"A no further action disposal\",\"Arrest\",\"Arrest\",\"Arrest\",\"A no further action disposal\",\"A no further action disposal\",\"A no further action disposal\",\"A no further action disposal\",\"A no further action disposal\",false,\"A no further action disposal\",\"A no further action disposal\",\"A no further action disposal\",\"Khat or Cannabis warning\",\"A no further action disposal\",\"Khat or Cannabis warning\",\"Khat or Cannabis warning\",\"A no further action disposal\",\"A no further action disposal\",\"Arrest\",\"Arrest\",\"A no further action disposal\",\"A no further action disposal\",\"A no further action disposal\",\"Arrest\",\"Community resolution\",\"Arrest\",\"Arrest\",\"Arrest\",\"A no further action disposal\",\"Outcome\",\"Khat or Cannabis warning\",\"A no further action disposal\",\"A no further action disposal\",\"Arrest\",\"A no further action disposal\",\"A no further action disposal\",\"A no further action disposal\",\"Arrest\",\"A no further action disposal\",\"A no further action disposal\",\"Arrest\",\"Arrest\",\"A no further action disposal\",\"A no further action disposal\",\"Arrest\",\"A no further action disposal\",\"A no further action disposal\",\"A no further action disposal\",\"A no further action disposal\",\"A no further action disposal\",\"A no further action disposal\",\"A no further action disposal\",\"Arrest\",\"Khat or Cannabis warning\",\"Arrest\",\"Arrest\",\"A no further action disposal\",\"A no further action disposal\",\"A no further action disposal\",\"A no further action disposal\",\"A no further action disposal\",\"Arrest\",\"A no further action disposal\",\"A no further action disposal\",\"A no further action disposal\",\"A no further action disposal\",\"A no further action disposal\",\"A no further action disposal\",false,\"A no further action disposal\",\"A no further action disposal\",\"A no further action disposal\",\"A no further action disposal\",\"A no further action disposal\",\"A no further action disposal\",\"A no further action disposal\",false,\"A no further action disposal\",\"Arrest\",\"Arrest\",\"Khat or Cannabis warning\",\"Khat or Cannabis warning\",\"Khat or Cannabis warning\",\"Arrest\",\"A no further action disposal\",\"Arrest\",\"A no further action disposal\",\"A no further action disposal\",\"A no further action disposal\",\"A no further action disposal\",\"A no further action disposal\",\"A no further action disposal\",\"Penalty Notice for Disorder\",\"Penalty Notice for Disorder\",\"A no further action disposal\",\"A no further action disposal\",\"Arrest\",\"A no further action disposal\",\"A no further action disposal\",\"Arrest\",\"Arrest\",\"Arrest\",\"Arrest\",\"A no further action disposal\",\"A no further action disposal\",\"Community resolution\",\"Arrest\",false,false,\"A no further action disposal\",false,false,\"Arrest\",\"Arrest\",\"A no further action disposal\",\"A no further action disposal\",\"Arrest\",\"A no further action disposal\",\"A no further action disposal\",\"A no further action disposal\",\"A no further action disposal\",\"Arrest\",\"Arrest\",\"Arrest\",\"Arrest\",\"Arrest\",\"Arrest\",\"Outcome\",\"A no further action disposal\",\"A no further action disposal\",\"A no further action disposal\",\"Arrest\",\"A no further action disposal\",\"A no further action disposal\",\"A no further action disposal\",\"A no further action disposal\",\"A no further action disposal\",\"A no further action disposal\",\"A no further action disposal\",\"Arrest\",\"Arrest\",\"A no further action disposal\",false,\"Arrest\",\"A no further action disposal\",\"A no further action disposal\",\"Khat or Cannabis warning\",\"Caution (simple or conditional)\",\"Khat or Cannabis warning\",\"Khat or Cannabis warning\",\"Arrest\",\"A no further action disposal\",\"Community resolution\",\"Arrest\",\"A no further action disposal\",\"Arrest\",\"A no further action disposal\",\"A no further action disposal\",\"Khat or Cannabis warning\",\"A no further action disposal\",\"A no further action disposal\",\"Arrest\",\"Arrest\",\"A no further action disposal\",\"Khat or Cannabis warning\",\"A no further action disposal\",\"Arrest\",\"A no further action disposal\",\"A no further action disposal\",\"A no further action disposal\",\"A no further action disposal\",\"A no further action disposal\",\"A no further action disposal\",\"A no further action disposal\",\"Arrest\",\"A no further action disposal\",\"Arrest\",\"A no further action disposal\",\"Khat or Cannabis warning\",\"A no further action disposal\",\"Arrest\",\"A no further action disposal\",\"A no further action disposal\",\"A no further action disposal\",\"A no further action disposal\",\"A no further action disposal\",\"A no further action disposal\",\"A no further action disposal\",\"A no further action disposal\",\"A no further action disposal\",\"A no further action disposal\",\"Khat or Cannabis warning\",\"Khat or Cannabis warning\",\"A no further action disposal\",\"A no further action disposal\",\"A no further action disposal\",\"A no further action disposal\",\"A no further action disposal\",\"A no further action disposal\",\"A no further action disposal\",\"Arrest\",\"A no further action disposal\",\"Outcome\",\"Khat or Cannabis warning\",\"Arrest\",\"Community resolution\",false,\"A no further action disposal\",\"Arrest\",\"Summons / charged by post\",\"Khat or Cannabis warning\",\"Arrest\",\"Khat or Cannabis warning\",\"Arrest\",\"A no further action disposal\",\"Arrest\",\"Arrest\",\"Khat or Cannabis warning\",\"Penalty Notice for Disorder\",\"Khat or Cannabis warning\",\"A no further action disposal\",\"Community resolution\",\"Arrest\",\"Arrest\",\"Arrest\",\"Arrest\",\"Arrest\",\"A no further action disposal\",\"Arrest\",\"A no further action disposal\",\"Arrest\",\"Arrest\",\"Arrest\",\"Arrest\",\"Arrest\",\"Arrest\",\"A no further action disposal\",\"Arrest\",\"Outcome\",\"A no further action disposal\",\"A no further action disposal\",\"A no further action disposal\",\"Arrest\",\"A no further action disposal\",\"Khat or Cannabis warning\",\"A no further action disposal\",\"A no further action disposal\",\"A no further action disposal\",\"A no further action disposal\",\"A no further action disposal\",\"Arrest\",\"A no further action disposal\",\"A no further action disposal\",\"A no further action disposal\",\"A no further action disposal\",\"Arrest\",\"A no further action disposal\",\"Arrest\",\"Khat or Cannabis warning\",\"Arrest\",\"A no further action disposal\",\"A no further action disposal\",false,\"A no further action disposal\",\"A no further action disposal\",\"A no further action disposal\",\"A no further action disposal\",\"A no further action disposal\",\"A no further action disposal\",\"Community resolution\",\"A no further action disposal\",\"A no further action disposal\",\"Arrest\",\"A no further action disposal\",\"A no further action disposal\",\"Khat or Cannabis warning\",false,\"A no further action disposal\",\"Arrest\",\"A no further action disposal\",\"A no further action disposal\",\"A no further action disposal\",\"A no further action disposal\",\"A no further action disposal\",\"A no further action disposal\",\"A no further action disposal\",\"Arrest\",\"A no further action disposal\",\"Arrest\",\"Arrest\",\"Community resolution\",\"A no further action disposal\",\"A no further action disposal\",\"A no further action disposal\",\"Khat or Cannabis warning\",\"A no further action disposal\",\"A no further action disposal\",\"A no further action disposal\",\"A no further action disposal\",\"A no further action disposal\",\"A no further action disposal\",\"A no further action disposal\",\"A no further action disposal\",\"A no further action disposal\",\"Arrest\",\"Arrest\",\"Arrest\",\"A no further action disposal\",\"A no further action disposal\",\"A no further action disposal\",\"A no further action disposal\",\"Arrest\",\"Khat or Cannabis warning\",\"A no further action disposal\",\"Arrest\",\"A no further action disposal\",\"A no further action disposal\",\"A no further action disposal\",\"Khat or Cannabis warning\",\"Arrest\",\"A no further action disposal\",\"A no further action disposal\",\"A no further action disposal\",\"A no further action disposal\",\"Arrest\",false,\"A no further action disposal\",\"A no further action disposal\",\"A no further action disposal\",\"A no further action disposal\",\"A no further action disposal\",\"Arrest\",\"Arrest\",\"Khat or Cannabis warning\",\"A no further action disposal\",\"A no further action disposal\",\"A no further action disposal\",\"A no further action disposal\",\"A no further action disposal\",\"Arrest\",\"A no further action disposal\",\"A no further action disposal\",\"A no further action disposal\",\"Khat or Cannabis warning\",\"A no further action disposal\",\"Arrest\",\"A no further action disposal\",\"Arrest\",\"Arrest\",\"A no further action disposal\",\"A no further action disposal\",\"Khat or Cannabis warning\",\"Khat or Cannabis warning\",\"A no further action disposal\",\"A no further action disposal\",\"A no further action disposal\",\"A no further action disposal\",\"A no further action disposal\",\"Khat or Cannabis warning\",\"A no further action disposal\",\"A no further action disposal\",\"A no further action disposal\",\"Khat or Cannabis warning\",\"A no further action disposal\",\"Outcome\",\"A no further action disposal\",\"A no further action disposal\",\"Arrest\",\"Arrest\",\"Arrest\",\"A no further action disposal\",\"A no further action disposal\",\"A no further action disposal\",\"Arrest\",\"Arrest\",\"A no further action disposal\",\"A no further action disposal\",\"A no further action disposal\",\"A no further action disposal\",\"A no further action disposal\",\"Arrest\",\"A no further action disposal\",\"A no further action disposal\",\"A no further action disposal\",\"A no further action disposal\",\"A no further action disposal\",\"Arrest\",\"A no further action disposal\",\"Arrest\",\"Arrest\",\"Arrest\",\"Arrest\",\"A no further action disposal\",\"Khat or Cannabis warning\",\"Community resolution\",\"Arrest\",\"Arrest\",\"A no further action disposal\",\"A no further action disposal\",\"Arrest\",\"Arrest\",\"Arrest\",\"A no further action disposal\",\"A no further action disposal\",\"A no further action disposal\",\"A no further action disposal\",\"A no further action disposal\",\"Arrest\",\"A no further action disposal\",\"Arrest\",\"A no further action disposal\",false,\"A no further action disposal\",\"Khat or Cannabis warning\",\"A no further action disposal\",\"Arrest\",\"Arrest\",\"A no further action disposal\",\"A no further action disposal\",\"A no further action disposal\",\"A no further action disposal\",\"A no further action disposal\",\"A no further action disposal\",\"A no further action disposal\",\"Arrest\",\"A no further action disposal\",\"A no further action disposal\",\"A no further action disposal\",\"A no further action disposal\",\"A no further action disposal\",\"Arrest\",\"Arrest\",\"A no further action disposal\",\"Arrest\",\"A no further action disposal\",\"Arrest\",\"A no further action disposal\",\"A no further action disposal\",\"A no further action disposal\",\"A no further action disposal\",\"Khat or Cannabis warning\",\"Khat or Cannabis warning\",\"Arrest\",\"A no further action disposal\",\"A no further action disposal\",\"A no further action disposal\",\"A no further action disposal\",\"A no further action disposal\",\"A no further action disposal\",\"A no further action disposal\",\"A no further action disposal\",\"A no further action disposal\",\"Arrest\",\"Khat or Cannabis warning\",\"Arrest\",\"Arrest\",\"A no further action disposal\",\"Arrest\",\"A no further action disposal\",\"A no further action disposal\",\"A no further action disposal\",\"A no further action disposal\",\"Arrest\",\"Khat or Cannabis warning\",\"Khat or Cannabis warning\",\"A no further action disposal\",\"Caution (simple or conditional)\",false,\"A no further action disposal\",\"A no further action disposal\",\"Arrest\",\"A no further action disposal\",\"A no further action disposal\",\"Arrest\",\"Arrest\",\"A no further action disposal\",\"Arrest\",\"A no further action disposal\",\"A no further action disposal\",\"A no further action disposal\",\"Arrest\",\"A no further action disposal\",\"A no further action disposal\",\"Arrest\",\"A no further action disposal\",\"A no further action disposal\",\"Arrest\",\"A no further action disposal\",\"A no further action disposal\",\"A no further action disposal\",\"Arrest\",\"A no further action disposal\",\"Arrest\",\"Khat or Cannabis warning\",\"Khat or Cannabis warning\",\"Khat or Cannabis warning\",\"Outcome\",\"Khat or Cannabis warning\",\"A no further action disposal\",\"A no further action disposal\",\"A no further action disposal\",\"A no further action disposal\",\"Khat or Cannabis warning\",\"Arrest\",\"Arrest\",\"A no further action disposal\",\"A no further action disposal\",\"A no further action disposal\",\"Arrest\",\"Arrest\",\"A no further action disposal\",\"A no further action disposal\",\"A no further action disposal\",\"A no further action disposal\",\"A no further action disposal\",\"Khat or Cannabis warning\",\"A no further action disposal\",\"Arrest\",\"A no further action disposal\",\"A no further action disposal\",\"A no further action disposal\",\"A no further action disposal\",\"A no further action disposal\",\"Arrest\",\"Arrest\",\"A no further action disposal\",\"Arrest\",\"A no further action disposal\",\"A no further action disposal\",\"A no further action disposal\",\"A no further action disposal\",\"A no further action disposal\",\"Arrest\",\"A no further action disposal\",\"A no further action disposal\",\"A no further action disposal\",\"A no further action disposal\",\"A no further action disposal\",\"A no further action disposal\",\"Khat or Cannabis warning\",\"Arrest\",\"A no further action disposal\",\"A no further action disposal\",\"Arrest\",\"A no further action disposal\",\"Khat or Cannabis warning\",\"A no further action disposal\",\"A no further action disposal\",\"Khat or Cannabis warning\",\"A no further action disposal\",\"A no further action disposal\",\"A no further action disposal\",\"A no further action disposal\",\"A no further action disposal\",\"A no further action disposal\",\"A no further action disposal\",\"A no further action disposal\",\"A no further action disposal\",\"Khat or Cannabis warning\",\"Community resolution\",\"Arrest\",false,\"Penalty Notice for Disorder\",\"A no further action disposal\",\"A no further action disposal\",\"A no further action disposal\",\"A no further action disposal\",\"Arrest\",\"Arrest\",\"A no further action disposal\",\"A no further action disposal\",\"Khat or Cannabis warning\",\"A no further action disposal\",\"Khat or Cannabis warning\",\"Arrest\",\"A no further action disposal\",\"A no further action disposal\",\"Arrest\",\"A no further action disposal\",\"Arrest\",\"Arrest\",\"A no further action disposal\",\"A no further action disposal\",false,\"Arrest\",\"Arrest\",\"A no further action disposal\",\"A no further action disposal\",\"A no further action disposal\",\"A no further action disposal\",\"A no further action disposal\",\"A no further action disposal\",\"A no further action disposal\",\"A no further action disposal\",\"A no further action disposal\",\"A no further action disposal\",\"A no further action disposal\",\"A no further action disposal\",\"A no further action disposal\",\"A no further action disposal\",\"Khat or Cannabis warning\",\"Khat or Cannabis warning\",\"A no further action disposal\",\"A no further action disposal\",false,\"A no further action disposal\",\"A no further action disposal\",\"Arrest\",\"Arrest\",\"Arrest\",\"Outcome\",\"Arrest\",\"Khat or Cannabis warning\",\"Arrest\",\"Arrest\",\"A no further action disposal\",\"A no further action disposal\",\"A no further action disposal\",\"A no further action disposal\",\"Khat or Cannabis warning\",\"Khat or Cannabis warning\",\"A no further action disposal\",\"A no further action disposal\",\"A no further action disposal\",\"Arrest\",\"Arrest\",\"Khat or Cannabis warning\",\"A no further action disposal\",\"A no further action disposal\",\"A no further action disposal\",\"A no further action disposal\",\"Arrest\",\"A no further action disposal\",\"A no further action disposal\",\"A no further action disposal\",\"A no further action disposal\",\"A no further action disposal\",\"Community resolution\",\"A no further action disposal\",\"A no further action disposal\",\"Khat or Cannabis warning\",\"Arrest\",\"A no further action disposal\",\"A no further action disposal\",\"Arrest\",\"A no further action disposal\",\"Arrest\",\"A no further action disposal\",\"A no further action disposal\",\"Arrest\",\"A no further action disposal\",\"A no further action disposal\",\"A no further action disposal\",\"A no further action disposal\",\"A no further action disposal\",\"Arrest\",\"A no further action disposal\",\"A no further action disposal\",\"A no further action disposal\",\"Arrest\",\"Arrest\",\"Arrest\",\"A no further action disposal\",\"A no further action disposal\",\"A no further action disposal\",\"A no further action disposal\",\"A no further action disposal\",\"Arrest\",\"A no further action disposal\",\"A no further action disposal\",\"Arrest\",\"Arrest\",\"A no further action disposal\",\"Penalty Notice for Disorder\",\"A no further action disposal\",\"A no further action disposal\",\"A no further action disposal\",\"A no further action disposal\",\"Arrest\",\"A no further action disposal\",\"Arrest\",\"A no further action disposal\",\"A no further action disposal\",\"A no further action disposal\",\"A no further action disposal\",\"A no further action disposal\",\"Arrest\",\"A no further action disposal\",\"A no further action disposal\",\"A no further action disposal\",\"A no further action disposal\",\"Arrest\",\"Arrest\",\"Arrest\",\"A no further action disposal\",\"A no further action disposal\",\"Penalty Notice for Disorder\",\"A no further action disposal\",\"Caution (simple or conditional)\",\"A no further action disposal\",\"A no further action disposal\",\"A no further action disposal\",\"Arrest\",\"Arrest\",\"A no further action disposal\",\"A no further action disposal\",\"A no further action disposal\",\"A no further action disposal\",\"A no further action disposal\",\"A no further action disposal\",\"A no further action disposal\",\"Arrest\",\"Khat or Cannabis warning\",\"Khat or Cannabis warning\",\"Penalty Notice for Disorder\",\"A no further action disposal\",\"A no further action disposal\",\"Arrest\",\"Arrest\",\"A no further action disposal\",\"A no further action disposal\",\"Arrest\",\"Khat or Cannabis warning\",\"Outcome\",\"A no further action disposal\",\"A no further action disposal\",\"Arrest\",\"Arrest\",\"Khat or Cannabis warning\",\"Arrest\",\"A no further action disposal\",\"A no further action disposal\",\"Khat or Cannabis warning\",\"A no further action disposal\",\"A no further action disposal\",\"Khat or Cannabis warning\",\"A no further action disposal\",\"Arrest\",\"Arrest\",\"A no further action disposal\",\"Community resolution\",\"Arrest\",\"Arrest\",\"Arrest\",\"A no further action disposal\",\"A no further action disposal\",\"A no further action disposal\",\"A no further action disposal\",\"Arrest\",\"A no further action disposal\",\"A no further action disposal\",\"A no further action disposal\",\"A no further action disposal\",\"A no further action disposal\",\"A no further action disposal\",\"Arrest\",\"Arrest\",\"A no further action disposal\",\"A no further action disposal\",\"A no further action disposal\",\"A no further action disposal\",\"A no further action disposal\",\"Khat or Cannabis warning\",\"A no further action disposal\",\"Arrest\",\"A no further action disposal\",\"Community resolution\",\"A no further action disposal\",\"Arrest\",\"A no further action disposal\",\"A no further action disposal\",\"A no further action disposal\",\"Arrest\",\"A no further action disposal\",\"A no further action disposal\",false,\"A no further action disposal\",\"Khat or Cannabis warning\",\"Community resolution\",\"Community resolution\",\"Arrest\",\"Arrest\",\"Arrest\",\"Khat or Cannabis warning\",\"Arrest\",\"Arrest\",\"A no further action disposal\",\"A no further action disposal\",\"Arrest\",\"Arrest\",\"A no further action disposal\",\"Arrest\",\"A no further action disposal\",\"A no further action disposal\",\"A no further action disposal\",false,\"A no further action disposal\",\"A no further action disposal\",\"Khat or Cannabis warning\",\"A no further action disposal\",\"Arrest\",\"Arrest\",\"A no further action disposal\",\"A no further action disposal\",\"A no further action disposal\",\"A no further action disposal\",\"Arrest\",\"Arrest\",\"A no further action disposal\",\"A no further action disposal\",\"A no further action disposal\",\"A no further action disposal\",\"Community resolution\",\"Community resolution\",\"Arrest\",\"Arrest\",\"Arrest\",\"Community resolution\",\"A no further action disposal\",\"Arrest\",\"A no further action disposal\",\"A no further action disposal\",\"A no further action disposal\",\"A no further action disposal\",\"A no further action disposal\",\"A no further action disposal\",\"A no further action disposal\",\"Arrest\",\"Outcome\",\"A no further action disposal\",\"Community resolution\",\"A no further action disposal\",\"A no further action disposal\",\"A no further action disposal\",\"A no further action disposal\",\"A no further action disposal\",\"Khat or Cannabis warning\",\"Arrest\",\"Arrest\",\"A no further action disposal\",\"A no further action disposal\",\"A no further action disposal\",\"A no further action disposal\",\"A no further action disposal\",\"Penalty Notice for Disorder\",\"Penalty Notice for Disorder\",\"Khat or Cannabis warning\",\"Arrest\",\"A no further action disposal\",\"A no further action disposal\",\"Arrest\",\"Arrest\",\"A no further action disposal\",\"Caution (simple or conditional)\",\"A no further action disposal\",\"A no further action disposal\",\"A no further action disposal\",\"A no further action disposal\",\"Arrest\",\"Arrest\",\"A no further action disposal\",\"Khat or Cannabis warning\",\"A no further action disposal\",\"Arrest\",\"Arrest\",\"Arrest\",\"Arrest\",\"A no further action disposal\",\"A no further action disposal\",\"A no further action disposal\",\"A no further action disposal\",\"Arrest\",\"A no further action disposal\",\"A no further action disposal\",\"A no further action disposal\",\"A no further action disposal\",\"A no further action disposal\",\"A no further action disposal\",\"A no further action disposal\",\"Arrest\",\"A no further action disposal\",\"A no further action disposal\",\"Khat or Cannabis warning\",\"A no further action disposal\",\"A no further action disposal\",\"A no further action disposal\",\"A no further action disposal\",\"Arrest\",\"A no further action disposal\",\"A no further action disposal\",\"Arrest\",\"A no further action disposal\",\"A no further action disposal\",\"A no further action disposal\",\"A no further action disposal\",\"A no further action disposal\",\"Arrest\",\"Arrest\",\"Khat or Cannabis warning\",\"Arrest\",\"A no further action disposal\",\"A no further action disposal\",\"Khat or Cannabis warning\",\"A no further action disposal\",\"A no further action disposal\",\"A no further action disposal\",\"A no further action disposal\",\"A no further action disposal\",\"A no further action disposal\",\"Khat or Cannabis warning\",\"A no further action disposal\",\"A no further action disposal\",\"Arrest\",\"A no further action disposal\",\"A no further action disposal\",\"Arrest\",\"A no further action disposal\",\"A no further action disposal\",\"A no further action disposal\",\"A no further action disposal\",\"A no further action disposal\",\"A no further action disposal\",\"Arrest\",\"A no further action disposal\",\"A no further action disposal\",\"A no further action disposal\",\"A no further action disposal\",\"A no further action disposal\",\"Khat or Cannabis warning\",\"A no further action disposal\",\"Arrest\",\"Arrest\",\"A no further action disposal\",\"A no further action disposal\",\"Arrest\",\"Arrest\",\"A no further action disposal\",\"A no further action disposal\",\"A no further action disposal\",\"Arrest\",\"Arrest\",\"Arrest\",\"A no further action disposal\",\"A no further action disposal\",\"A no further action disposal\",\"Khat or Cannabis warning\",\"A no further action disposal\",\"A no further action disposal\",\"Arrest\",\"A no further action disposal\",\"Arrest\",\"A no further action disposal\",\"Arrest\",\"Khat or Cannabis warning\",\"A no further action disposal\",\"Khat or Cannabis warning\",\"A no further action disposal\",\"A no further action disposal\",\"A no further action disposal\",\"A no further action disposal\",\"Arrest\",\"A no further action disposal\",\"A no further action disposal\",\"A no further action disposal\",\"Arrest\",\"A no further action disposal\",\"A no further action disposal\",\"A no further action disposal\",\"Outcome\",\"Arrest\",\"A no further action disposal\",\"Arrest\",\"A no further action disposal\",\"A no further action disposal\",\"A no further action disposal\",\"A no further action disposal\",\"A no further action disposal\",\"A no further action disposal\",\"A no further action disposal\",\"Arrest\",\"A no further action disposal\",\"Khat or Cannabis warning\",\"Caution (simple or conditional)\",\"A no further action disposal\",\"Arrest\",\"Arrest\",\"Arrest\",\"A no further action disposal\",\"A no further action disposal\",\"A no further action disposal\",\"A no further action disposal\",\"Arrest\",\"Khat or Cannabis warning\",\"Arrest\",\"A no further action disposal\",\"A no further action disposal\",\"A no further action disposal\",\"Arrest\",\"Arrest\",\"Arrest\",\"A no further action disposal\",\"A no further action disposal\",\"A no further action disposal\",\"A no further action disposal\",\"A no further action disposal\",\"A no further action disposal\",\"Khat or Cannabis warning\",\"A no further action disposal\",\"A no further action disposal\",false,\"A no further action disposal\",\"A no further action disposal\",\"A no further action disposal\",\"A no further action disposal\",\"Arrest\",\"A no further action disposal\",\"A no further action disposal\",\"A no further action disposal\",\"Caution (simple or conditional)\",\"Arrest\",\"Arrest\",\"A no further action disposal\",\"Arrest\",\"Arrest\",\"A no further action disposal\",\"A no further action disposal\",false,\"A no further action disposal\",\"A no further action disposal\",\"Penalty Notice for Disorder\",\"A no further action disposal\",\"A no further action disposal\",\"A no further action disposal\",\"Arrest\",\"A no further action disposal\",\"A no further action disposal\",\"A no further action disposal\",\"A no further action disposal\",\"A no further action disposal\",\"A no further action disposal\",\"A no further action disposal\",\"A no further action disposal\",\"Arrest\",\"A no further action disposal\",\"A no further action disposal\",\"Arrest\",\"Arrest\",\"A no further action disposal\",\"Community resolution\",\"Arrest\",\"A no further action disposal\",\"A no further action disposal\",\"A no further action disposal\",\"A no further action disposal\",\"Arrest\",\"Arrest\",\"Arrest\",\"A no further action disposal\",\"A no further action disposal\",\"A no further action disposal\",\"A no further action disposal\",\"Khat or Cannabis warning\",\"A no further action disposal\",\"A no further action disposal\",\"A no further action disposal\",\"A no further action disposal\",\"Arrest\",\"Arrest\",\"Penalty Notice for Disorder\",\"A no further action disposal\",\"Arrest\",\"A no further action disposal\",\"A no further action disposal\",\"A no further action disposal\",\"A no further action disposal\",\"A no further action disposal\",\"A no further action disposal\",\"A no further action disposal\",\"A no further action disposal\",\"A no further action disposal\",\"A no further action disposal\",\"A no further action disposal\",\"Khat or Cannabis warning\",\"A no further action disposal\",\"A no further action disposal\",\"A no further action disposal\",\"Arrest\",\"Arrest\",\"A no further action disposal\",\"A no further action disposal\",\"Arrest\",\"Khat or Cannabis warning\",\"Community resolution\",\"A no further action disposal\",\"Arrest\",\"A no further action disposal\",\"Arrest\",\"A no further action disposal\",\"A no further action disposal\",\"Arrest\",\"A no further action disposal\",\"Arrest\",\"A no further action disposal\",\"Community resolution\",\"A no further action disposal\",\"Arrest\",\"A no further action disposal\",\"A no further action disposal\",\"A no further action disposal\",\"Outcome\",\"A no further action disposal\",\"A no further action disposal\",\"Arrest\",\"Arrest\",\"A no further action disposal\",\"Arrest\",false,\"A no further action disposal\",\"A no further action disposal\",false,\"Arrest\",\"Arrest\",\"Arrest\",\"A no further action disposal\",\"A no further action disposal\",\"A no further action disposal\",\"Arrest\",\"Arrest\",\"Arrest\",\"Arrest\",\"A no further action disposal\",\"Arrest\",\"Arrest\",\"A no further action disposal\",\"A no further action disposal\",\"A no further action disposal\",\"A no further action disposal\",\"Arrest\",\"A no further action disposal\",\"Arrest\",\"Arrest\",\"A no further action disposal\",\"Community resolution\",\"A no further action disposal\",\"A no further action disposal\",\"A no further action disposal\",\"A no further action disposal\",\"A no further action disposal\",\"A no further action disposal\",\"A no further action disposal\",\"A no further action disposal\",\"Arrest\",\"Arrest\",\"A no further action disposal\",\"A no further action disposal\",\"Penalty Notice for Disorder\",\"A no further action disposal\",\"A no further action disposal\",\"A no further action disposal\",\"A no further action disposal\",\"Khat or Cannabis warning\",\"A no further action disposal\",\"A no further action disposal\",\"A no further action disposal\",\"A no further action disposal\",\"A no further action disposal\",\"A no further action disposal\",\"A no further action disposal\",\"A no further action disposal\",\"A no further action disposal\",\"A no further action disposal\",\"Arrest\",\"A no further action disposal\",\"A no further action disposal\",\"Arrest\",\"Community resolution\",\"A no further action disposal\",\"Arrest\",\"A no further action disposal\",\"A no further action disposal\",\"A no further action disposal\",\"A no further action disposal\",\"Arrest\",\"Arrest\",\"Khat or Cannabis warning\",\"Arrest\",\"A no further action disposal\",\"Arrest\",\"Arrest\",\"Arrest\",\"Arrest\",\"Arrest\",\"A no further action disposal\",\"A no further action disposal\",\"A no further action disposal\",\"A no further action disposal\",\"Arrest\",\"A no further action disposal\",\"Arrest\",\"A no further action disposal\",\"Arrest\",\"A no further action disposal\",\"A no further action disposal\",\"A no further action disposal\",\"A no further action disposal\",\"A no further action disposal\",\"Khat or Cannabis warning\",\"A no further action disposal\",\"A no further action disposal\",\"A no further action disposal\",\"A no further action disposal\",\"A no further action disposal\",\"A no further action disposal\",\"Arrest\",\"A no further action disposal\",\"A no further action disposal\",\"A no further action disposal\",\"A no further action disposal\",\"A no further action disposal\",\"A no further action disposal\",\"A no further action disposal\",\"A no further action disposal\",\"A no further action disposal\",\"Arrest\",\"A no further action disposal\",\"A no further action disposal\",\"Arrest\",\"A no further action disposal\",\"A no further action disposal\",\"Arrest\",\"Arrest\",\"A no further action disposal\",\"Outcome\",\"A no further action disposal\",\"Penalty Notice for Disorder\",\"A no further action disposal\",\"A no further action disposal\",\"Community resolution\",\"A no further action disposal\",\"A no further action disposal\",\"A no further action disposal\",\"Arrest\",\"A no further action disposal\",\"Arrest\",\"A no further action disposal\",\"A no further action disposal\",\"A no further action disposal\",\"Arrest\",\"Arrest\",\"Arrest\",\"Arrest\",\"A no further action disposal\",\"A no further action disposal\",\"A no further action disposal\",\"A no further action disposal\",\"A no further action disposal\",\"A no further action disposal\",\"A no further action disposal\",\"A no further action disposal\",\"Arrest\",\"A no further action disposal\",\"A no further action disposal\",\"A no further action disposal\",\"A no further action disposal\",\"Arrest\",\"Arrest\",\"Arrest\",\"Arrest\",\"Arrest\",\"Arrest\",\"Arrest\",\"A no further action disposal\",\"A no further action disposal\",\"A no further action disposal\",\"A no further action disposal\",\"A no further action disposal\",\"Arrest\",\"A no further action disposal\",\"A no further action disposal\",\"Arrest\",\"A no further action disposal\",\"A no further action disposal\",\"A no further action disposal\",\"A no further action disposal\",\"A no further action disposal\",\"A no further action disposal\",\"A no further action disposal\",\"Arrest\",\"A no further action disposal\",\"A no further action disposal\",\"A no further action disposal\",\"A no further action disposal\",\"A no further action disposal\",\"A no further action disposal\",\"Arrest\",\"A no further action disposal\",\"A no further action disposal\",\"A no further action disposal\",\"A no further action disposal\",\"A no further action disposal\",\"Arrest\",\"A no further action disposal\",\"A no further action disposal\",\"A no further action disposal\",\"A no further action disposal\",\"Arrest\",\"Arrest\",\"A no further action disposal\",\"A no further action disposal\",\"Arrest\",\"Arrest\",\"Arrest\",\"Arrest\",\"Arrest\",\"A no further action disposal\",\"A no further action disposal\",\"A no further action disposal\",\"A no further action disposal\",\"A no further action disposal\",\"A no further action disposal\",\"A no further action disposal\",\"A no further action disposal\",\"Arrest\",\"A no further action disposal\",\"A no further action disposal\",\"A no further action disposal\",\"A no further action disposal\",\"A no further action disposal\",\"Arrest\",\"A no further action disposal\",\"A no further action disposal\",\"A no further action disposal\",\"A no further action disposal\",\"A no further action disposal\",\"Summons / charged by post\",\"A no further action disposal\",\"A no further action disposal\",\"A no further action disposal\",\"A no further action disposal\",\"A no further action disposal\",\"A no further action disposal\",\"A no further action disposal\",\"A no further action disposal\",\"A no further action disposal\",\"A no further action disposal\",\"A no further action disposal\",\"A no further action disposal\",\"A no further action disposal\",\"Arrest\",\"Arrest\",\"Arrest\",\"A no further action disposal\",\"A no further action disposal\",\"Arrest\",\"Arrest\",\"A no further action disposal\",\"A no further action disposal\",\"A no further action disposal\",\"A no further action disposal\",\"A no further action disposal\",\"A no further action disposal\",\"Arrest\",\"Arrest\",\"A no further action disposal\",\"A no further action disposal\",\"A no further action disposal\",\"Arrest\",\"Arrest\",\"A no further action disposal\",\"Arrest\",\"A no further action disposal\",\"Arrest\",\"A no further action disposal\",\"A no further action disposal\",\"Arrest\",\"A no further action disposal\",\"Khat or Cannabis warning\",\"A no further action disposal\",\"Arrest\",\"Arrest\",\"Arrest\",\"A no further action disposal\",\"A no further action disposal\",\"A no further action disposal\",\"A no further action disposal\",\"A no further action disposal\",\"Arrest\",\"A no further action disposal\",false,\"Arrest\",\"A no further action disposal\",\"A no further action disposal\",\"A no further action disposal\",\"A no further action disposal\",\"A no further action disposal\",\"A no further action disposal\",\"A no further action disposal\",\"A no further action disposal\",\"Arrest\",\"A no further action disposal\",\"A no further action disposal\",\"Outcome\",\"Khat or Cannabis warning\",\"Arrest\",\"Community resolution\",\"Community resolution\",\"Community resolution\",\"Community resolution\",\"Community resolution\",\"A no further action disposal\",\"A no further action disposal\",\"A no further action disposal\",\"A no further action disposal\",\"A no further action disposal\",\"A no further action disposal\",\"A no further action disposal\",\"A no further action disposal\",\"Arrest\",\"Arrest\",\"Arrest\",\"A no further action disposal\",\"A no further action disposal\",\"A no further action disposal\",\"Arrest\",\"A no further action disposal\",\"A no further action disposal\",\"A no further action disposal\",\"Arrest\",\"A no further action disposal\",\"Arrest\",\"Arrest\",\"A no further action disposal\",\"Arrest\",\"Arrest\",\"A no further action disposal\",\"A no further action disposal\",\"A no further action disposal\",\"A no further action disposal\",\"Arrest\",\"A no further action disposal\",\"Arrest\",\"A no further action disposal\",\"A no further action disposal\",\"A no further action disposal\",\"A no further action disposal\",\"A no further action disposal\",\"A no further action disposal\",\"Khat or Cannabis warning\",\"A no further action disposal\",\"A no further action disposal\",\"A no further action disposal\",\"Community resolution\",\"Summons / charged by post\",\"A no further action disposal\",\"A no further action disposal\",\"A no further action disposal\",\"A no further action disposal\",\"Arrest\",\"Arrest\",\"Arrest\",\"Arrest\",\"A no further action disposal\",\"Arrest\",\"A no further action disposal\",\"A no further action disposal\",\"A no further action disposal\",\"A no further action disposal\",\"Arrest\",\"A no further action disposal\",\"Arrest\",\"Arrest\",\"A no further action disposal\",\"A no further action disposal\",\"A no further action disposal\",\"A no further action disposal\",\"A no further action disposal\",\"A no further action disposal\",\"Arrest\",\"A no further action disposal\",\"A no further action disposal\",\"A no further action disposal\",\"A no further action disposal\",\"A no further action disposal\",\"A no further action disposal\",\"Arrest\",\"A no further action disposal\",\"A no further action disposal\",\"Arrest\",\"A no further action disposal\",\"A no further action disposal\",\"Arrest\",\"Arrest\",\"Arrest\",\"Arrest\",\"A no further action disposal\",\"A no further action disposal\",\"A no further action disposal\",\"Arrest\",\"Penalty Notice for Disorder\",\"A no further action disposal\",\"A no further action disposal\",\"A no further action disposal\",\"Arrest\",\"A no further action disposal\",\"A no further action disposal\",\"A no further action disposal\",\"Arrest\",\"Arrest\",\"Arrest\",\"Arrest\",\"A no further action disposal\",\"A no further action disposal\",\"A no further action disposal\",\"A no further action disposal\",\"A no further action disposal\",\"A no further action disposal\",\"A no further action disposal\",\"A no further action disposal\",\"Khat or Cannabis warning\",\"A no further action disposal\",\"Arrest\",\"A no further action disposal\",\"Arrest\",\"A no further action disposal\",\"Arrest\",\"A no further action disposal\",\"A no further action disposal\",\"A no further action disposal\",\"A no further action disposal\",\"A no further action disposal\",\"Arrest\",\"A no further action disposal\",\"A no further action disposal\",\"A no further action disposal\",\"Arrest\",\"A no further action disposal\",\"Arrest\",\"Arrest\",\"Arrest\",\"Arrest\",\"Arrest\",\"A no further action disposal\",\"A no further action disposal\",\"A no further action disposal\",\"A no further action disposal\",\"A no further action disposal\",\"Community resolution\",\"A no further action disposal\",\"Arrest\",\"Arrest\",\"A no further action disposal\",\"Arrest\",\"A no further action disposal\",\"A no further action disposal\",\"Arrest\",\"A no further action disposal\",\"A no further action disposal\",\"A no further action disposal\",\"A no further action disposal\",\"Arrest\",\"Khat or Cannabis warning\",\"Outcome\",\"Arrest\",\"Arrest\",\"Arrest\",\"Arrest\",\"A no further action disposal\",\"A no further action disposal\",\"A no further action disposal\",\"A no further action disposal\",\"A no further action disposal\",\"A no further action disposal\",\"A no further action disposal\",\"A no further action disposal\",\"Arrest\",\"Arrest\",\"A no further action disposal\",\"A no further action disposal\",\"A no further action disposal\",\"A no further action disposal\",\"A no further action disposal\",\"A no further action disposal\",\"A no further action disposal\",\"A no further action disposal\",\"A no further action disposal\",\"A no further action disposal\",\"A no further action disposal\",\"Arrest\",\"A no further action disposal\",\"Arrest\",\"Arrest\",\"Arrest\",\"A no further action disposal\",\"Arrest\",\"Arrest\",\"A no further action disposal\",\"Arrest\",\"A no further action disposal\",\"A no further action disposal\",\"A no further action disposal\",\"A no further action disposal\",\"A no further action disposal\",\"A no further action disposal\",\"A no further action disposal\",\"A no further action disposal\",\"A no further action disposal\",\"A no further action disposal\",\"A no further action disposal\",\"A no further action disposal\",\"A no further action disposal\",\"A no further action disposal\",\"Arrest\",\"A no further action disposal\",\"Arrest\",\"Arrest\",\"Arrest\",\"Arrest\",\"Arrest\",\"A no further action disposal\",\"A no further action disposal\",\"A no further action disposal\",\"Arrest\",\"A no further action disposal\",\"A no further action disposal\",\"A no further action disposal\",\"Arrest\",\"Arrest\",\"A no further action disposal\",\"A no further action disposal\",\"A no further action disposal\",\"A no further action disposal\",\"A no further action disposal\",\"A no further action disposal\",\"Khat or Cannabis warning\",\"A no further action disposal\",\"Arrest\",\"A no further action disposal\",\"Khat or Cannabis warning\",\"A no further action disposal\",\"A no further action disposal\",\"Arrest\",\"A no further action disposal\",\"A no further action disposal\",\"A no further action disposal\",\"A no further action disposal\",\"A no further action disposal\",\"Arrest\",\"Arrest\",\"Arrest\",\"A no further action disposal\",\"A no further action disposal\",\"A no further action disposal\",\"Summons / charged by post\",\"A no further action disposal\",\"A no further action disposal\",\"A no further action disposal\",\"Arrest\",\"Arrest\",\"A no further action disposal\",\"Arrest\",\"Arrest\",\"A no further action disposal\",\"A no further action disposal\",\"A no further action disposal\",\"A no further action disposal\",\"A no further action disposal\",\"A no further action disposal\",\"A no further action disposal\",\"A no further action disposal\",\"A no further action disposal\",\"Khat or Cannabis warning\",\"A no further action disposal\",\"Arrest\",\"Arrest\",\"Arrest\",\"A no further action disposal\",\"A no further action disposal\",\"A no further action disposal\",\"A no further action disposal\",\"A no further action disposal\",\"Arrest\",\"Arrest\",\"Caution (simple or conditional)\",\"A no further action disposal\",\"Arrest\",\"A no further action disposal\",\"A no further action disposal\",\"A no further action disposal\",\"Arrest\",\"A no further action disposal\",\"Arrest\",\"A no further action disposal\",\"Arrest\",\"A no further action disposal\",\"Arrest\",\"A no further action disposal\",\"Arrest\",\"A no further action disposal\",\"Arrest\",\"A no further action disposal\",\"A no further action disposal\",\"A no further action disposal\",\"A no further action disposal\",\"A no further action disposal\",\"Arrest\",\"Khat or Cannabis warning\",\"A no further action disposal\",\"A no further action disposal\",\"A no further action disposal\",\"A no further action disposal\",\"A no further action disposal\",\"Khat or Cannabis warning\",\"A no further action disposal\",\"A no further action disposal\",\"Arrest\",\"A no further action disposal\",\"Arrest\",\"Outcome\",\"Arrest\",\"A no further action disposal\",\"Arrest\",\"Arrest\",\"Arrest\",\"Arrest\",\"A no further action disposal\",\"A no further action disposal\",\"A no further action disposal\",\"A no further action disposal\",\"A no further action disposal\",\"Arrest\",\"Arrest\",\"Arrest\",\"A no further action disposal\",\"Arrest\",\"Arrest\",\"Community resolution\",\"A no further action disposal\",\"A no further action disposal\",\"A no further action disposal\",\"A no further action disposal\",\"A no further action disposal\",\"A no further action disposal\",\"A no further action disposal\",\"Khat or Cannabis warning\",\"Arrest\",\"A no further action disposal\",\"Arrest\",\"A no further action disposal\",\"Arrest\",\"A no further action disposal\",\"A no further action disposal\",\"Khat or Cannabis warning\",\"Arrest\",\"A no further action disposal\",\"A no further action disposal\",\"A no further action disposal\",\"A no further action disposal\",\"A no further action disposal\",\"Arrest\",\"Arrest\",\"A no further action disposal\",\"A no further action disposal\",\"A no further action disposal\",\"A no further action disposal\",\"A no further action disposal\",\"Arrest\",\"Arrest\",\"A no further action disposal\",\"Arrest\",\"A no further action disposal\",\"Arrest\",\"A no further action disposal\",\"Arrest\",\"Arrest\",\"A no further action disposal\",\"A no further action disposal\",\"A no further action disposal\",\"Arrest\",\"A no further action disposal\",\"Community resolution\",\"A no further action disposal\",\"A no further action disposal\",\"Arrest\",\"A no further action disposal\",\"A no further action disposal\",\"Arrest\",\"Arrest\",\"Arrest\",\"Arrest\",\"Arrest\",\"A no further action disposal\",\"A no further action disposal\",\"Caution (simple or conditional)\",\"Arrest\",\"A no further action disposal\",\"Arrest\",\"A no further action disposal\",\"A no further action disposal\",\"Summons / charged by post\",\"Arrest\",\"A no further action disposal\",\"Khat or Cannabis warning\",\"A no further action disposal\",\"Khat or Cannabis warning\",\"Arrest\",\"A no further action disposal\",\"Arrest\",\"Arrest\",\"Arrest\",\"A no further action disposal\",\"A no further action disposal\",\"A no further action disposal\",\"A no further action disposal\",\"Arrest\",\"A no further action disposal\",\"A no further action disposal\",\"A no further action disposal\",\"Arrest\",\"A no further action disposal\",\"A no further action disposal\",\"Khat or Cannabis warning\",\"A no further action disposal\",\"A no further action disposal\",\"Arrest\",\"A no further action disposal\",\"Penalty Notice for Disorder\",\"A no further action disposal\",\"A no further action disposal\",\"Khat or Cannabis warning\",\"A no further action disposal\",\"A no further action disposal\",\"A no further action disposal\",\"A no further action disposal\",\"A no further action disposal\",\"Arrest\",\"A no further action disposal\",\"A no further action disposal\",\"A no further action disposal\",\"A no further action disposal\",\"Arrest\",\"Arrest\",\"A no further action disposal\",\"Arrest\",\"A no further action disposal\",\"A no further action disposal\",\"A no further action disposal\",\"A no further action disposal\",\"A no further action disposal\",\"Arrest\",\"A no further action disposal\",\"A no further action disposal\",\"A no further action disposal\",\"A no further action disposal\",\"Arrest\",\"A no further action disposal\",\"A no further action disposal\",\"A no further action disposal\",\"Arrest\",\"Arrest\",\"A no further action disposal\",\"A no further action disposal\",\"Arrest\",\"A no further action disposal\",\"Arrest\",\"Arrest\",\"Arrest\",\"Arrest\",\"Arrest\",\"A no further action disposal\",\"A no further action disposal\",\"Arrest\",\"A no further action disposal\",\"A no further action disposal\",\"A no further action disposal\",\"A no further action disposal\",\"Arrest\",\"A no further action disposal\",\"Community resolution\",\"A no further action disposal\",\"Arrest\",\"A no further action disposal\",\"Arrest\",\"A no further action disposal\",\"Arrest\",\"A no further action disposal\",\"Arrest\",\"Arrest\",\"A no further action disposal\",\"Arrest\",\"A no further action disposal\",\"A no further action disposal\",\"Khat or Cannabis warning\",\"Khat or Cannabis warning\",\"Arrest\",\"Khat or Cannabis warning\",\"Outcome\",\"Arrest\",\"Khat or Cannabis warning\",\"A no further action disposal\",\"Arrest\",\"A no further action disposal\",\"A no further action disposal\",\"A no further action disposal\",\"Arrest\",\"A no further action disposal\",\"A no further action disposal\",\"A no further action disposal\",\"A no further action disposal\",\"Khat or Cannabis warning\",\"A no further action disposal\",\"A no further action disposal\",\"Arrest\",\"Arrest\",\"A no further action disposal\",\"Khat or Cannabis warning\",\"Khat or Cannabis warning\",\"A no further action disposal\",\"Khat or Cannabis warning\",\"A no further action disposal\",\"A no further action disposal\",\"Arrest\",\"Arrest\",\"Arrest\",\"A no further action disposal\",\"Khat or Cannabis warning\",\"Arrest\",\"Arrest\",\"Arrest\",\"A no further action disposal\",\"A no further action disposal\",\"Arrest\",\"A no further action disposal\",\"A no further action disposal\",\"A no further action disposal\",\"A no further action disposal\",\"A no further action disposal\",\"A no further action disposal\",\"Arrest\",\"Arrest\",\"A no further action disposal\",\"A no further action disposal\",\"Arrest\",\"A no further action disposal\",\"A no further action disposal\",\"A no further action disposal\",\"A no further action disposal\",\"A no further action disposal\",\"A no further action disposal\",\"Arrest\",\"Arrest\",\"Arrest\",\"Arrest\",\"A no further action disposal\",\"Arrest\",\"Arrest\",\"A no further action disposal\",\"A no further action disposal\",\"A no further action disposal\",\"Khat or Cannabis warning\",\"Arrest\",\"A no further action disposal\",\"Arrest\",\"A no further action disposal\",\"Arrest\",\"Arrest\",\"Arrest\",\"A no further action disposal\",\"Arrest\",\"Arrest\",\"A no further action disposal\",\"Community resolution\",\"A no further action disposal\",\"A no further action disposal\",\"Arrest\",\"Summons / charged by post\",\"A no further action disposal\",\"A no further action disposal\",\"A no further action disposal\",\"Community resolution\",\"A no further action disposal\",\"Arrest\",\"Community resolution\",\"Khat or Cannabis warning\",\"Community resolution\",\"A no further action disposal\",\"A no further action disposal\",\"Arrest\",\"A no further action disposal\",\"A no further action disposal\",\"Arrest\",\"Arrest\",\"A no further action disposal\",\"Arrest\",\"A no further action disposal\",\"Arrest\",\"Khat or Cannabis warning\",\"Arrest\",\"Arrest\",\"A no further action disposal\",\"A no further action disposal\",\"A no further action disposal\",\"A no further action disposal\",\"A no further action disposal\",\"A no further action disposal\",\"A no further action disposal\",\"A no further action disposal\",\"A no further action disposal\",\"A no further action disposal\",\"Arrest\",\"Arrest\",\"Arrest\",\"A no further action disposal\",\"A no further action disposal\",\"A no further action disposal\",\"Arrest\",\"A no further action disposal\",\"A no further action disposal\",\"A no further action disposal\",\"A no further action disposal\",\"Arrest\",\"A no further action disposal\",\"A no further action disposal\",\"A no further action disposal\",\"Khat or Cannabis warning\",\"Khat or Cannabis warning\",\"A no further action disposal\",\"Arrest\",\"Arrest\",\"Arrest\",\"Arrest\",\"Arrest\",\"Arrest\",\"A no further action disposal\",\"A no further action disposal\",\"A no further action disposal\",\"A no further action disposal\",\"A no further action disposal\",\"A no further action disposal\",\"A no further action disposal\",\"A no further action disposal\",\"Arrest\",\"A no further action disposal\",\"A no further action disposal\",\"A no further action disposal\",\"A no further action disposal\",\"A no further action disposal\",\"A no further action disposal\",\"A no further action disposal\",\"A no further action disposal\",\"A no further action disposal\",\"A no further action disposal\",\"Arrest\",\"Community resolution\",\"Arrest\",\"Arrest\",\"A no further action disposal\",\"A no further action disposal\",\"A no further action disposal\",\"Arrest\",\"Penalty Notice for Disorder\",\"A no further action disposal\",\"A no further action disposal\",\"A no further action disposal\",\"Arrest\",\"A no further action disposal\",\"Arrest\",\"A no further action disposal\",\"A no further action disposal\",\"Khat or Cannabis warning\",\"A no further action disposal\",\"Khat or Cannabis warning\",\"A no further action disposal\",\"A no further action disposal\",\"A no further action disposal\",\"A no further action disposal\",\"Khat or Cannabis warning\",\"A no further action disposal\",\"A no further action disposal\",\"A no further action disposal\",\"A no further action disposal\",\"A no further action disposal\",\"A no further action disposal\",\"A no further action disposal\",\"A no further action disposal\",\"A no further action disposal\",\"A no further action disposal\",\"A no further action disposal\",\"Arrest\",\"Arrest\",\"A no further action disposal\",\"A no further action disposal\",\"A no further action disposal\",\"A no further action disposal\",\"A no further action disposal\",\"Arrest\",\"Khat or Cannabis warning\",\"Khat or Cannabis warning\",\"A no further action disposal\",\"A no further action disposal\",\"A no further action disposal\",\"A no further action disposal\",\"A no further action disposal\",\"Khat or Cannabis warning\",\"A no further action disposal\",\"A no further action disposal\",\"A no further action disposal\",\"Outcome\",\"A no further action disposal\",\"Khat or Cannabis warning\",\"A no further action disposal\",\"A no further action disposal\",\"Arrest\",\"Arrest\",\"A no further action disposal\",\"A no further action disposal\",\"A no further action disposal\",\"A no further action disposal\",\"A no further action disposal\",\"A no further action disposal\",\"A no further action disposal\",\"A no further action disposal\",\"Arrest\",\"Arrest\",\"Arrest\",\"Arrest\",\"A no further action disposal\",\"A no further action disposal\",\"Khat or Cannabis warning\",\"Arrest\",\"Arrest\",\"A no further action disposal\",\"Arrest\",\"Arrest\",\"Summons / charged by post\",\"Arrest\",\"A no further action disposal\",\"Khat or Cannabis warning\",\"Arrest\",\"A no further action disposal\",\"A no further action disposal\",\"Arrest\",\"A no further action disposal\",\"A no further action disposal\",\"A no further action disposal\",\"A no further action disposal\",\"A no further action disposal\",\"Khat or Cannabis warning\",\"A no further action disposal\",\"A no further action disposal\",\"A no further action disposal\",\"Arrest\",\"A no further action disposal\",\"A no further action disposal\",\"A no further action disposal\",\"A no further action disposal\",\"A no further action disposal\",\"Arrest\",\"Arrest\",\"A no further action disposal\",\"A no further action disposal\",\"Arrest\",\"A no further action disposal\",\"A no further action disposal\",\"A no further action disposal\",\"A no further action disposal\",\"Arrest\",\"A no further action disposal\",\"Arrest\",\"Arrest\",\"Arrest\",\"A no further action disposal\",\"A no further action disposal\",\"Arrest\",\"Arrest\",\"Arrest\",\"Arrest\",\"Khat or Cannabis warning\",\"Arrest\",\"Arrest\",\"Arrest\",\"A no further action disposal\",\"A no further action disposal\",\"A no further action disposal\",\"A no further action disposal\",\"A no further action disposal\",\"A no further action disposal\",\"Penalty Notice for Disorder\",\"A no further action disposal\",\"A no further action disposal\",\"A no further action disposal\",\"A no further action disposal\",\"Arrest\",\"Arrest\",\"A no further action disposal\",\"Arrest\",\"A no further action disposal\",\"A no further action disposal\",\"A no further action disposal\",\"A no further action disposal\",\"A no further action disposal\",\"A no further action disposal\",\"Arrest\",\"A no further action disposal\",\"Khat or Cannabis warning\",\"Khat or Cannabis warning\",\"A no further action disposal\",\"A no further action disposal\",\"A no further action disposal\",\"A no further action disposal\",\"Khat or Cannabis warning\",\"A no further action disposal\",\"A no further action disposal\",\"A no further action disposal\",\"A no further action disposal\",\"Arrest\",\"A no further action disposal\",\"A no further action disposal\",\"Khat or Cannabis warning\",\"A no further action disposal\",\"Khat or Cannabis warning\",\"A no further action disposal\",\"A no further action disposal\",\"A no further action disposal\",\"A no further action disposal\",\"Summons / charged by post\",\"Arrest\",\"Arrest\",\"Arrest\",\"A no further action disposal\",\"A no further action disposal\",\"A no further action disposal\",\"A no further action disposal\",\"A no further action disposal\",\"A no further action disposal\",\"A no further action disposal\",\"A no further action disposal\",\"A no further action disposal\",\"A no further action disposal\",\"Arrest\",\"A no further action disposal\",\"A no further action disposal\",\"A no further action disposal\",\"A no further action disposal\",\"A no further action disposal\",\"A no further action disposal\",\"A no further action disposal\",\"A no further action disposal\",\"Arrest\",\"Arrest\",\"Penalty Notice for Disorder\",\"A no further action disposal\",\"A no further action disposal\",\"A no further action disposal\",\"A no further action disposal\",\"Arrest\",\"Penalty Notice for Disorder\",\"A no further action disposal\",\"A no further action disposal\",\"A no further action disposal\",\"A no further action disposal\",\"A no further action disposal\",\"Khat or Cannabis warning\",\"A no further action disposal\",\"Arrest\",\"A no further action disposal\",\"A no further action disposal\",\"Arrest\",\"A no further action disposal\",\"A no further action disposal\",\"A no further action disposal\",\"A no further action disposal\",\"Arrest\",\"A no further action disposal\",\"A no further action disposal\",\"A no further action disposal\",\"A no further action disposal\",\"Arrest\",\"A no further action disposal\",\"A no further action disposal\",\"A no further action disposal\",\"A no further action disposal\",\"A no further action disposal\",\"Arrest\",\"A no further action disposal\",\"A no further action disposal\",\"Arrest\",\"Arrest\",\"A no further action disposal\",\"A no further action disposal\",\"Arrest\",\"Arrest\",\"A no further action disposal\",\"A no further action disposal\"],\"xaxis\":\"x\",\"yaxis\":\"y\",\"type\":\"histogram\"}],                        {\"template\":{\"data\":{\"bar\":[{\"error_x\":{\"color\":\"#2a3f5f\"},\"error_y\":{\"color\":\"#2a3f5f\"},\"marker\":{\"line\":{\"color\":\"#E5ECF6\",\"width\":0.5},\"pattern\":{\"fillmode\":\"overlay\",\"size\":10,\"solidity\":0.2}},\"type\":\"bar\"}],\"barpolar\":[{\"marker\":{\"line\":{\"color\":\"#E5ECF6\",\"width\":0.5},\"pattern\":{\"fillmode\":\"overlay\",\"size\":10,\"solidity\":0.2}},\"type\":\"barpolar\"}],\"carpet\":[{\"aaxis\":{\"endlinecolor\":\"#2a3f5f\",\"gridcolor\":\"white\",\"linecolor\":\"white\",\"minorgridcolor\":\"white\",\"startlinecolor\":\"#2a3f5f\"},\"baxis\":{\"endlinecolor\":\"#2a3f5f\",\"gridcolor\":\"white\",\"linecolor\":\"white\",\"minorgridcolor\":\"white\",\"startlinecolor\":\"#2a3f5f\"},\"type\":\"carpet\"}],\"choropleth\":[{\"colorbar\":{\"outlinewidth\":0,\"ticks\":\"\"},\"type\":\"choropleth\"}],\"contour\":[{\"colorbar\":{\"outlinewidth\":0,\"ticks\":\"\"},\"colorscale\":[[0.0,\"#0d0887\"],[0.1111111111111111,\"#46039f\"],[0.2222222222222222,\"#7201a8\"],[0.3333333333333333,\"#9c179e\"],[0.4444444444444444,\"#bd3786\"],[0.5555555555555556,\"#d8576b\"],[0.6666666666666666,\"#ed7953\"],[0.7777777777777778,\"#fb9f3a\"],[0.8888888888888888,\"#fdca26\"],[1.0,\"#f0f921\"]],\"type\":\"contour\"}],\"contourcarpet\":[{\"colorbar\":{\"outlinewidth\":0,\"ticks\":\"\"},\"type\":\"contourcarpet\"}],\"heatmap\":[{\"colorbar\":{\"outlinewidth\":0,\"ticks\":\"\"},\"colorscale\":[[0.0,\"#0d0887\"],[0.1111111111111111,\"#46039f\"],[0.2222222222222222,\"#7201a8\"],[0.3333333333333333,\"#9c179e\"],[0.4444444444444444,\"#bd3786\"],[0.5555555555555556,\"#d8576b\"],[0.6666666666666666,\"#ed7953\"],[0.7777777777777778,\"#fb9f3a\"],[0.8888888888888888,\"#fdca26\"],[1.0,\"#f0f921\"]],\"type\":\"heatmap\"}],\"heatmapgl\":[{\"colorbar\":{\"outlinewidth\":0,\"ticks\":\"\"},\"colorscale\":[[0.0,\"#0d0887\"],[0.1111111111111111,\"#46039f\"],[0.2222222222222222,\"#7201a8\"],[0.3333333333333333,\"#9c179e\"],[0.4444444444444444,\"#bd3786\"],[0.5555555555555556,\"#d8576b\"],[0.6666666666666666,\"#ed7953\"],[0.7777777777777778,\"#fb9f3a\"],[0.8888888888888888,\"#fdca26\"],[1.0,\"#f0f921\"]],\"type\":\"heatmapgl\"}],\"histogram\":[{\"marker\":{\"pattern\":{\"fillmode\":\"overlay\",\"size\":10,\"solidity\":0.2}},\"type\":\"histogram\"}],\"histogram2d\":[{\"colorbar\":{\"outlinewidth\":0,\"ticks\":\"\"},\"colorscale\":[[0.0,\"#0d0887\"],[0.1111111111111111,\"#46039f\"],[0.2222222222222222,\"#7201a8\"],[0.3333333333333333,\"#9c179e\"],[0.4444444444444444,\"#bd3786\"],[0.5555555555555556,\"#d8576b\"],[0.6666666666666666,\"#ed7953\"],[0.7777777777777778,\"#fb9f3a\"],[0.8888888888888888,\"#fdca26\"],[1.0,\"#f0f921\"]],\"type\":\"histogram2d\"}],\"histogram2dcontour\":[{\"colorbar\":{\"outlinewidth\":0,\"ticks\":\"\"},\"colorscale\":[[0.0,\"#0d0887\"],[0.1111111111111111,\"#46039f\"],[0.2222222222222222,\"#7201a8\"],[0.3333333333333333,\"#9c179e\"],[0.4444444444444444,\"#bd3786\"],[0.5555555555555556,\"#d8576b\"],[0.6666666666666666,\"#ed7953\"],[0.7777777777777778,\"#fb9f3a\"],[0.8888888888888888,\"#fdca26\"],[1.0,\"#f0f921\"]],\"type\":\"histogram2dcontour\"}],\"mesh3d\":[{\"colorbar\":{\"outlinewidth\":0,\"ticks\":\"\"},\"type\":\"mesh3d\"}],\"parcoords\":[{\"line\":{\"colorbar\":{\"outlinewidth\":0,\"ticks\":\"\"}},\"type\":\"parcoords\"}],\"pie\":[{\"automargin\":true,\"type\":\"pie\"}],\"scatter\":[{\"marker\":{\"colorbar\":{\"outlinewidth\":0,\"ticks\":\"\"}},\"type\":\"scatter\"}],\"scatter3d\":[{\"line\":{\"colorbar\":{\"outlinewidth\":0,\"ticks\":\"\"}},\"marker\":{\"colorbar\":{\"outlinewidth\":0,\"ticks\":\"\"}},\"type\":\"scatter3d\"}],\"scattercarpet\":[{\"marker\":{\"colorbar\":{\"outlinewidth\":0,\"ticks\":\"\"}},\"type\":\"scattercarpet\"}],\"scattergeo\":[{\"marker\":{\"colorbar\":{\"outlinewidth\":0,\"ticks\":\"\"}},\"type\":\"scattergeo\"}],\"scattergl\":[{\"marker\":{\"colorbar\":{\"outlinewidth\":0,\"ticks\":\"\"}},\"type\":\"scattergl\"}],\"scattermapbox\":[{\"marker\":{\"colorbar\":{\"outlinewidth\":0,\"ticks\":\"\"}},\"type\":\"scattermapbox\"}],\"scatterpolar\":[{\"marker\":{\"colorbar\":{\"outlinewidth\":0,\"ticks\":\"\"}},\"type\":\"scatterpolar\"}],\"scatterpolargl\":[{\"marker\":{\"colorbar\":{\"outlinewidth\":0,\"ticks\":\"\"}},\"type\":\"scatterpolargl\"}],\"scatterternary\":[{\"marker\":{\"colorbar\":{\"outlinewidth\":0,\"ticks\":\"\"}},\"type\":\"scatterternary\"}],\"surface\":[{\"colorbar\":{\"outlinewidth\":0,\"ticks\":\"\"},\"colorscale\":[[0.0,\"#0d0887\"],[0.1111111111111111,\"#46039f\"],[0.2222222222222222,\"#7201a8\"],[0.3333333333333333,\"#9c179e\"],[0.4444444444444444,\"#bd3786\"],[0.5555555555555556,\"#d8576b\"],[0.6666666666666666,\"#ed7953\"],[0.7777777777777778,\"#fb9f3a\"],[0.8888888888888888,\"#fdca26\"],[1.0,\"#f0f921\"]],\"type\":\"surface\"}],\"table\":[{\"cells\":{\"fill\":{\"color\":\"#EBF0F8\"},\"line\":{\"color\":\"white\"}},\"header\":{\"fill\":{\"color\":\"#C8D4E3\"},\"line\":{\"color\":\"white\"}},\"type\":\"table\"}]},\"layout\":{\"annotationdefaults\":{\"arrowcolor\":\"#2a3f5f\",\"arrowhead\":0,\"arrowwidth\":1},\"autotypenumbers\":\"strict\",\"coloraxis\":{\"colorbar\":{\"outlinewidth\":0,\"ticks\":\"\"}},\"colorscale\":{\"diverging\":[[0,\"#8e0152\"],[0.1,\"#c51b7d\"],[0.2,\"#de77ae\"],[0.3,\"#f1b6da\"],[0.4,\"#fde0ef\"],[0.5,\"#f7f7f7\"],[0.6,\"#e6f5d0\"],[0.7,\"#b8e186\"],[0.8,\"#7fbc41\"],[0.9,\"#4d9221\"],[1,\"#276419\"]],\"sequential\":[[0.0,\"#0d0887\"],[0.1111111111111111,\"#46039f\"],[0.2222222222222222,\"#7201a8\"],[0.3333333333333333,\"#9c179e\"],[0.4444444444444444,\"#bd3786\"],[0.5555555555555556,\"#d8576b\"],[0.6666666666666666,\"#ed7953\"],[0.7777777777777778,\"#fb9f3a\"],[0.8888888888888888,\"#fdca26\"],[1.0,\"#f0f921\"]],\"sequentialminus\":[[0.0,\"#0d0887\"],[0.1111111111111111,\"#46039f\"],[0.2222222222222222,\"#7201a8\"],[0.3333333333333333,\"#9c179e\"],[0.4444444444444444,\"#bd3786\"],[0.5555555555555556,\"#d8576b\"],[0.6666666666666666,\"#ed7953\"],[0.7777777777777778,\"#fb9f3a\"],[0.8888888888888888,\"#fdca26\"],[1.0,\"#f0f921\"]]},\"colorway\":[\"#636efa\",\"#EF553B\",\"#00cc96\",\"#ab63fa\",\"#FFA15A\",\"#19d3f3\",\"#FF6692\",\"#B6E880\",\"#FF97FF\",\"#FECB52\"],\"font\":{\"color\":\"#2a3f5f\"},\"geo\":{\"bgcolor\":\"white\",\"lakecolor\":\"white\",\"landcolor\":\"#E5ECF6\",\"showlakes\":true,\"showland\":true,\"subunitcolor\":\"white\"},\"hoverlabel\":{\"align\":\"left\"},\"hovermode\":\"closest\",\"mapbox\":{\"style\":\"light\"},\"paper_bgcolor\":\"white\",\"plot_bgcolor\":\"#E5ECF6\",\"polar\":{\"angularaxis\":{\"gridcolor\":\"white\",\"linecolor\":\"white\",\"ticks\":\"\"},\"bgcolor\":\"#E5ECF6\",\"radialaxis\":{\"gridcolor\":\"white\",\"linecolor\":\"white\",\"ticks\":\"\"}},\"scene\":{\"xaxis\":{\"backgroundcolor\":\"#E5ECF6\",\"gridcolor\":\"white\",\"gridwidth\":2,\"linecolor\":\"white\",\"showbackground\":true,\"ticks\":\"\",\"zerolinecolor\":\"white\"},\"yaxis\":{\"backgroundcolor\":\"#E5ECF6\",\"gridcolor\":\"white\",\"gridwidth\":2,\"linecolor\":\"white\",\"showbackground\":true,\"ticks\":\"\",\"zerolinecolor\":\"white\"},\"zaxis\":{\"backgroundcolor\":\"#E5ECF6\",\"gridcolor\":\"white\",\"gridwidth\":2,\"linecolor\":\"white\",\"showbackground\":true,\"ticks\":\"\",\"zerolinecolor\":\"white\"}},\"shapedefaults\":{\"line\":{\"color\":\"#2a3f5f\"}},\"ternary\":{\"aaxis\":{\"gridcolor\":\"white\",\"linecolor\":\"white\",\"ticks\":\"\"},\"baxis\":{\"gridcolor\":\"white\",\"linecolor\":\"white\",\"ticks\":\"\"},\"bgcolor\":\"#E5ECF6\",\"caxis\":{\"gridcolor\":\"white\",\"linecolor\":\"white\",\"ticks\":\"\"}},\"title\":{\"x\":0.05},\"xaxis\":{\"automargin\":true,\"gridcolor\":\"white\",\"linecolor\":\"white\",\"ticks\":\"\",\"title\":{\"standoff\":15},\"zerolinecolor\":\"white\",\"zerolinewidth\":2},\"yaxis\":{\"automargin\":true,\"gridcolor\":\"white\",\"linecolor\":\"white\",\"ticks\":\"\",\"title\":{\"standoff\":15},\"zerolinecolor\":\"white\",\"zerolinewidth\":2}}},\"xaxis\":{\"anchor\":\"y\",\"domain\":[0.0,1.0],\"title\":{\"text\":\"Outcome\"}},\"yaxis\":{\"anchor\":\"x\",\"domain\":[0.0,1.0],\"title\":{\"text\":\"count\"}},\"legend\":{\"tracegroupgap\":0},\"margin\":{\"t\":60},\"barmode\":\"relative\"},                        {\"responsive\": true}                    ).then(function(){\n",
              "                            \n",
              "var gd = document.getElementById('d3a27704-ab4b-46be-b06e-5f61be735cc7');\n",
              "var x = new MutationObserver(function (mutations, observer) {{\n",
              "        var display = window.getComputedStyle(gd).display;\n",
              "        if (!display || display === 'none') {{\n",
              "            console.log([gd, 'removed!']);\n",
              "            Plotly.purge(gd);\n",
              "            observer.disconnect();\n",
              "        }}\n",
              "}});\n",
              "\n",
              "// Listen for the removal of the full notebook cells\n",
              "var notebookContainer = gd.closest('#notebook-container');\n",
              "if (notebookContainer) {{\n",
              "    x.observe(notebookContainer, {childList: true});\n",
              "}}\n",
              "\n",
              "// Listen for the clearing of the current output cell\n",
              "var outputEl = gd.closest('.output');\n",
              "if (outputEl) {{\n",
              "    x.observe(outputEl, {childList: true});\n",
              "}}\n",
              "\n",
              "                        })                };                            </script>        </div>\n",
              "</body>\n",
              "</html>"
            ]
          },
          "metadata": {}
        }
      ]
    },
    {
      "cell_type": "code",
      "source": [
        ""
      ],
      "metadata": {
        "id": "UU2U1WUxREVd"
      },
      "execution_count": 16,
      "outputs": []
    },
    {
      "cell_type": "code",
      "source": [
        "# Using the lambda function simplify y into two classes 1 or 0 , depending on whether Outcome is True (if in the first 2 key labels ) or False (in any other key label)\n",
        "\n",
        "all_label_values = list(dict(y.value_counts()).keys())\n",
        "print(all_label_values)\n",
        "logic = lambda x: 0 if (x == all_label_values[0] or x== all_label_values[1]) else 1\n",
        "y2 = y.map(logic)\n",
        "y2[:10]"
      ],
      "metadata": {
        "colab": {
          "base_uri": "https://localhost:8080/"
        },
        "id": "-ZWzrZQLUeyo",
        "outputId": "4a916cea-2a64-4be4-955b-3c2bfab833de"
      },
      "execution_count": 17,
      "outputs": [
        {
          "output_type": "stream",
          "name": "stdout",
          "text": [
            "['A no further action disposal', 'Nothing found - no further action', 'Arrest', 'Suspect arrested', False, 'Khat or Cannabis warning', 'Offender given drugs possession warning', 'Local resolution', 'Community resolution', 'Outcome', 'Suspect summonsed to court', 'Penalty Notice for Disorder', 'Offender given penalty notice', 'Article found - Detailed outcome unavailable', 'Caution (simple or conditional)', 'Summons / charged by post', 'Offender cautioned']\n"
          ]
        },
        {
          "output_type": "execute_result",
          "data": {
            "text/plain": [
              "0     1\n",
              "2     1\n",
              "4     1\n",
              "7     1\n",
              "8     1\n",
              "9     1\n",
              "13    1\n",
              "14    1\n",
              "17    1\n",
              "18    1\n",
              "Name: Outcome, dtype: int64"
            ]
          },
          "metadata": {},
          "execution_count": 17
        }
      ]
    },
    {
      "cell_type": "code",
      "source": [
        "# Split the data for TRAINING and SCORING (testing). OPTIONAL: Discuss what problems could happen we have poor distribution b/w training and testing?\n",
        "\n",
        "from sklearn.model_selection import train_test_split\n",
        "xtrain,xtest,ytrain,ytest = train_test_split(x, y2,\n",
        "                             test_size=0.2, random_state=42)"
      ],
      "metadata": {
        "id": "lXONNuIUXc4c"
      },
      "execution_count": 18,
      "outputs": []
    },
    {
      "cell_type": "markdown",
      "metadata": {
        "id": "L8i0ZUm56Skn"
      },
      "source": [
        "# Part 3: Model Selection"
      ]
    },
    {
      "cell_type": "markdown",
      "metadata": {
        "id": "d6rDLNIf6Skn"
      },
      "source": [
        "### Q. Use the cheat sheet below to choose the algorithm/estimator suitable for building a model to address your candidate question(s)\n",
        "\n",
        "* https://scikit-learn.org/stable/tutorial/machine_learning_map/"
      ]
    },
    {
      "cell_type": "code",
      "source": [
        "# import models from sklearn under classification\n",
        "from sklearn.ensemble import RandomForestClassifier\n",
        "from sklearn.naive_bayes import GaussianNB\n",
        "from sklearn.tree import DecisionTreeClassifier\n",
        "from sklearn.neighbors import KNeighborsClassifier\n",
        "from sklearn.svm import LinearSVC\n",
        "\n",
        "\n",
        "ntree1, ntree2 = 50,100\n",
        "from sklearn.metrics import accuracy_score\n",
        "from sklearn.metrics import classification_report\n",
        "for algo in [RandomForestClassifier(n_estimators=ntree1), RandomForestClassifier(n_estimators=ntree2), GaussianNB(), DecisionTreeClassifier(), KNeighborsClassifier(), LinearSVC()]:\n",
        "  model = algo\n",
        "  model.fit(xtrain, ytrain)\n",
        "  predictions = model.predict(xtest)\n",
        "  print(classification_report(ytest, predictions))\n",
        "  print(accuracy_score(predictions, ytest))"
      ],
      "metadata": {
        "id": "d8mFLaZ2VXbR",
        "colab": {
          "base_uri": "https://localhost:8080/"
        },
        "outputId": "079304d4-e166-4362-dc8c-9a405b760cfb"
      },
      "execution_count": 19,
      "outputs": [
        {
          "output_type": "stream",
          "name": "stdout",
          "text": [
            "              precision    recall  f1-score   support\n",
            "\n",
            "           0       0.83      0.88      0.86       433\n",
            "           1       0.83      0.76      0.79       325\n",
            "\n",
            "    accuracy                           0.83       758\n",
            "   macro avg       0.83      0.82      0.83       758\n",
            "weighted avg       0.83      0.83      0.83       758\n",
            "\n",
            "0.8311345646437994\n",
            "              precision    recall  f1-score   support\n",
            "\n",
            "           0       0.83      0.88      0.85       433\n",
            "           1       0.83      0.76      0.79       325\n",
            "\n",
            "    accuracy                           0.83       758\n",
            "   macro avg       0.83      0.82      0.82       758\n",
            "weighted avg       0.83      0.83      0.83       758\n",
            "\n",
            "0.8271767810026385\n",
            "              precision    recall  f1-score   support\n",
            "\n",
            "           0       0.82      0.91      0.86       433\n",
            "           1       0.86      0.73      0.79       325\n",
            "\n",
            "    accuracy                           0.83       758\n",
            "   macro avg       0.84      0.82      0.82       758\n",
            "weighted avg       0.83      0.83      0.83       758\n",
            "\n",
            "0.8311345646437994\n",
            "              precision    recall  f1-score   support\n",
            "\n",
            "           0       0.82      0.89      0.85       433\n",
            "           1       0.84      0.74      0.78       325\n",
            "\n",
            "    accuracy                           0.83       758\n",
            "   macro avg       0.83      0.81      0.82       758\n",
            "weighted avg       0.83      0.83      0.82       758\n",
            "\n",
            "0.8258575197889182\n",
            "              precision    recall  f1-score   support\n",
            "\n",
            "           0       0.82      0.89      0.85       433\n",
            "           1       0.84      0.74      0.79       325\n",
            "\n",
            "    accuracy                           0.83       758\n",
            "   macro avg       0.83      0.82      0.82       758\n",
            "weighted avg       0.83      0.83      0.83       758\n",
            "\n",
            "0.8271767810026385\n",
            "              precision    recall  f1-score   support\n",
            "\n",
            "           0       0.82      0.91      0.86       433\n",
            "           1       0.86      0.73      0.79       325\n",
            "\n",
            "    accuracy                           0.83       758\n",
            "   macro avg       0.84      0.82      0.82       758\n",
            "weighted avg       0.83      0.83      0.83       758\n",
            "\n",
            "0.8311345646437994\n"
          ]
        },
        {
          "output_type": "stream",
          "name": "stderr",
          "text": [
            "/usr/local/lib/python3.7/dist-packages/sklearn/svm/_base.py:1208: ConvergenceWarning:\n",
            "\n",
            "Liblinear failed to converge, increase the number of iterations.\n",
            "\n"
          ]
        }
      ]
    },
    {
      "cell_type": "code",
      "source": [
        "# Note the third model GaussianNB gave the highest accuracy of 0.8311"
      ],
      "metadata": {
        "id": "awDF0MUuZ4ss"
      },
      "execution_count": 20,
      "outputs": []
    },
    {
      "cell_type": "markdown",
      "metadata": {
        "id": "jT6MftDC6Skn"
      },
      "source": [
        ""
      ]
    },
    {
      "cell_type": "markdown",
      "metadata": {
        "id": "xY1C654E6Skn"
      },
      "source": [
        "# Part 4: Model Evaluation"
      ]
    },
    {
      "cell_type": "markdown",
      "metadata": {
        "id": "u6bO2Aby6Sko"
      },
      "source": [
        "### Q. Identify which of the statistical measures below are suitable for the evaluation of your model.\n",
        "\n",
        "Classification Metrics:\n",
        "* Accuracy\n",
        "* Precision\n",
        "* Recall\n",
        "* F1 Score\n",
        "\n",
        "Regression Metrics:\n",
        "    \n",
        "* Mean absolute error (MAE)\n",
        "* Root mean squared error (RMSE)\n",
        "* Relative absolute error (RAE)\n",
        "* Relative squared error (RSE)\n",
        "* Mean Zero One Error (MZOE)\n",
        "* Coefficient of determination\n",
        "\n",
        " "
      ]
    },
    {
      "cell_type": "code",
      "execution_count": 21,
      "metadata": {
        "id": "0Et8TfHe6Sko",
        "colab": {
          "base_uri": "https://localhost:8080/"
        },
        "outputId": "02d642a1-c717-48b4-f3a1-8cd247a9890d"
      },
      "outputs": [
        {
          "output_type": "stream",
          "name": "stdout",
          "text": [
            "0.8311345646437994\n"
          ]
        }
      ],
      "source": [
        "# We have selected GaussianNb as our best model. Package this model for deployment into Azure\n",
        "#from sklearn.naive_bayes import GaussianNB\n",
        "final_model = GaussianNB()\n",
        "final_model.fit(xtrain,ytrain)\n",
        "p = final_model.predict(xtest)\n",
        "print(accuracy_score(p, ytest))"
      ]
    },
    {
      "cell_type": "markdown",
      "metadata": {
        "id": "zfGN07IV6Sko"
      },
      "source": [
        "# Part 5: Stretch - Model Deployment"
      ]
    },
    {
      "cell_type": "markdown",
      "metadata": {
        "id": "Y4YwJk6s6Skp"
      },
      "source": [
        "### Q. Evaluate the open-source app framework for Machine Learning model deployment below in your own time.\n",
        "\n",
        "* https://streamlit.io/"
      ]
    },
    {
      "cell_type": "code",
      "execution_count": 22,
      "metadata": {
        "id": "WvHp1p_L6Skp",
        "colab": {
          "base_uri": "https://localhost:8080/"
        },
        "outputId": "ad78f5d0-bd3b-48b3-deea-fb11516c034d"
      },
      "outputs": [
        {
          "output_type": "execute_result",
          "data": {
            "text/plain": [
              "['PoliceStopSearch-HP.joblib']"
            ]
          },
          "metadata": {},
          "execution_count": 22
        }
      ],
      "source": [
        "from joblib import dump\n",
        "dump(final_model, 'PoliceStopSearch-HP.joblib') "
      ]
    },
    {
      "cell_type": "code",
      "source": [
        "# here is the deployed Python code from Azure for the final model \n",
        "\n",
        "import urllib.request\n",
        "import json\n",
        "import os\n",
        "import ssl\n",
        "\n",
        "def allowSelfSignedHttps(allowed):\n",
        "    # bypass the server certificate verification on client side\n",
        "    if allowed and not os.environ.get('PYTHONHTTPSVERIFY', '') and getattr(ssl, '_create_unverified_context', None):\n",
        "        ssl._create_default_https_context = ssl._create_unverified_context\n",
        "\n",
        "allowSelfSignedHttps(True) # this line is needed if you use self-signed certificate in your scoring service.\n",
        "\n",
        "# Request data goes here\n",
        "data = {\n",
        "}\n",
        "\n",
        "body = str.encode(json.dumps(data))\n",
        "\n",
        "url = 'http://6a45b70d-5e63-4158-b396-c80405b28d45.eastus.azurecontainer.io/score'\n",
        "api_key = '' # Replace this with the API key for the web service\n",
        "headers = {'Content-Type':'application/json', 'Authorization':('Bearer '+ api_key)}\n",
        "\n",
        "req = urllib.request.Request(url, body, headers)\n",
        "\n",
        "try:\n",
        "    response = urllib.request.urlopen(req)\n",
        "\n",
        "    result = response.read()\n",
        "    print(result)\n",
        "except urllib.error.HTTPError as error:\n",
        "    print(\"The request failed with status code: \" + str(error.code))\n",
        "\n",
        "    # Print the headers - they include the requert ID and the timestamp, which are useful for debugging the failure\n",
        "    print(error.info())\n",
        "    print(error.read().decode(\"utf8\", 'ignore'))"
      ],
      "metadata": {
        "id": "_HvFGBGieshq"
      },
      "execution_count": null,
      "outputs": []
    }
  ],
  "metadata": {
    "kernelspec": {
      "display_name": "Python 3",
      "language": "python",
      "name": "python3"
    },
    "language_info": {
      "codemirror_mode": {
        "name": "ipython",
        "version": 3
      },
      "file_extension": ".py",
      "mimetype": "text/x-python",
      "name": "python",
      "nbconvert_exporter": "python",
      "pygments_lexer": "ipython3",
      "version": "3.7.4"
    },
    "colab": {
      "name": "PoliceStopSearch-FinalProject-HemantPatel.ipynb",
      "provenance": [],
      "include_colab_link": true
    }
  },
  "nbformat": 4,
  "nbformat_minor": 0
}