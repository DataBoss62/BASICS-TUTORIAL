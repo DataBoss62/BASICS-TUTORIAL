{
  "nbformat": 4,
  "nbformat_minor": 0,
  "metadata": {
    "colab": {
      "name": "Python Loopy Loops.ipynb",
      "provenance": [],
      "include_colab_link": true
    },
    "kernelspec": {
      "name": "python3",
      "display_name": "Python 3"
    },
    "language_info": {
      "name": "python"
    }
  },
  "cells": [
    {
      "cell_type": "markdown",
      "metadata": {
        "id": "view-in-github",
        "colab_type": "text"
      },
      "source": [
        "<a href=\"https://colab.research.google.com/github/DataBoss62/BASICS-TUTORIAL/blob/main/Python_Loopy_Loops.ipynb\" target=\"_parent\"><img src=\"https://colab.research.google.com/assets/colab-badge.svg\" alt=\"Open In Colab\"/></a>"
      ]
    },
    {
      "cell_type": "code",
      "execution_count": 2,
      "metadata": {
        "id": "36DCp--WCulL"
      },
      "outputs": [],
      "source": [
        "animals = ['rabbit', 'pangolin', 'platypus']\n",
        "numbers = [1,2,3,4]\n"
      ]
    },
    {
      "cell_type": "code",
      "source": [
        "for animal in animals:\n",
        "  print(animal, end= \" \")"
      ],
      "metadata": {
        "colab": {
          "base_uri": "https://localhost:8080/"
        },
        "id": "W2-Qfxv2C5o_",
        "outputId": "24ee8d22-f23a-438d-a410-d0c8e47a8092"
      },
      "execution_count": 3,
      "outputs": [
        {
          "output_type": "stream",
          "name": "stdout",
          "text": [
            "rabbit pangolin platypus "
          ]
        }
      ]
    },
    {
      "cell_type": "code",
      "source": [
        "for num in numbers:\n",
        "  print(num, end=' ')"
      ],
      "metadata": {
        "colab": {
          "base_uri": "https://localhost:8080/"
        },
        "id": "yZO3YB_NC8vX",
        "outputId": "13699028-f6f5-4cdb-f685-7528a32f3e12"
      },
      "execution_count": 4,
      "outputs": [
        {
          "output_type": "stream",
          "name": "stdout",
          "text": [
            "1 2 3 4 "
          ]
        }
      ]
    },
    {
      "cell_type": "code",
      "source": [
        "firsttennums = range(10)\n",
        "for num in firsttennums:\n",
        "  print(num, end=' ')"
      ],
      "metadata": {
        "colab": {
          "base_uri": "https://localhost:8080/"
        },
        "id": "9S7nrDlvDFRQ",
        "outputId": "1bc6adfb-cd51-4afe-f0b5-29bce7dfa0d0"
      },
      "execution_count": 5,
      "outputs": [
        {
          "output_type": "stream",
          "name": "stdout",
          "text": [
            "0 1 2 3 4 5 6 7 8 9 "
          ]
        }
      ]
    },
    {
      "cell_type": "code",
      "source": [
        "for i in range(10):\n",
        "  for j in range(i):\n",
        "    print(i, end=' ')\n",
        "  print()"
      ],
      "metadata": {
        "colab": {
          "base_uri": "https://localhost:8080/"
        },
        "id": "ZGfpHuizDP40",
        "outputId": "6a0fe71e-5c25-4272-9dac-0a76d7b0909e"
      },
      "execution_count": 6,
      "outputs": [
        {
          "output_type": "stream",
          "name": "stdout",
          "text": [
            "\n",
            "1 \n",
            "2 2 \n",
            "3 3 3 \n",
            "4 4 4 4 \n",
            "5 5 5 5 5 \n",
            "6 6 6 6 6 6 \n",
            "7 7 7 7 7 7 7 \n",
            "8 8 8 8 8 8 8 8 \n",
            "9 9 9 9 9 9 9 9 9 \n"
          ]
        }
      ]
    },
    {
      "cell_type": "code",
      "source": [
        "for i in range(10):\n",
        "  # print some space here\n",
        "  for sp in range(10-i):\n",
        "    print(' ', end='')\n",
        "  for j in range(i):\n",
        "    print(i, end=' ')\n",
        "  print()"
      ],
      "metadata": {
        "colab": {
          "base_uri": "https://localhost:8080/"
        },
        "id": "sWm6lSObDmFE",
        "outputId": "b3ba3d40-3b86-4f3c-84fa-5247fb0a51a4"
      },
      "execution_count": 7,
      "outputs": [
        {
          "output_type": "stream",
          "name": "stdout",
          "text": [
            "          \n",
            "         1 \n",
            "        2 2 \n",
            "       3 3 3 \n",
            "      4 4 4 4 \n",
            "     5 5 5 5 5 \n",
            "    6 6 6 6 6 6 \n",
            "   7 7 7 7 7 7 7 \n",
            "  8 8 8 8 8 8 8 8 \n",
            " 9 9 9 9 9 9 9 9 9 \n"
          ]
        }
      ]
    },
    {
      "cell_type": "code",
      "source": [
        "prose = {\n",
        "    \"William Wordsworth\": \"poem 123 \",\n",
        "    \"Shakespeare\": \"Merchant of Venice\",\n",
        "    3: \"Illiad\",\n",
        "    4 : \"Romeo and Juliet\",\n",
        "    False: \"Poseidon and Hades are pretty good friends\"\n",
        "}"
      ],
      "metadata": {
        "id": "8cvzpKMkEGwe"
      },
      "execution_count": 8,
      "outputs": []
    },
    {
      "cell_type": "code",
      "source": [
        "prose"
      ],
      "metadata": {
        "colab": {
          "base_uri": "https://localhost:8080/"
        },
        "id": "wwyK4LHvEzCo",
        "outputId": "e5df845b-39e5-4f25-b3ca-0d36cd40fa6c"
      },
      "execution_count": 10,
      "outputs": [
        {
          "output_type": "execute_result",
          "data": {
            "text/plain": [
              "{3: 'Illiad',\n",
              " 4: 'Romeo and Juliet',\n",
              " False: 'Poseidon and Hades are pretty good friends',\n",
              " 'Shakespeare': 'Merchant of Venice',\n",
              " 'William Wordsworth': 'poem 123 '}"
            ]
          },
          "metadata": {},
          "execution_count": 10
        }
      ]
    },
    {
      "cell_type": "code",
      "source": [
        "for randomKey,randomValue in prose.items():\n",
        "  print('random key =' + str(randomKey) , end=\" \")\n",
        "  print('random value =' + str(randomValue))\n"
      ],
      "metadata": {
        "colab": {
          "base_uri": "https://localhost:8080/"
        },
        "id": "W-mwT-w8E2lJ",
        "outputId": "14c29c16-294d-4941-f764-c1aead7aec6a"
      },
      "execution_count": 11,
      "outputs": [
        {
          "output_type": "stream",
          "name": "stdout",
          "text": [
            "random key =William Wordsworth random value =poem 123 \n",
            "random key =Shakespeare random value =Merchant of Venice\n",
            "random key =3 random value =Illiad\n",
            "random key =4 random value =Romeo and Juliet\n",
            "random key =False random value =Poseidon and Hades are pretty good friends\n"
          ]
        }
      ]
    },
    {
      "cell_type": "code",
      "source": [
        "def randomfn(potato):\n",
        "  for tomato,peas in potato.items():\n",
        "    print(tomato, peas)"
      ],
      "metadata": {
        "id": "M99PXGfAFQve"
      },
      "execution_count": 12,
      "outputs": []
    },
    {
      "cell_type": "code",
      "source": [
        "randomfn(prose)"
      ],
      "metadata": {
        "colab": {
          "base_uri": "https://localhost:8080/"
        },
        "id": "0P56qReDFmys",
        "outputId": "5f61ce6e-8531-4ab0-cac5-125a28e85d19"
      },
      "execution_count": 13,
      "outputs": [
        {
          "output_type": "stream",
          "name": "stdout",
          "text": [
            "William Wordsworth poem 123 \n",
            "Shakespeare Merchant of Venice\n",
            "3 Illiad\n",
            "4 Romeo and Juliet\n",
            "False Poseidon and Hades are pretty good friends\n"
          ]
        }
      ]
    },
    {
      "cell_type": "code",
      "source": [
        "randomfn(animals)"
      ],
      "metadata": {
        "colab": {
          "base_uri": "https://localhost:8080/",
          "height": 252
        },
        "id": "EUQsxPclFpqj",
        "outputId": "032bbbcd-253f-4bc3-d281-9e6c8db65c91"
      },
      "execution_count": 14,
      "outputs": [
        {
          "output_type": "error",
          "ename": "AttributeError",
          "evalue": "ignored",
          "traceback": [
            "\u001b[0;31m---------------------------------------------------------------------------\u001b[0m",
            "\u001b[0;31mAttributeError\u001b[0m                            Traceback (most recent call last)",
            "\u001b[0;32m<ipython-input-14-ae46362df07e>\u001b[0m in \u001b[0;36m<module>\u001b[0;34m()\u001b[0m\n\u001b[0;32m----> 1\u001b[0;31m \u001b[0mrandomfn\u001b[0m\u001b[0;34m(\u001b[0m\u001b[0manimals\u001b[0m\u001b[0;34m)\u001b[0m\u001b[0;34m\u001b[0m\u001b[0;34m\u001b[0m\u001b[0m\n\u001b[0m",
            "\u001b[0;32m<ipython-input-12-bb066f10f683>\u001b[0m in \u001b[0;36mrandomfn\u001b[0;34m(potato)\u001b[0m\n\u001b[1;32m      1\u001b[0m \u001b[0;32mdef\u001b[0m \u001b[0mrandomfn\u001b[0m\u001b[0;34m(\u001b[0m\u001b[0mpotato\u001b[0m\u001b[0;34m)\u001b[0m\u001b[0;34m:\u001b[0m\u001b[0;34m\u001b[0m\u001b[0;34m\u001b[0m\u001b[0m\n\u001b[0;32m----> 2\u001b[0;31m   \u001b[0;32mfor\u001b[0m \u001b[0mtomato\u001b[0m\u001b[0;34m,\u001b[0m\u001b[0mpeas\u001b[0m \u001b[0;32min\u001b[0m \u001b[0mpotato\u001b[0m\u001b[0;34m.\u001b[0m\u001b[0mitems\u001b[0m\u001b[0;34m(\u001b[0m\u001b[0;34m)\u001b[0m\u001b[0;34m:\u001b[0m\u001b[0;34m\u001b[0m\u001b[0;34m\u001b[0m\u001b[0m\n\u001b[0m\u001b[1;32m      3\u001b[0m     \u001b[0mprint\u001b[0m\u001b[0;34m(\u001b[0m\u001b[0mtomato\u001b[0m\u001b[0;34m,\u001b[0m \u001b[0mpeas\u001b[0m\u001b[0;34m)\u001b[0m\u001b[0;34m\u001b[0m\u001b[0;34m\u001b[0m\u001b[0m\n",
            "\u001b[0;31mAttributeError\u001b[0m: 'list' object has no attribute 'items'"
          ]
        }
      ]
    },
    {
      "cell_type": "code",
      "source": [
        "def randomfn2(potato):\n",
        "  try:\n",
        "    for tomato,peas in potato.items():\n",
        "      print(tomato, peas)\n",
        "  except:\n",
        "    print('Are you sure you used a dictionary?')"
      ],
      "metadata": {
        "id": "EVbkSVJWFt3l"
      },
      "execution_count": 15,
      "outputs": []
    },
    {
      "cell_type": "code",
      "source": [
        "randomfn2(animals)"
      ],
      "metadata": {
        "colab": {
          "base_uri": "https://localhost:8080/"
        },
        "id": "JQVDhD21F_iw",
        "outputId": "79482aed-e2a8-42cf-b285-baf2815e9735"
      },
      "execution_count": 16,
      "outputs": [
        {
          "output_type": "stream",
          "name": "stdout",
          "text": [
            "Are you sure you used a dictionary?\n"
          ]
        }
      ]
    },
    {
      "cell_type": "code",
      "source": [
        ""
      ],
      "metadata": {
        "id": "y27riNXJGChq"
      },
      "execution_count": null,
      "outputs": []
    }
  ]
}