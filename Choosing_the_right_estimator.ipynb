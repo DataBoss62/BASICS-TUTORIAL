{
  "cells": [
    {
      "cell_type": "markdown",
      "metadata": {
        "id": "view-in-github",
        "colab_type": "text"
      },
      "source": [
        "<a href=\"https://colab.research.google.com/github/DataBoss62/BASICS-TUTORIAL/blob/main/Choosing_the_right_estimator.ipynb\" target=\"_parent\"><img src=\"https://colab.research.google.com/assets/colab-badge.svg\" alt=\"Open In Colab\"/></a>"
      ]
    },
    {
      "cell_type": "markdown",
      "metadata": {
        "id": "4X4_8I6S6Skf"
      },
      "source": [
        "# Practical Machine Learning \n",
        "### Project: Model Selection"
      ]
    },
    {
      "cell_type": "markdown",
      "metadata": {
        "id": "ncMkjyd06Ski"
      },
      "source": [
        "# Abstract"
      ]
    },
    {
      "cell_type": "markdown",
      "metadata": {
        "id": "oRBQQHi76Skj"
      },
      "source": [
        "# Part 1: Business and Data Understanding"
      ]
    },
    {
      "cell_type": "markdown",
      "metadata": {
        "id": "sKGMWzg26Skj"
      },
      "source": [
        "### Q. Define the problem domain"
      ]
    },
    {
      "cell_type": "code",
      "execution_count": null,
      "metadata": {
        "id": "dO86gwPZ6Skj"
      },
      "outputs": [],
      "source": [
        ""
      ]
    },
    {
      "cell_type": "markdown",
      "metadata": {
        "id": "XF07fwjp6Skk"
      },
      "source": [
        "### Q. Identify candidate questions for your machine learning project"
      ]
    },
    {
      "cell_type": "code",
      "execution_count": null,
      "metadata": {
        "id": "557TpLDM6Skk"
      },
      "outputs": [],
      "source": [
        ""
      ]
    },
    {
      "cell_type": "markdown",
      "metadata": {
        "id": "iutgzVDO6Skk"
      },
      "source": [
        "### Q. Identify a suitable dataset for your canditate question(s)"
      ]
    },
    {
      "cell_type": "markdown",
      "metadata": {
        "id": "WeOj3JHB6Skl"
      },
      "source": [
        "Go have a look at any of these websites:\n",
        "\n",
        "* https://www.kaggle.com/datasets \n",
        "* https://datasetsearch.research.google.com/\n",
        "* https://data.gov.uk/\n",
        "\n",
        "Find an interesting looking data set related to your problem domain and get a copy of it\n"
      ]
    },
    {
      "cell_type": "code",
      "execution_count": 116,
      "metadata": {
        "id": "UsKnl3Bi6Skl"
      },
      "outputs": [],
      "source": [
        "import pandas as pd\n",
        "data = pd.read_csv('city-of-london-stop-and-search.csv', header=0 )"
      ]
    },
    {
      "cell_type": "markdown",
      "metadata": {
        "id": "_Ac9e63I6Skl"
      },
      "source": [
        "### Q. Generate a descriptive statistics report for the columns in your dataset"
      ]
    },
    {
      "cell_type": "code",
      "execution_count": null,
      "metadata": {
        "id": "WiBV97I_6Skm"
      },
      "outputs": [],
      "source": [
        "data.head()\n",
        "data.tail()\n",
        "\n"
      ]
    },
    {
      "cell_type": "code",
      "source": [
        "data.info()"
      ],
      "metadata": {
        "colab": {
          "base_uri": "https://localhost:8080/"
        },
        "id": "OZxr8xGl9xsV",
        "outputId": "d925c5c3-795f-4604-d657-54f2c4600ede"
      },
      "execution_count": 118,
      "outputs": [
        {
          "output_type": "stream",
          "name": "stdout",
          "text": [
            "<class 'pandas.core.frame.DataFrame'>\n",
            "RangeIndex: 4679 entries, 0 to 4678\n",
            "Data columns (total 15 columns):\n",
            " #   Column                                    Non-Null Count  Dtype \n",
            "---  ------                                    --------------  ----- \n",
            " 0   Type                                      4679 non-null   object\n",
            " 1   Date                                      4679 non-null   object\n",
            " 2   Part of a policing operation              35 non-null     object\n",
            " 3   Policing operation                        35 non-null     object\n",
            " 4   Latitude                                  2398 non-null   object\n",
            " 5   Longitude                                 2398 non-null   object\n",
            " 6   Gender                                    4620 non-null   object\n",
            " 7   Age range                                 4394 non-null   object\n",
            " 8   Self-defined ethnicity                    4423 non-null   object\n",
            " 9   Officer-defined ethnicity                 4415 non-null   object\n",
            " 10  Legislation                               4635 non-null   object\n",
            " 11  Object of search                          4587 non-null   object\n",
            " 12  Outcome                                   4411 non-null   object\n",
            " 13  Outcome linked to object of search        4169 non-null   object\n",
            " 14  Removal of more than just outer clothing  4602 non-null   object\n",
            "dtypes: object(15)\n",
            "memory usage: 548.4+ KB\n"
          ]
        }
      ]
    },
    {
      "cell_type": "code",
      "source": [
        "# cardinality - count of unique values in a column\n",
        "for cname in data.columns:\n",
        "  print(cname + \" : \" + str(data[cname].value_counts().count()))"
      ],
      "metadata": {
        "colab": {
          "base_uri": "https://localhost:8080/"
        },
        "id": "ZeVJG81g-beB",
        "outputId": "587a0c8c-6dd1-4d8d-a629-fe886a1c4f8d"
      },
      "execution_count": 119,
      "outputs": [
        {
          "output_type": "stream",
          "name": "stdout",
          "text": [
            "Type : 4\n",
            "Date : 4447\n",
            "Part of a policing operation : 1\n",
            "Policing operation : 1\n",
            "Latitude : 483\n",
            "Longitude : 488\n",
            "Gender : 4\n",
            "Age range : 5\n",
            "Self-defined ethnicity : 35\n",
            "Officer-defined ethnicity : 5\n",
            "Legislation : 9\n",
            "Object of search : 12\n",
            "Outcome : 16\n",
            "Outcome linked to object of search : 3\n",
            "Removal of more than just outer clothing : 3\n"
          ]
        }
      ]
    },
    {
      "cell_type": "code",
      "source": [
        "data.describe()\n",
        "#print(data.shape)"
      ],
      "metadata": {
        "colab": {
          "base_uri": "https://localhost:8080/",
          "height": 377
        },
        "id": "358wBYmSAI6J",
        "outputId": "e3ab0511-189d-44cf-b6e5-fb43bab55d73"
      },
      "execution_count": 123,
      "outputs": [
        {
          "output_type": "execute_result",
          "data": {
            "text/plain": [
              "                 Type  Date  Part of a policing operation  Policing operation  \\\n",
              "count            4679  4679                            35                  35   \n",
              "unique              4  4447                             1                   1   \n",
              "top     Person search  Date  Part of a policing operation  Policing operation   \n",
              "freq             3325    35                            35                  35   \n",
              "\n",
              "         Latitude  Longitude Gender Age range  \\\n",
              "count        2398       2398   4620      4394   \n",
              "unique        483        488      4         5   \n",
              "top     51.527286  -0.215815   Male     18-24   \n",
              "freq          126        126   4161      1642   \n",
              "\n",
              "                 Self-defined ethnicity Officer-defined ethnicity  \\\n",
              "count                              4423                      4415   \n",
              "unique                               35                         5   \n",
              "top     Other ethnic group - Not stated                     White   \n",
              "freq                                988                      2326   \n",
              "\n",
              "                                  Legislation  Object of search  \\\n",
              "count                                    4635              4587   \n",
              "unique                                      9                12   \n",
              "top     Misuse of Drugs Act 1971 (section 23)  Controlled drugs   \n",
              "freq                                     2244              2220   \n",
              "\n",
              "                             Outcome Outcome linked to object of search  \\\n",
              "count                           4411                               4169   \n",
              "unique                            16                                  3   \n",
              "top     A no further action disposal                              False   \n",
              "freq                            1773                               2734   \n",
              "\n",
              "       Removal of more than just outer clothing  \n",
              "count                                      4602  \n",
              "unique                                        3  \n",
              "top                                       False  \n",
              "freq                                       4440  "
            ],
            "text/html": [
              "\n",
              "  <div id=\"df-86144ec6-cb5c-4de3-9aa0-165746175d5f\">\n",
              "    <div class=\"colab-df-container\">\n",
              "      <div>\n",
              "<style scoped>\n",
              "    .dataframe tbody tr th:only-of-type {\n",
              "        vertical-align: middle;\n",
              "    }\n",
              "\n",
              "    .dataframe tbody tr th {\n",
              "        vertical-align: top;\n",
              "    }\n",
              "\n",
              "    .dataframe thead th {\n",
              "        text-align: right;\n",
              "    }\n",
              "</style>\n",
              "<table border=\"1\" class=\"dataframe\">\n",
              "  <thead>\n",
              "    <tr style=\"text-align: right;\">\n",
              "      <th></th>\n",
              "      <th>Type</th>\n",
              "      <th>Date</th>\n",
              "      <th>Part of a policing operation</th>\n",
              "      <th>Policing operation</th>\n",
              "      <th>Latitude</th>\n",
              "      <th>Longitude</th>\n",
              "      <th>Gender</th>\n",
              "      <th>Age range</th>\n",
              "      <th>Self-defined ethnicity</th>\n",
              "      <th>Officer-defined ethnicity</th>\n",
              "      <th>Legislation</th>\n",
              "      <th>Object of search</th>\n",
              "      <th>Outcome</th>\n",
              "      <th>Outcome linked to object of search</th>\n",
              "      <th>Removal of more than just outer clothing</th>\n",
              "    </tr>\n",
              "  </thead>\n",
              "  <tbody>\n",
              "    <tr>\n",
              "      <th>count</th>\n",
              "      <td>4679</td>\n",
              "      <td>4679</td>\n",
              "      <td>35</td>\n",
              "      <td>35</td>\n",
              "      <td>2398</td>\n",
              "      <td>2398</td>\n",
              "      <td>4620</td>\n",
              "      <td>4394</td>\n",
              "      <td>4423</td>\n",
              "      <td>4415</td>\n",
              "      <td>4635</td>\n",
              "      <td>4587</td>\n",
              "      <td>4411</td>\n",
              "      <td>4169</td>\n",
              "      <td>4602</td>\n",
              "    </tr>\n",
              "    <tr>\n",
              "      <th>unique</th>\n",
              "      <td>4</td>\n",
              "      <td>4447</td>\n",
              "      <td>1</td>\n",
              "      <td>1</td>\n",
              "      <td>483</td>\n",
              "      <td>488</td>\n",
              "      <td>4</td>\n",
              "      <td>5</td>\n",
              "      <td>35</td>\n",
              "      <td>5</td>\n",
              "      <td>9</td>\n",
              "      <td>12</td>\n",
              "      <td>16</td>\n",
              "      <td>3</td>\n",
              "      <td>3</td>\n",
              "    </tr>\n",
              "    <tr>\n",
              "      <th>top</th>\n",
              "      <td>Person search</td>\n",
              "      <td>Date</td>\n",
              "      <td>Part of a policing operation</td>\n",
              "      <td>Policing operation</td>\n",
              "      <td>51.527286</td>\n",
              "      <td>-0.215815</td>\n",
              "      <td>Male</td>\n",
              "      <td>18-24</td>\n",
              "      <td>Other ethnic group - Not stated</td>\n",
              "      <td>White</td>\n",
              "      <td>Misuse of Drugs Act 1971 (section 23)</td>\n",
              "      <td>Controlled drugs</td>\n",
              "      <td>A no further action disposal</td>\n",
              "      <td>False</td>\n",
              "      <td>False</td>\n",
              "    </tr>\n",
              "    <tr>\n",
              "      <th>freq</th>\n",
              "      <td>3325</td>\n",
              "      <td>35</td>\n",
              "      <td>35</td>\n",
              "      <td>35</td>\n",
              "      <td>126</td>\n",
              "      <td>126</td>\n",
              "      <td>4161</td>\n",
              "      <td>1642</td>\n",
              "      <td>988</td>\n",
              "      <td>2326</td>\n",
              "      <td>2244</td>\n",
              "      <td>2220</td>\n",
              "      <td>1773</td>\n",
              "      <td>2734</td>\n",
              "      <td>4440</td>\n",
              "    </tr>\n",
              "  </tbody>\n",
              "</table>\n",
              "</div>\n",
              "      <button class=\"colab-df-convert\" onclick=\"convertToInteractive('df-86144ec6-cb5c-4de3-9aa0-165746175d5f')\"\n",
              "              title=\"Convert this dataframe to an interactive table.\"\n",
              "              style=\"display:none;\">\n",
              "        \n",
              "  <svg xmlns=\"http://www.w3.org/2000/svg\" height=\"24px\"viewBox=\"0 0 24 24\"\n",
              "       width=\"24px\">\n",
              "    <path d=\"M0 0h24v24H0V0z\" fill=\"none\"/>\n",
              "    <path d=\"M18.56 5.44l.94 2.06.94-2.06 2.06-.94-2.06-.94-.94-2.06-.94 2.06-2.06.94zm-11 1L8.5 8.5l.94-2.06 2.06-.94-2.06-.94L8.5 2.5l-.94 2.06-2.06.94zm10 10l.94 2.06.94-2.06 2.06-.94-2.06-.94-.94-2.06-.94 2.06-2.06.94z\"/><path d=\"M17.41 7.96l-1.37-1.37c-.4-.4-.92-.59-1.43-.59-.52 0-1.04.2-1.43.59L10.3 9.45l-7.72 7.72c-.78.78-.78 2.05 0 2.83L4 21.41c.39.39.9.59 1.41.59.51 0 1.02-.2 1.41-.59l7.78-7.78 2.81-2.81c.8-.78.8-2.07 0-2.86zM5.41 20L4 18.59l7.72-7.72 1.47 1.35L5.41 20z\"/>\n",
              "  </svg>\n",
              "      </button>\n",
              "      \n",
              "  <style>\n",
              "    .colab-df-container {\n",
              "      display:flex;\n",
              "      flex-wrap:wrap;\n",
              "      gap: 12px;\n",
              "    }\n",
              "\n",
              "    .colab-df-convert {\n",
              "      background-color: #E8F0FE;\n",
              "      border: none;\n",
              "      border-radius: 50%;\n",
              "      cursor: pointer;\n",
              "      display: none;\n",
              "      fill: #1967D2;\n",
              "      height: 32px;\n",
              "      padding: 0 0 0 0;\n",
              "      width: 32px;\n",
              "    }\n",
              "\n",
              "    .colab-df-convert:hover {\n",
              "      background-color: #E2EBFA;\n",
              "      box-shadow: 0px 1px 2px rgba(60, 64, 67, 0.3), 0px 1px 3px 1px rgba(60, 64, 67, 0.15);\n",
              "      fill: #174EA6;\n",
              "    }\n",
              "\n",
              "    [theme=dark] .colab-df-convert {\n",
              "      background-color: #3B4455;\n",
              "      fill: #D2E3FC;\n",
              "    }\n",
              "\n",
              "    [theme=dark] .colab-df-convert:hover {\n",
              "      background-color: #434B5C;\n",
              "      box-shadow: 0px 1px 3px 1px rgba(0, 0, 0, 0.15);\n",
              "      filter: drop-shadow(0px 1px 2px rgba(0, 0, 0, 0.3));\n",
              "      fill: #FFFFFF;\n",
              "    }\n",
              "  </style>\n",
              "\n",
              "      <script>\n",
              "        const buttonEl =\n",
              "          document.querySelector('#df-86144ec6-cb5c-4de3-9aa0-165746175d5f button.colab-df-convert');\n",
              "        buttonEl.style.display =\n",
              "          google.colab.kernel.accessAllowed ? 'block' : 'none';\n",
              "\n",
              "        async function convertToInteractive(key) {\n",
              "          const element = document.querySelector('#df-86144ec6-cb5c-4de3-9aa0-165746175d5f');\n",
              "          const dataTable =\n",
              "            await google.colab.kernel.invokeFunction('convertToInteractive',\n",
              "                                                     [key], {});\n",
              "          if (!dataTable) return;\n",
              "\n",
              "          const docLinkHtml = 'Like what you see? Visit the ' +\n",
              "            '<a target=\"_blank\" href=https://colab.research.google.com/notebooks/data_table.ipynb>data table notebook</a>'\n",
              "            + ' to learn more about interactive tables.';\n",
              "          element.innerHTML = '';\n",
              "          dataTable['output_type'] = 'display_data';\n",
              "          await google.colab.output.renderOutput(dataTable, element);\n",
              "          const docLink = document.createElement('div');\n",
              "          docLink.innerHTML = docLinkHtml;\n",
              "          element.appendChild(docLink);\n",
              "        }\n",
              "      </script>\n",
              "    </div>\n",
              "  </div>\n",
              "  "
            ]
          },
          "metadata": {},
          "execution_count": 123
        }
      ]
    },
    {
      "cell_type": "markdown",
      "metadata": {
        "id": "mpp-aSOW6Skm"
      },
      "source": [
        "# Part 2: Data Preparation"
      ]
    },
    {
      "cell_type": "markdown",
      "metadata": {
        "id": "M9I5_ljZ6Skm"
      },
      "source": [
        "### Q. Discuss the following types of missing data and how they would be handled in reference to your dataset where applicable.\n",
        "*\tMissing completely at random (MCAR)\n",
        "*\tMissing at random (MAR)\n",
        "*\tMissing Not at Random (MNAR)"
      ]
    },
    {
      "cell_type": "code",
      "execution_count": 124,
      "metadata": {
        "id": "ITGJtw_V6Skm"
      },
      "outputs": [],
      "source": [
        "# 4679 entries in Total\n",
        "#  latitude and longitude data is missing  483/488  out of 4679   so drop columns\n",
        "#  drop policing and part of policing columns by filtering out.\n",
        "\n",
        "df1 = data.dropna(how = 'all')   #first drop all rows that contain no data\n",
        "\n",
        "#df2 = data.drop(data.index[data['Date'] == \"Date\"])  # remove rows containing 'Date' in Date column\n",
        "#df.drop(df.index[df['Col1'] == 0], inplace=True)\n",
        "\n",
        "#df2 = data.loc[:, ['Type', 'Date', 'Gender', 'Age range', 'Self-defined ethnicity', 'Officer-defined ethnicity', 'Legislation', 'Object of search', 'Outcome', 'Outcome linked to object of search', ]]"
      ]
    },
    {
      "cell_type": "code",
      "source": [
        "df1.shape"
      ],
      "metadata": {
        "id": "PuhW0X5sMgeo"
      },
      "execution_count": null,
      "outputs": []
    },
    {
      "cell_type": "code",
      "source": [
        "df1.describe()"
      ],
      "metadata": {
        "id": "_Ku3-FH9HUcr"
      },
      "execution_count": null,
      "outputs": []
    },
    {
      "cell_type": "code",
      "source": [
        "#remove all rows where they are all nulls\n",
        "#df2 = df1.dropna(how='all')\n",
        "\n",
        "# fill Outcome linked ... column with Falses in place of nulls\n",
        "df_missing = df1['Outcome linked to object of search'].fillna(False)\n",
        "df1['Outcome linked to object of search']= df_missing\n",
        "df1.head()"
      ],
      "metadata": {
        "colab": {
          "base_uri": "https://localhost:8080/",
          "height": 459
        },
        "id": "h2uF2scOjuSp",
        "outputId": "b473f86e-1e97-4a68-b335-477b3f97061e"
      },
      "execution_count": 102,
      "outputs": [
        {
          "output_type": "execute_result",
          "data": {
            "text/plain": [
              "                        Type                       Date  Gender Age range  \\\n",
              "0              Person search  2016-10-01T13:16:00+00:00    Male     18-24   \n",
              "1              Person search  2016-10-01T22:30:00+00:00    Male     25-34   \n",
              "2  Person and Vehicle search  2016-10-02T00:15:00+00:00    Male     18-24   \n",
              "3  Person and Vehicle search  2016-10-02T00:15:00+00:00  Female     18-24   \n",
              "4  Person and Vehicle search  2016-10-04T13:05:00+00:00    Male     18-24   \n",
              "\n",
              "                           Self-defined ethnicity Officer-defined ethnicity  \\\n",
              "0           Black or Black British - African (B2)                     White   \n",
              "1  White - Any other White ethnic background (W9)                     White   \n",
              "2           Black or Black British - African (B2)                     Black   \n",
              "3           Black or Black British - African (B2)                     Black   \n",
              "4  White - Any other White ethnic background (W9)                     White   \n",
              "\n",
              "                             Legislation  Object of search  \\\n",
              "0  Misuse of Drugs Act 1971 (section 23)  Controlled drugs   \n",
              "1  Misuse of Drugs Act 1971 (section 23)  Controlled drugs   \n",
              "2  Misuse of Drugs Act 1971 (section 23)  Controlled drugs   \n",
              "3  Misuse of Drugs Act 1971 (section 23)  Controlled drugs   \n",
              "4  Misuse of Drugs Act 1971 (section 23)  Controlled drugs   \n",
              "\n",
              "                                   Outcome Outcome linked to object of search  \n",
              "0  Offender given drugs possession warning                               True  \n",
              "1        Nothing found - no further action                              False  \n",
              "2               Suspect summonsed to court                              False  \n",
              "3        Nothing found - no further action                              False  \n",
              "4                         Suspect arrested                               True  "
            ],
            "text/html": [
              "\n",
              "  <div id=\"df-294c8453-f4f8-41b1-b89e-fbfe438b13a9\">\n",
              "    <div class=\"colab-df-container\">\n",
              "      <div>\n",
              "<style scoped>\n",
              "    .dataframe tbody tr th:only-of-type {\n",
              "        vertical-align: middle;\n",
              "    }\n",
              "\n",
              "    .dataframe tbody tr th {\n",
              "        vertical-align: top;\n",
              "    }\n",
              "\n",
              "    .dataframe thead th {\n",
              "        text-align: right;\n",
              "    }\n",
              "</style>\n",
              "<table border=\"1\" class=\"dataframe\">\n",
              "  <thead>\n",
              "    <tr style=\"text-align: right;\">\n",
              "      <th></th>\n",
              "      <th>Type</th>\n",
              "      <th>Date</th>\n",
              "      <th>Gender</th>\n",
              "      <th>Age range</th>\n",
              "      <th>Self-defined ethnicity</th>\n",
              "      <th>Officer-defined ethnicity</th>\n",
              "      <th>Legislation</th>\n",
              "      <th>Object of search</th>\n",
              "      <th>Outcome</th>\n",
              "      <th>Outcome linked to object of search</th>\n",
              "    </tr>\n",
              "  </thead>\n",
              "  <tbody>\n",
              "    <tr>\n",
              "      <th>0</th>\n",
              "      <td>Person search</td>\n",
              "      <td>2016-10-01T13:16:00+00:00</td>\n",
              "      <td>Male</td>\n",
              "      <td>18-24</td>\n",
              "      <td>Black or Black British - African (B2)</td>\n",
              "      <td>White</td>\n",
              "      <td>Misuse of Drugs Act 1971 (section 23)</td>\n",
              "      <td>Controlled drugs</td>\n",
              "      <td>Offender given drugs possession warning</td>\n",
              "      <td>True</td>\n",
              "    </tr>\n",
              "    <tr>\n",
              "      <th>1</th>\n",
              "      <td>Person search</td>\n",
              "      <td>2016-10-01T22:30:00+00:00</td>\n",
              "      <td>Male</td>\n",
              "      <td>25-34</td>\n",
              "      <td>White - Any other White ethnic background (W9)</td>\n",
              "      <td>White</td>\n",
              "      <td>Misuse of Drugs Act 1971 (section 23)</td>\n",
              "      <td>Controlled drugs</td>\n",
              "      <td>Nothing found - no further action</td>\n",
              "      <td>False</td>\n",
              "    </tr>\n",
              "    <tr>\n",
              "      <th>2</th>\n",
              "      <td>Person and Vehicle search</td>\n",
              "      <td>2016-10-02T00:15:00+00:00</td>\n",
              "      <td>Male</td>\n",
              "      <td>18-24</td>\n",
              "      <td>Black or Black British - African (B2)</td>\n",
              "      <td>Black</td>\n",
              "      <td>Misuse of Drugs Act 1971 (section 23)</td>\n",
              "      <td>Controlled drugs</td>\n",
              "      <td>Suspect summonsed to court</td>\n",
              "      <td>False</td>\n",
              "    </tr>\n",
              "    <tr>\n",
              "      <th>3</th>\n",
              "      <td>Person and Vehicle search</td>\n",
              "      <td>2016-10-02T00:15:00+00:00</td>\n",
              "      <td>Female</td>\n",
              "      <td>18-24</td>\n",
              "      <td>Black or Black British - African (B2)</td>\n",
              "      <td>Black</td>\n",
              "      <td>Misuse of Drugs Act 1971 (section 23)</td>\n",
              "      <td>Controlled drugs</td>\n",
              "      <td>Nothing found - no further action</td>\n",
              "      <td>False</td>\n",
              "    </tr>\n",
              "    <tr>\n",
              "      <th>4</th>\n",
              "      <td>Person and Vehicle search</td>\n",
              "      <td>2016-10-04T13:05:00+00:00</td>\n",
              "      <td>Male</td>\n",
              "      <td>18-24</td>\n",
              "      <td>White - Any other White ethnic background (W9)</td>\n",
              "      <td>White</td>\n",
              "      <td>Misuse of Drugs Act 1971 (section 23)</td>\n",
              "      <td>Controlled drugs</td>\n",
              "      <td>Suspect arrested</td>\n",
              "      <td>True</td>\n",
              "    </tr>\n",
              "  </tbody>\n",
              "</table>\n",
              "</div>\n",
              "      <button class=\"colab-df-convert\" onclick=\"convertToInteractive('df-294c8453-f4f8-41b1-b89e-fbfe438b13a9')\"\n",
              "              title=\"Convert this dataframe to an interactive table.\"\n",
              "              style=\"display:none;\">\n",
              "        \n",
              "  <svg xmlns=\"http://www.w3.org/2000/svg\" height=\"24px\"viewBox=\"0 0 24 24\"\n",
              "       width=\"24px\">\n",
              "    <path d=\"M0 0h24v24H0V0z\" fill=\"none\"/>\n",
              "    <path d=\"M18.56 5.44l.94 2.06.94-2.06 2.06-.94-2.06-.94-.94-2.06-.94 2.06-2.06.94zm-11 1L8.5 8.5l.94-2.06 2.06-.94-2.06-.94L8.5 2.5l-.94 2.06-2.06.94zm10 10l.94 2.06.94-2.06 2.06-.94-2.06-.94-.94-2.06-.94 2.06-2.06.94z\"/><path d=\"M17.41 7.96l-1.37-1.37c-.4-.4-.92-.59-1.43-.59-.52 0-1.04.2-1.43.59L10.3 9.45l-7.72 7.72c-.78.78-.78 2.05 0 2.83L4 21.41c.39.39.9.59 1.41.59.51 0 1.02-.2 1.41-.59l7.78-7.78 2.81-2.81c.8-.78.8-2.07 0-2.86zM5.41 20L4 18.59l7.72-7.72 1.47 1.35L5.41 20z\"/>\n",
              "  </svg>\n",
              "      </button>\n",
              "      \n",
              "  <style>\n",
              "    .colab-df-container {\n",
              "      display:flex;\n",
              "      flex-wrap:wrap;\n",
              "      gap: 12px;\n",
              "    }\n",
              "\n",
              "    .colab-df-convert {\n",
              "      background-color: #E8F0FE;\n",
              "      border: none;\n",
              "      border-radius: 50%;\n",
              "      cursor: pointer;\n",
              "      display: none;\n",
              "      fill: #1967D2;\n",
              "      height: 32px;\n",
              "      padding: 0 0 0 0;\n",
              "      width: 32px;\n",
              "    }\n",
              "\n",
              "    .colab-df-convert:hover {\n",
              "      background-color: #E2EBFA;\n",
              "      box-shadow: 0px 1px 2px rgba(60, 64, 67, 0.3), 0px 1px 3px 1px rgba(60, 64, 67, 0.15);\n",
              "      fill: #174EA6;\n",
              "    }\n",
              "\n",
              "    [theme=dark] .colab-df-convert {\n",
              "      background-color: #3B4455;\n",
              "      fill: #D2E3FC;\n",
              "    }\n",
              "\n",
              "    [theme=dark] .colab-df-convert:hover {\n",
              "      background-color: #434B5C;\n",
              "      box-shadow: 0px 1px 3px 1px rgba(0, 0, 0, 0.15);\n",
              "      filter: drop-shadow(0px 1px 2px rgba(0, 0, 0, 0.3));\n",
              "      fill: #FFFFFF;\n",
              "    }\n",
              "  </style>\n",
              "\n",
              "      <script>\n",
              "        const buttonEl =\n",
              "          document.querySelector('#df-294c8453-f4f8-41b1-b89e-fbfe438b13a9 button.colab-df-convert');\n",
              "        buttonEl.style.display =\n",
              "          google.colab.kernel.accessAllowed ? 'block' : 'none';\n",
              "\n",
              "        async function convertToInteractive(key) {\n",
              "          const element = document.querySelector('#df-294c8453-f4f8-41b1-b89e-fbfe438b13a9');\n",
              "          const dataTable =\n",
              "            await google.colab.kernel.invokeFunction('convertToInteractive',\n",
              "                                                     [key], {});\n",
              "          if (!dataTable) return;\n",
              "\n",
              "          const docLinkHtml = 'Like what you see? Visit the ' +\n",
              "            '<a target=\"_blank\" href=https://colab.research.google.com/notebooks/data_table.ipynb>data table notebook</a>'\n",
              "            + ' to learn more about interactive tables.';\n",
              "          element.innerHTML = '';\n",
              "          dataTable['output_type'] = 'display_data';\n",
              "          await google.colab.output.renderOutput(dataTable, element);\n",
              "          const docLink = document.createElement('div');\n",
              "          docLink.innerHTML = docLinkHtml;\n",
              "          element.appendChild(docLink);\n",
              "        }\n",
              "      </script>\n",
              "    </div>\n",
              "  </div>\n",
              "  "
            ]
          },
          "metadata": {},
          "execution_count": 102
        }
      ]
    },
    {
      "cell_type": "code",
      "source": [
        ""
      ],
      "metadata": {
        "id": "UVVlY2blOVgG"
      },
      "execution_count": null,
      "outputs": []
    },
    {
      "cell_type": "code",
      "source": [
        "from pandas.core.dtypes.missing import isna\n",
        "\n"
      ],
      "metadata": {
        "id": "47cNsZ3Dk4ez"
      },
      "execution_count": null,
      "outputs": []
    },
    {
      "cell_type": "code",
      "source": [
        "#\n",
        "\n",
        "\n",
        "           \n"
      ],
      "metadata": {
        "id": "KVw3iyZ5IViR"
      },
      "execution_count": null,
      "outputs": []
    },
    {
      "cell_type": "code",
      "source": [
        "#conv = lambda t : t.split('T')[0]\n",
        "#df2['date_year'] = df2['Date'].apply(conv)\n",
        "#df2['date_year'] = pd.to_datetime(df2['date_year'], format= '%Y')\n",
        "#conv = lambda x : if \n",
        "\n"
      ],
      "metadata": {
        "id": "aFvV4lfWRSDw"
      },
      "execution_count": null,
      "outputs": []
    },
    {
      "cell_type": "markdown",
      "metadata": {
        "id": "L8i0ZUm56Skn"
      },
      "source": [
        "# Part 3: Model Selection"
      ]
    },
    {
      "cell_type": "code",
      "source": [
        "[16:00] Shantanu Pandey (Guest)\n",
        "typekeys = data['Type'].value_counts().keys()\n",
        "\n",
        "[16:01] Shantanu Pandey (Guest)\n",
        "type_dict = dict()for i,j in enumerate(typekeys):type_dict[i] = j\n",
        "\n",
        "[16:02] Shantanu Pandey (Guest)\n",
        "type_conv = lambda type: type_dict[type] \n",
        "\n",
        "[16:02] Shantanu Pandey (Guest)\n",
        "data['Type'] = data['Type'].apply(type_conv) \n",
        "\n",
        "[16:03] Shantanu Pandey (Guest)\n",
        "new code\n",
        "\n",
        "[16:04] Shantanu Pandey (Guest)\n",
        "allcols = [ 'type', 'Gender', 'Age range'..]for col in allcols:typekeys = data[col].value_counts().keys()\n",
        "type_dict = dict()\n",
        "for i,j in enumerate(typekeys):\n",
        "-type_dict[i] = jtype_conv = lambda type: type_dict[type] data[col] = data[col].apply(type_conv) \n",
        "\n"
      ],
      "metadata": {
        "id": "d8mFLaZ2VXbR"
      },
      "execution_count": null,
      "outputs": []
    },
    {
      "cell_type": "markdown",
      "metadata": {
        "id": "d6rDLNIf6Skn"
      },
      "source": [
        "### Q. Use the cheat sheet below to choose the algorithm/estimator suitable for building a model to address your candidate question(s)\n",
        "\n",
        "* https://scikit-learn.org/stable/tutorial/machine_learning_map/"
      ]
    },
    {
      "cell_type": "markdown",
      "metadata": {
        "id": "jT6MftDC6Skn"
      },
      "source": [
        ""
      ]
    },
    {
      "cell_type": "markdown",
      "metadata": {
        "id": "xY1C654E6Skn"
      },
      "source": [
        "# Part 4: Model Evaluation"
      ]
    },
    {
      "cell_type": "markdown",
      "metadata": {
        "id": "u6bO2Aby6Sko"
      },
      "source": [
        "### Q. Identify which of the statistical measures below are suitable for the evaluation of your model.\n",
        "\n",
        "Classification Metrics:\n",
        "* Accuracy\n",
        "* Precision\n",
        "* Recall\n",
        "* F1 Score\n",
        "\n",
        "Regression Metrics:\n",
        "    \n",
        "* Mean absolute error (MAE)\n",
        "* Root mean squared error (RMSE)\n",
        "* Relative absolute error (RAE)\n",
        "* Relative squared error (RSE)\n",
        "* Mean Zero One Error (MZOE)\n",
        "* Coefficient of determination\n",
        "\n",
        " "
      ]
    },
    {
      "cell_type": "code",
      "execution_count": null,
      "metadata": {
        "id": "0Et8TfHe6Sko"
      },
      "outputs": [],
      "source": [
        ""
      ]
    },
    {
      "cell_type": "markdown",
      "metadata": {
        "id": "zfGN07IV6Sko"
      },
      "source": [
        "# Part 5: Stretch - Model Deployment"
      ]
    },
    {
      "cell_type": "markdown",
      "metadata": {
        "id": "Y4YwJk6s6Skp"
      },
      "source": [
        "### Q. Evaluate the open-source app framework for Machine Learning model deployment below in your own time.\n",
        "\n",
        "* https://streamlit.io/"
      ]
    },
    {
      "cell_type": "code",
      "execution_count": null,
      "metadata": {
        "id": "WvHp1p_L6Skp"
      },
      "outputs": [],
      "source": [
        ""
      ]
    }
  ],
  "metadata": {
    "kernelspec": {
      "display_name": "Python 3",
      "language": "python",
      "name": "python3"
    },
    "language_info": {
      "codemirror_mode": {
        "name": "ipython",
        "version": 3
      },
      "file_extension": ".py",
      "mimetype": "text/x-python",
      "name": "python",
      "nbconvert_exporter": "python",
      "pygments_lexer": "ipython3",
      "version": "3.7.4"
    },
    "colab": {
      "name": "Choosing the right estimator.ipynb",
      "provenance": [],
      "include_colab_link": true
    }
  },
  "nbformat": 4,
  "nbformat_minor": 0
}